{
  "nbformat": 4,
  "nbformat_minor": 0,
  "metadata": {
    "colab": {
      "name": "Copy of CNN-Diabetes.ipynb",
      "provenance": [],
      "collapsed_sections": [
        "mfsZj2bcTvkw",
        "hhhcyWCqUG4P",
        "pMpAr3gIYNRY",
        "SYtVciHudgKw",
        "Cp2xOUQgjlMQ",
        "roe6IkANhyfP",
        "uLPL9OXtv2Po"
      ],
      "toc_visible": true
    },
    "kernelspec": {
      "name": "python3",
      "display_name": "Python 3"
    },
    "language_info": {
      "name": "python"
    }
  },
  "cells": [
    {
      "cell_type": "markdown",
      "source": [
        "# INPUT & DATA"
      ],
      "metadata": {
        "id": "mfsZj2bcTvkw"
      }
    },
    {
      "cell_type": "code",
      "source": [
        "import numpy as np\n",
        "import pandas as pd\n",
        "import seaborn as sns\n",
        "from matplotlib import pyplot as plt\n",
        "\n",
        "import tensorflow as tf\n",
        "from tensorflow.keras.models import Sequential\n",
        "from tensorflow.keras.layers import Dense\n",
        "\n",
        "from sklearn.model_selection import train_test_split"
      ],
      "metadata": {
        "id": "1WGOVE0oUc_1"
      },
      "execution_count": null,
      "outputs": []
    },
    {
      "cell_type": "code",
      "source": [
        "# Read file\n",
        "df = pd.read_csv('/data/diabetes.csv')"
      ],
      "metadata": {
        "id": "stsfQw5QRr7n"
      },
      "execution_count": null,
      "outputs": []
    },
    {
      "cell_type": "markdown",
      "source": [
        "# Exploratory Data Analysis"
      ],
      "metadata": {
        "id": "hhhcyWCqUG4P"
      }
    },
    {
      "cell_type": "code",
      "source": [
        "# Histogram to explore the distribution of each feature\n",
        "df.hist()\n",
        "plt.show()"
      ],
      "metadata": {
        "colab": {
          "base_uri": "https://localhost:8080/"
        },
        "id": "leRP8EDtUMGw",
        "outputId": "3999e9a9-4d4a-4f2b-8b04-cb17f44d6a24"
      },
      "execution_count": null,
      "outputs": [
        {
          "output_type": "display_data",
          "data": {
            "text/plain": [
              "<Figure size 432x288 with 9 Axes>"
            ],
            "image/png": "[encoded data removed]"
          },
          "metadata": {
            "needs_background": "light"
          }
        }
      ]
    },
    {
      "cell_type": "markdown",
      "source": [
        "**- `Pregnancies`** The data skews to the right with some outliers (more than 15)\n",
        "\n",
        "**- `Glucose`, `BloodPressure` & `BMI`:** Follow the normal distribution. However, the data observes some values of 0s, which is logically abnormal. These should be considered as non or missing values.*italicized text*"
      ],
      "metadata": {
        "id": "VC1Pr8ggU3xY"
      }
    },
    {
      "cell_type": "code",
      "source": [
        "# The difference between output values on each feature for FEATURE SELECTION\n",
        "\n",
        "# create a subplot of 3 x 3\n",
        "plt.subplots(3,3,figsize=(15,15))\n",
        "\n",
        "# Plot a density plot for each variable\n",
        "for idx, col in enumerate(df.columns):\n",
        "    ax = plt.subplot(3,3,idx+1)\n",
        "    ax.yaxis.set_ticklabels([])\n",
        "    sns.distplot(df.loc[df.Outcome == 0][col], hist=False, axlabel= False, \n",
        "    kde_kws={'linestyle':'-',  \n",
        "    'color':'black', 'label':\"No Diabetes\"})\n",
        "    sns.distplot(df.loc[df.Outcome == 1][col], hist=False, axlabel= False, \n",
        "    kde_kws={'linestyle':'--', \n",
        "    'color':'black', 'label':\"Diabetes\"})\n",
        "    ax.set_title(col)\n",
        "\n",
        "# Hide the 9th subplot (bottom right) since there are only 8 plots\n",
        "plt.subplot(3,3,9).set_visible(False)\n",
        "\n",
        "plt.show()"
      ],
      "metadata": {
        "id": "A_t-RelsUxcA"
      },
      "execution_count": null,
      "outputs": []
    },
    {
      "cell_type": "markdown",
      "source": [
        "- `Glucose`, `Age` variables are strong predictors for Diabetes vs Non-diabetes\n",
        "- `BMI` variables are medium predictors\n",
        "- `BloodPressure` & `SkinThickness` are poor predictors"
      ],
      "metadata": {
        "id": "JXcXIWheWumA"
      }
    },
    {
      "cell_type": "markdown",
      "source": [
        "# Data Preprocessing"
      ],
      "metadata": {
        "id": "pMpAr3gIYNRY"
      }
    },
    {
      "cell_type": "code",
      "source": [
        "# Handling missing values\n",
        "print(df.isnull().any())"
      ],
      "metadata": {
        "colab": {
          "base_uri": "https://localhost:8080/"
        },
        "id": "-2K87mOUYPNy",
        "outputId": "dcc8a077-dd4b-4c2b-e03c-e6db075f11c7"
      },
      "execution_count": null,
      "outputs": [
        {
          "output_type": "stream",
          "name": "stdout",
          "text": [
            "Pregnancies                 False\n",
            "Glucose                     False\n",
            "BloodPressure               False\n",
            "SkinThickness               False\n",
            "Insulin                     False\n",
            "BMI                         False\n",
            "DiabetesPedigreeFunction    False\n",
            "Age                         False\n",
            "Outcome                     False\n",
            "dtype: bool\n"
          ]
        }
      ]
    },
    {
      "cell_type": "code",
      "source": [
        "# Leverage domain knowledge to handle missing values\n",
        "df.describe()"
      ],
      "metadata": {
        "colab": {
          "base_uri": "https://localhost:8080/"
        },
        "id": "y36aoyJcYhmx",
        "outputId": "2b2416ca-6564-47f8-d796-6a34cc94b846"
      },
      "execution_count": null,
      "outputs": [
        {
          "output_type": "execute_result",
          "data": {
            "text/plain": [
              "       Pregnancies     Glucose  BloodPressure  SkinThickness     Insulin  \\\n",
              "count   768.000000  768.000000     768.000000     768.000000  768.000000   \n",
              "mean      3.845052  120.894531      69.105469      20.536458   79.799479   \n",
              "std       3.369578   31.972618      19.355807      15.952218  115.244002   \n",
              "min       0.000000    0.000000       0.000000       0.000000    0.000000   \n",
              "25%       1.000000   99.000000      62.000000       0.000000    0.000000   \n",
              "50%       3.000000  117.000000      72.000000      23.000000   30.500000   \n",
              "75%       6.000000  140.250000      80.000000      32.000000  127.250000   \n",
              "max      17.000000  199.000000     122.000000      99.000000  846.000000   \n",
              "\n",
              "              BMI  DiabetesPedigreeFunction         Age     Outcome  \n",
              "count  768.000000                768.000000  768.000000  768.000000  \n",
              "mean    31.992578                  0.471876   33.240885    0.348958  \n",
              "std      7.884160                  0.331329   11.760232    0.476951  \n",
              "min      0.000000                  0.078000   21.000000    0.000000  \n",
              "25%     27.300000                  0.243750   24.000000    0.000000  \n",
              "50%     32.000000                  0.372500   29.000000    0.000000  \n",
              "75%     36.600000                  0.626250   41.000000    1.000000  \n",
              "max     67.100000                  2.420000   81.000000    1.000000  "
            ],
            "text/html": [
              "\n",
              "  <div id=\"df-fb328e66-c524-4e5d-bc5d-1cf4f39de259\">\n",
              "    <div class=\"colab-df-container\">\n",
              "      <div>\n",
              "<style scoped>\n",
              "    .dataframe tbody tr th:only-of-type {\n",
              "        vertical-align: middle;\n",
              "    }\n",
              "\n",
              "    .dataframe tbody tr th {\n",
              "        vertical-align: top;\n",
              "    }\n",
              "\n",
              "    .dataframe thead th {\n",
              "        text-align: right;\n",
              "    }\n",
              "</style>\n",
              "<table border=\"1\" class=\"dataframe\">\n",
              "  <thead>\n",
              "    <tr style=\"text-align: right;\">\n",
              "      <th></th>\n",
              "      <th>Pregnancies</th>\n",
              "      <th>Glucose</th>\n",
              "      <th>BloodPressure</th>\n",
              "      <th>SkinThickness</th>\n",
              "      <th>Insulin</th>\n",
              "      <th>BMI</th>\n",
              "      <th>DiabetesPedigreeFunction</th>\n",
              "      <th>Age</th>\n",
              "      <th>Outcome</th>\n",
              "    </tr>\n",
              "  </thead>\n",
              "  <tbody>\n",
              "    <tr>\n",
              "      <th>count</th>\n",
              "      <td>768.000000</td>\n",
              "      <td>768.000000</td>\n",
              "      <td>768.000000</td>\n",
              "      <td>768.000000</td>\n",
              "      <td>768.000000</td>\n",
              "      <td>768.000000</td>\n",
              "      <td>768.000000</td>\n",
              "      <td>768.000000</td>\n",
              "      <td>768.000000</td>\n",
              "    </tr>\n",
              "    <tr>\n",
              "      <th>mean</th>\n",
              "      <td>3.845052</td>\n",
              "      <td>120.894531</td>\n",
              "      <td>69.105469</td>\n",
              "      <td>20.536458</td>\n",
              "      <td>79.799479</td>\n",
              "      <td>31.992578</td>\n",
              "      <td>0.471876</td>\n",
              "      <td>33.240885</td>\n",
              "      <td>0.348958</td>\n",
              "    </tr>\n",
              "    <tr>\n",
              "      <th>std</th>\n",
              "      <td>3.369578</td>\n",
              "      <td>31.972618</td>\n",
              "      <td>19.355807</td>\n",
              "      <td>15.952218</td>\n",
              "      <td>115.244002</td>\n",
              "      <td>7.884160</td>\n",
              "      <td>0.331329</td>\n",
              "      <td>11.760232</td>\n",
              "      <td>0.476951</td>\n",
              "    </tr>\n",
              "    <tr>\n",
              "      <th>min</th>\n",
              "      <td>0.000000</td>\n",
              "      <td>0.000000</td>\n",
              "      <td>0.000000</td>\n",
              "      <td>0.000000</td>\n",
              "      <td>0.000000</td>\n",
              "      <td>0.000000</td>\n",
              "      <td>0.078000</td>\n",
              "      <td>21.000000</td>\n",
              "      <td>0.000000</td>\n",
              "    </tr>\n",
              "    <tr>\n",
              "      <th>25%</th>\n",
              "      <td>1.000000</td>\n",
              "      <td>99.000000</td>\n",
              "      <td>62.000000</td>\n",
              "      <td>0.000000</td>\n",
              "      <td>0.000000</td>\n",
              "      <td>27.300000</td>\n",
              "      <td>0.243750</td>\n",
              "      <td>24.000000</td>\n",
              "      <td>0.000000</td>\n",
              "    </tr>\n",
              "    <tr>\n",
              "      <th>50%</th>\n",
              "      <td>3.000000</td>\n",
              "      <td>117.000000</td>\n",
              "      <td>72.000000</td>\n",
              "      <td>23.000000</td>\n",
              "      <td>30.500000</td>\n",
              "      <td>32.000000</td>\n",
              "      <td>0.372500</td>\n",
              "      <td>29.000000</td>\n",
              "      <td>0.000000</td>\n",
              "    </tr>\n",
              "    <tr>\n",
              "      <th>75%</th>\n",
              "      <td>6.000000</td>\n",
              "      <td>140.250000</td>\n",
              "      <td>80.000000</td>\n",
              "      <td>32.000000</td>\n",
              "      <td>127.250000</td>\n",
              "      <td>36.600000</td>\n",
              "      <td>0.626250</td>\n",
              "      <td>41.000000</td>\n",
              "      <td>1.000000</td>\n",
              "    </tr>\n",
              "    <tr>\n",
              "      <th>max</th>\n",
              "      <td>17.000000</td>\n",
              "      <td>199.000000</td>\n",
              "      <td>122.000000</td>\n",
              "      <td>99.000000</td>\n",
              "      <td>846.000000</td>\n",
              "      <td>67.100000</td>\n",
              "      <td>2.420000</td>\n",
              "      <td>81.000000</td>\n",
              "      <td>1.000000</td>\n",
              "    </tr>\n",
              "  </tbody>\n",
              "</table>\n",
              "</div>\n",
              "      <button class=\"colab-df-convert\" onclick=\"convertToInteractive('df-fb328e66-c524-4e5d-bc5d-1cf4f39de259')\"\n",
              "              title=\"Convert this dataframe to an interactive table.\"\n",
              "              style=\"display:none;\">\n",
              "        \n",
              "  <svg xmlns=\"http://www.w3.org/2000/svg\" height=\"24px\"viewBox=\"0 0 24 24\"\n",
              "       width=\"24px\">\n",
              "    <path d=\"M0 0h24v24H0V0z\" fill=\"none\"/>\n",
              "    <path d=\"M18.56 5.44l.94 2.06.94-2.06 2.06-.94-2.06-.94-.94-2.06-.94 2.06-2.06.94zm-11 1L8.5 8.5l.94-2.06 2.06-.94-2.06-.94L8.5 2.5l-.94 2.06-2.06.94zm10 10l.94 2.06.94-2.06 2.06-.94-2.06-.94-.94-2.06-.94 2.06-2.06.94z\"/><path d=\"M17.41 7.96l-1.37-1.37c-.4-.4-.92-.59-1.43-.59-.52 0-1.04.2-1.43.59L10.3 9.45l-7.72 7.72c-.78.78-.78 2.05 0 2.83L4 21.41c.39.39.9.59 1.41.59.51 0 1.02-.2 1.41-.59l7.78-7.78 2.81-2.81c.8-.78.8-2.07 0-2.86zM5.41 20L4 18.59l7.72-7.72 1.47 1.35L5.41 20z\"/>\n",
              "  </svg>\n",
              "      </button>\n",
              "      \n",
              "  <style>\n",
              "    .colab-df-container {\n",
              "      display:flex;\n",
              "      flex-wrap:wrap;\n",
              "      gap: 12px;\n",
              "    }\n",
              "\n",
              "    .colab-df-convert {\n",
              "      background-color: #E8F0FE;\n",
              "      border: none;\n",
              "      border-radius: 50%;\n",
              "      cursor: pointer;\n",
              "      display: none;\n",
              "      fill: #1967D2;\n",
              "      height: 32px;\n",
              "      padding: 0 0 0 0;\n",
              "      width: 32px;\n",
              "    }\n",
              "\n",
              "    .colab-df-convert:hover {\n",
              "      background-color: #E2EBFA;\n",
              "      box-shadow: 0px 1px 2px rgba(60, 64, 67, 0.3), 0px 1px 3px 1px rgba(60, 64, 67, 0.15);\n",
              "      fill: #174EA6;\n",
              "    }\n",
              "\n",
              "    [theme=dark] .colab-df-convert {\n",
              "      background-color: #3B4455;\n",
              "      fill: #D2E3FC;\n",
              "    }\n",
              "\n",
              "    [theme=dark] .colab-df-convert:hover {\n",
              "      background-color: #434B5C;\n",
              "      box-shadow: 0px 1px 3px 1px rgba(0, 0, 0, 0.15);\n",
              "      filter: drop-shadow(0px 1px 2px rgba(0, 0, 0, 0.3));\n",
              "      fill: #FFFFFF;\n",
              "    }\n",
              "  </style>\n",
              "\n",
              "      <script>\n",
              "        const buttonEl =\n",
              "          document.querySelector('#df-fb328e66-c524-4e5d-bc5d-1cf4f39de259 button.colab-df-convert');\n",
              "        buttonEl.style.display =\n",
              "          google.colab.kernel.accessAllowed ? 'block' : 'none';\n",
              "\n",
              "        async function convertToInteractive(key) {\n",
              "          const element = document.querySelector('#df-fb328e66-c524-4e5d-bc5d-1cf4f39de259');\n",
              "          const dataTable =\n",
              "            await google.colab.kernel.invokeFunction('convertToInteractive',\n",
              "                                                     [key], {});\n",
              "          if (!dataTable) return;\n",
              "\n",
              "          const docLinkHtml = 'Like what you see? Visit the ' +\n",
              "            '<a target=\"_blank\" href=https://colab.research.google.com/notebooks/data_table.ipynb>data table notebook</a>'\n",
              "            + ' to learn more about interactive tables.';\n",
              "          element.innerHTML = '';\n",
              "          dataTable['output_type'] = 'display_data';\n",
              "          await google.colab.output.renderOutput(dataTable, element);\n",
              "          const docLink = document.createElement('div');\n",
              "          docLink.innerHTML = docLinkHtml;\n",
              "          element.appendChild(docLink);\n",
              "        }\n",
              "      </script>\n",
              "    </div>\n",
              "  </div>\n",
              "  "
            ]
          },
          "metadata": {},
          "execution_count": 8
        }
      ]
    },
    {
      "cell_type": "markdown",
      "source": [
        "- Glucose, BloodPressure, SkinThickness, Insulin & BMI all have min value at 0, which is logically unrealistic. "
      ],
      "metadata": {
        "id": "asEkYfejY6jo"
      }
    },
    {
      "cell_type": "code",
      "source": [
        "print(\"Number of rows with 0 values:\")\n",
        "for col in df.columns:\n",
        "  missing_rows = df.loc[df[col]==0].shape[0]\n",
        "  if col in ['Glucose', 'BloodPressure', 'SkinThickness', 'Insulin', 'BMI']:\n",
        "    print(f'{col}: {missing_rows}, take {round((missing_rows/len(df)),2)*100}%')"
      ],
      "metadata": {
        "colab": {
          "base_uri": "https://localhost:8080/"
        },
        "id": "bc71x0XdYp6Q",
        "outputId": "00641250-a36a-436c-c821-93ca7b777b28"
      },
      "execution_count": null,
      "outputs": [
        {
          "output_type": "stream",
          "name": "stdout",
          "text": [
            "Number of rows with 0 values:\n",
            "Glucose: 5, take 1.0%\n",
            "BloodPressure: 35, take 5.0%\n",
            "SkinThickness: 227, take 30.0%\n",
            "Insulin: 374, take 49.0%\n",
            "BMI: 11, take 1.0%\n"
          ]
        }
      ]
    },
    {
      "cell_type": "markdown",
      "source": [
        "Now, we have to handle these 0 values. There are 3 ways to do so:\n",
        "- Remove the rows\n",
        "- Replace by mean, mode value\n",
        "- Using a specific model only to predict this value based on other fields.\n",
        "\n",
        "As nearly half of Insulin values are invalid, we can not use the method 1. Plus, these values are in continous columns, means option 3 is not the deal. Let's use method 2."
      ],
      "metadata": {
        "id": "oCxLgZsraYsQ"
      }
    },
    {
      "cell_type": "code",
      "source": [
        "# Replace 0 values with NaN so pandas can easy figure out later\n",
        "\n",
        "for col in ['Glucose', 'BloodPressure', 'SkinThickness', 'Insulin', 'BMI']:\n",
        "  df[col] = df[col].replace(0, np.nan)"
      ],
      "metadata": {
        "id": "sunsn8wYaBTH"
      },
      "execution_count": null,
      "outputs": []
    },
    {
      "cell_type": "code",
      "source": [
        "# Let's recheck if there are 0 values in these columns\n",
        "for col in df.columns:\n",
        "  missing_rows = df.loc[df[col]==0].shape[0]\n",
        "  if col in ['Glucose', 'BloodPressure', 'SkinThickness', 'Insulin', 'BMI']:\n",
        "    print(f'{col}: {missing_rows}, take {round((missing_rows/len(df)),2)*100}%')"
      ],
      "metadata": {
        "colab": {
          "base_uri": "https://localhost:8080/"
        },
        "id": "ZESpI1T3b-Tj",
        "outputId": "02d3fb2c-b9c7-4400-ac6d-5c26a8dd23ea"
      },
      "execution_count": null,
      "outputs": [
        {
          "output_type": "stream",
          "name": "stdout",
          "text": [
            "Glucose: 0, take 0.0%\n",
            "BloodPressure: 0, take 0.0%\n",
            "SkinThickness: 0, take 0.0%\n",
            "Insulin: 0, take 0.0%\n",
            "BMI: 0, take 0.0%\n"
          ]
        }
      ]
    },
    {
      "cell_type": "code",
      "source": [
        "df['Glucose'].mean()"
      ],
      "metadata": {
        "colab": {
          "base_uri": "https://localhost:8080/"
        },
        "id": "oVxMmd7mcdTA",
        "outputId": "cadf6a9c-fe2b-4261-cab5-67be174eebaa"
      },
      "execution_count": null,
      "outputs": [
        {
          "output_type": "execute_result",
          "data": {
            "text/plain": [
              "121.6867627785059"
            ]
          },
          "metadata": {},
          "execution_count": 12
        }
      ]
    },
    {
      "cell_type": "code",
      "source": [
        "df.loc[df['Glucose'] != np.nan, 'Glucose'].mean()"
      ],
      "metadata": {
        "colab": {
          "base_uri": "https://localhost:8080/"
        },
        "id": "IVHFDpQqcq4_",
        "outputId": "ffbcf405-39b8-4d97-f2d3-5b0911d9dd5c"
      },
      "execution_count": null,
      "outputs": [
        {
          "output_type": "execute_result",
          "data": {
            "text/plain": [
              "121.6867627785059"
            ]
          },
          "metadata": {},
          "execution_count": 13
        }
      ]
    },
    {
      "cell_type": "code",
      "source": [
        "# Replace NaN by the mean of column USING `fillna`\n",
        "for col in ['Glucose', 'BloodPressure', 'SkinThickness', 'Insulin', 'BMI']:\n",
        "  df[col] = df[col].fillna(df[col].mean())"
      ],
      "metadata": {
        "id": "N9jpbZZLc1AP"
      },
      "execution_count": null,
      "outputs": []
    },
    {
      "cell_type": "code",
      "source": [
        "# Let's recheck with describe()\n",
        "df.describe()"
      ],
      "metadata": {
        "colab": {
          "base_uri": "https://localhost:8080/"
        },
        "id": "q3TvfW2odXHg",
        "outputId": "30e0b577-bc07-47c9-d7ff-afe560073f8f"
      },
      "execution_count": null,
      "outputs": [
        {
          "output_type": "execute_result",
          "data": {
            "text/plain": [
              "       Pregnancies     Glucose  BloodPressure  SkinThickness     Insulin  \\\n",
              "count   768.000000  768.000000     768.000000     768.000000  768.000000   \n",
              "mean      3.845052  121.686763      72.405184      29.153420  155.548223   \n",
              "std       3.369578   30.435949      12.096346       8.790942   85.021108   \n",
              "min       0.000000   44.000000      24.000000       7.000000   14.000000   \n",
              "25%       1.000000   99.750000      64.000000      25.000000  121.500000   \n",
              "50%       3.000000  117.000000      72.202592      29.153420  155.548223   \n",
              "75%       6.000000  140.250000      80.000000      32.000000  155.548223   \n",
              "max      17.000000  199.000000     122.000000      99.000000  846.000000   \n",
              "\n",
              "              BMI  DiabetesPedigreeFunction         Age     Outcome  \n",
              "count  768.000000                768.000000  768.000000  768.000000  \n",
              "mean    32.457464                  0.471876   33.240885    0.348958  \n",
              "std      6.875151                  0.331329   11.760232    0.476951  \n",
              "min     18.200000                  0.078000   21.000000    0.000000  \n",
              "25%     27.500000                  0.243750   24.000000    0.000000  \n",
              "50%     32.400000                  0.372500   29.000000    0.000000  \n",
              "75%     36.600000                  0.626250   41.000000    1.000000  \n",
              "max     67.100000                  2.420000   81.000000    1.000000  "
            ],
            "text/html": [
              "\n",
              "  <div id=\"df-62c23467-3bc9-49b5-99cb-55885a81b7e3\">\n",
              "    <div class=\"colab-df-container\">\n",
              "      <div>\n",
              "<style scoped>\n",
              "    .dataframe tbody tr th:only-of-type {\n",
              "        vertical-align: middle;\n",
              "    }\n",
              "\n",
              "    .dataframe tbody tr th {\n",
              "        vertical-align: top;\n",
              "    }\n",
              "\n",
              "    .dataframe thead th {\n",
              "        text-align: right;\n",
              "    }\n",
              "</style>\n",
              "<table border=\"1\" class=\"dataframe\">\n",
              "  <thead>\n",
              "    <tr style=\"text-align: right;\">\n",
              "      <th></th>\n",
              "      <th>Pregnancies</th>\n",
              "      <th>Glucose</th>\n",
              "      <th>BloodPressure</th>\n",
              "      <th>SkinThickness</th>\n",
              "      <th>Insulin</th>\n",
              "      <th>BMI</th>\n",
              "      <th>DiabetesPedigreeFunction</th>\n",
              "      <th>Age</th>\n",
              "      <th>Outcome</th>\n",
              "    </tr>\n",
              "  </thead>\n",
              "  <tbody>\n",
              "    <tr>\n",
              "      <th>count</th>\n",
              "      <td>768.000000</td>\n",
              "      <td>768.000000</td>\n",
              "      <td>768.000000</td>\n",
              "      <td>768.000000</td>\n",
              "      <td>768.000000</td>\n",
              "      <td>768.000000</td>\n",
              "      <td>768.000000</td>\n",
              "      <td>768.000000</td>\n",
              "      <td>768.000000</td>\n",
              "    </tr>\n",
              "    <tr>\n",
              "      <th>mean</th>\n",
              "      <td>3.845052</td>\n",
              "      <td>121.686763</td>\n",
              "      <td>72.405184</td>\n",
              "      <td>29.153420</td>\n",
              "      <td>155.548223</td>\n",
              "      <td>32.457464</td>\n",
              "      <td>0.471876</td>\n",
              "      <td>33.240885</td>\n",
              "      <td>0.348958</td>\n",
              "    </tr>\n",
              "    <tr>\n",
              "      <th>std</th>\n",
              "      <td>3.369578</td>\n",
              "      <td>30.435949</td>\n",
              "      <td>12.096346</td>\n",
              "      <td>8.790942</td>\n",
              "      <td>85.021108</td>\n",
              "      <td>6.875151</td>\n",
              "      <td>0.331329</td>\n",
              "      <td>11.760232</td>\n",
              "      <td>0.476951</td>\n",
              "    </tr>\n",
              "    <tr>\n",
              "      <th>min</th>\n",
              "      <td>0.000000</td>\n",
              "      <td>44.000000</td>\n",
              "      <td>24.000000</td>\n",
              "      <td>7.000000</td>\n",
              "      <td>14.000000</td>\n",
              "      <td>18.200000</td>\n",
              "      <td>0.078000</td>\n",
              "      <td>21.000000</td>\n",
              "      <td>0.000000</td>\n",
              "    </tr>\n",
              "    <tr>\n",
              "      <th>25%</th>\n",
              "      <td>1.000000</td>\n",
              "      <td>99.750000</td>\n",
              "      <td>64.000000</td>\n",
              "      <td>25.000000</td>\n",
              "      <td>121.500000</td>\n",
              "      <td>27.500000</td>\n",
              "      <td>0.243750</td>\n",
              "      <td>24.000000</td>\n",
              "      <td>0.000000</td>\n",
              "    </tr>\n",
              "    <tr>\n",
              "      <th>50%</th>\n",
              "      <td>3.000000</td>\n",
              "      <td>117.000000</td>\n",
              "      <td>72.202592</td>\n",
              "      <td>29.153420</td>\n",
              "      <td>155.548223</td>\n",
              "      <td>32.400000</td>\n",
              "      <td>0.372500</td>\n",
              "      <td>29.000000</td>\n",
              "      <td>0.000000</td>\n",
              "    </tr>\n",
              "    <tr>\n",
              "      <th>75%</th>\n",
              "      <td>6.000000</td>\n",
              "      <td>140.250000</td>\n",
              "      <td>80.000000</td>\n",
              "      <td>32.000000</td>\n",
              "      <td>155.548223</td>\n",
              "      <td>36.600000</td>\n",
              "      <td>0.626250</td>\n",
              "      <td>41.000000</td>\n",
              "      <td>1.000000</td>\n",
              "    </tr>\n",
              "    <tr>\n",
              "      <th>max</th>\n",
              "      <td>17.000000</td>\n",
              "      <td>199.000000</td>\n",
              "      <td>122.000000</td>\n",
              "      <td>99.000000</td>\n",
              "      <td>846.000000</td>\n",
              "      <td>67.100000</td>\n",
              "      <td>2.420000</td>\n",
              "      <td>81.000000</td>\n",
              "      <td>1.000000</td>\n",
              "    </tr>\n",
              "  </tbody>\n",
              "</table>\n",
              "</div>\n",
              "      <button class=\"colab-df-convert\" onclick=\"convertToInteractive('df-62c23467-3bc9-49b5-99cb-55885a81b7e3')\"\n",
              "              title=\"Convert this dataframe to an interactive table.\"\n",
              "              style=\"display:none;\">\n",
              "        \n",
              "  <svg xmlns=\"http://www.w3.org/2000/svg\" height=\"24px\"viewBox=\"0 0 24 24\"\n",
              "       width=\"24px\">\n",
              "    <path d=\"M0 0h24v24H0V0z\" fill=\"none\"/>\n",
              "    <path d=\"M18.56 5.44l.94 2.06.94-2.06 2.06-.94-2.06-.94-.94-2.06-.94 2.06-2.06.94zm-11 1L8.5 8.5l.94-2.06 2.06-.94-2.06-.94L8.5 2.5l-.94 2.06-2.06.94zm10 10l.94 2.06.94-2.06 2.06-.94-2.06-.94-.94-2.06-.94 2.06-2.06.94z\"/><path d=\"M17.41 7.96l-1.37-1.37c-.4-.4-.92-.59-1.43-.59-.52 0-1.04.2-1.43.59L10.3 9.45l-7.72 7.72c-.78.78-.78 2.05 0 2.83L4 21.41c.39.39.9.59 1.41.59.51 0 1.02-.2 1.41-.59l7.78-7.78 2.81-2.81c.8-.78.8-2.07 0-2.86zM5.41 20L4 18.59l7.72-7.72 1.47 1.35L5.41 20z\"/>\n",
              "  </svg>\n",
              "      </button>\n",
              "      \n",
              "  <style>\n",
              "    .colab-df-container {\n",
              "      display:flex;\n",
              "      flex-wrap:wrap;\n",
              "      gap: 12px;\n",
              "    }\n",
              "\n",
              "    .colab-df-convert {\n",
              "      background-color: #E8F0FE;\n",
              "      border: none;\n",
              "      border-radius: 50%;\n",
              "      cursor: pointer;\n",
              "      display: none;\n",
              "      fill: #1967D2;\n",
              "      height: 32px;\n",
              "      padding: 0 0 0 0;\n",
              "      width: 32px;\n",
              "    }\n",
              "\n",
              "    .colab-df-convert:hover {\n",
              "      background-color: #E2EBFA;\n",
              "      box-shadow: 0px 1px 2px rgba(60, 64, 67, 0.3), 0px 1px 3px 1px rgba(60, 64, 67, 0.15);\n",
              "      fill: #174EA6;\n",
              "    }\n",
              "\n",
              "    [theme=dark] .colab-df-convert {\n",
              "      background-color: #3B4455;\n",
              "      fill: #D2E3FC;\n",
              "    }\n",
              "\n",
              "    [theme=dark] .colab-df-convert:hover {\n",
              "      background-color: #434B5C;\n",
              "      box-shadow: 0px 1px 3px 1px rgba(0, 0, 0, 0.15);\n",
              "      filter: drop-shadow(0px 1px 2px rgba(0, 0, 0, 0.3));\n",
              "      fill: #FFFFFF;\n",
              "    }\n",
              "  </style>\n",
              "\n",
              "      <script>\n",
              "        const buttonEl =\n",
              "          document.querySelector('#df-62c23467-3bc9-49b5-99cb-55885a81b7e3 button.colab-df-convert');\n",
              "        buttonEl.style.display =\n",
              "          google.colab.kernel.accessAllowed ? 'block' : 'none';\n",
              "\n",
              "        async function convertToInteractive(key) {\n",
              "          const element = document.querySelector('#df-62c23467-3bc9-49b5-99cb-55885a81b7e3');\n",
              "          const dataTable =\n",
              "            await google.colab.kernel.invokeFunction('convertToInteractive',\n",
              "                                                     [key], {});\n",
              "          if (!dataTable) return;\n",
              "\n",
              "          const docLinkHtml = 'Like what you see? Visit the ' +\n",
              "            '<a target=\"_blank\" href=https://colab.research.google.com/notebooks/data_table.ipynb>data table notebook</a>'\n",
              "            + ' to learn more about interactive tables.';\n",
              "          element.innerHTML = '';\n",
              "          dataTable['output_type'] = 'display_data';\n",
              "          await google.colab.output.renderOutput(dataTable, element);\n",
              "          const docLink = document.createElement('div');\n",
              "          docLink.innerHTML = docLinkHtml;\n",
              "          element.appendChild(docLink);\n",
              "        }\n",
              "      </script>\n",
              "    </div>\n",
              "  </div>\n",
              "  "
            ]
          },
          "metadata": {},
          "execution_count": 15
        }
      ]
    },
    {
      "cell_type": "markdown",
      "source": [
        "# Data Standardization"
      ],
      "metadata": {
        "id": "SYtVciHudgKw"
      }
    },
    {
      "cell_type": "code",
      "source": [
        "df_copy = df.copy()"
      ],
      "metadata": {
        "id": "8abmEGe1dio0"
      },
      "execution_count": null,
      "outputs": []
    },
    {
      "cell_type": "markdown",
      "source": [
        "1. Using StandardScale: bring mean to 0 and standard deviation to 1"
      ],
      "metadata": {
        "id": "paLAnrv_g53i"
      }
    },
    {
      "cell_type": "code",
      "source": [
        "from sklearn.preprocessing import StandardScaler\n",
        "\n",
        "scaler = StandardScaler()\n",
        "df_scaled_1 = scaler.fit_transform(df)\n",
        "df_scaled_1 = pd.DataFrame(df_scaled_1, columns=df.columns)\n",
        "df_scaled_1['Outcome'] = df['Outcome']"
      ],
      "metadata": {
        "id": "8QOl_JKPgkfP"
      },
      "execution_count": null,
      "outputs": []
    },
    {
      "cell_type": "markdown",
      "source": [
        "2. Using min-max scaling"
      ],
      "metadata": {
        "id": "lz9xiGkafhvh"
      }
    },
    {
      "cell_type": "code",
      "source": [
        "from sklearn.preprocessing import MinMaxScaler\n",
        "\n",
        "scaler = MinMaxScaler()\n",
        "df_scaled_2 = scaler.fit_transform(df)\n",
        "df_scaled_2 = pd.DataFrame(df_scaled_2, columns=df.columns)\n"
      ],
      "metadata": {
        "id": "L9T_ztSEfQVX"
      },
      "execution_count": null,
      "outputs": []
    },
    {
      "cell_type": "code",
      "source": [
        "dict_df_scales = {'Standard':df_scaled_1, 'min max': df_scaled_2}"
      ],
      "metadata": {
        "id": "1gLIdOWehUhP"
      },
      "execution_count": null,
      "outputs": []
    },
    {
      "cell_type": "markdown",
      "source": [
        "# Create Model"
      ],
      "metadata": {
        "id": "Cp2xOUQgjlMQ"
      }
    },
    {
      "cell_type": "code",
      "source": [
        "def create_model(units):\n",
        "\n",
        "  # Create a sequential\n",
        "  model = Sequential()\n",
        "\n",
        "  # Add the first hidden layer\n",
        "  model.add(Dense(int(units), activation='relu', input_dim=8))\n",
        "\n",
        "  # Add the 2nd hidden layer\n",
        "  model.add(Dense(int(units/2), activation='relu'))\n",
        "\n",
        "  # Add the output layer\n",
        "  model.add(Dense(1, activation='sigmoid'))\n",
        "\n",
        "  # Compile the model\n",
        "  model.compile(optimizer='adam', loss='binary_crossentropy', metrics=['accuracy'])\n",
        "\n",
        "  return model"
      ],
      "metadata": {
        "id": "b8i2Z6VIjxww"
      },
      "execution_count": null,
      "outputs": []
    },
    {
      "cell_type": "markdown",
      "source": [
        "# Split data and train"
      ],
      "metadata": {
        "id": "roe6IkANhyfP"
      }
    },
    {
      "cell_type": "code",
      "source": [
        "results = {}\n",
        "\n",
        "for dataset in dict_df_scales:\n",
        "  \n",
        "  # Evaluation\n",
        "  eval = []\n",
        "\n",
        "  df = dict_df_scales[dataset]\n",
        "  # df = df_scaled_2\n",
        "\n",
        "  # Create X contains all features\n",
        "  X = df.loc[:, df.columns != 'Outcome']\n",
        "  # Create y contains output values\n",
        "  y = df.loc[:, 'Outcome']\n",
        "\n",
        "  # Split to train & test\n",
        "  X_train, X_test, y_train, y_test = train_test_split(X, y, test_size=0.2)\n",
        "\n",
        "  # Split to train & validation:\n",
        "  X_train, X_val, y_train, y_val = train_test_split(X_train, y_train, test_size=0.2)\n",
        "\n",
        "  # Create model\n",
        "  model = create_model(32)\n",
        "\n",
        "  # Training\n",
        "  model.fit(X_train, y_train, epochs = 200)\n",
        "\n",
        "  # Accuracy\n",
        "  scores = model.evaluate(X_train, y_train)\n",
        "  eval.append({'Training accuracy':round(scores[1]*100,2)})\n",
        "\n",
        "  scores = model.evaluate(X_test, y_test)\n",
        "  eval.append({'Testing accuracy':round(scores[1]*100,2)})\n",
        "\n",
        "  # y_predicted\n",
        "  y_predicted = model.predict()\n",
        "\n",
        "  results[dataset] = eval\n"
      ],
      "metadata": {
        "id": "Gx-txxHsn7mE"
      },
      "execution_count": null,
      "outputs": []
    },
    {
      "cell_type": "code",
      "source": [
        "results"
      ],
      "metadata": {
        "colab": {
          "base_uri": "https://localhost:8080/"
        },
        "id": "nQ0PUtEniGJw",
        "outputId": "e9cefb80-53f3-4103-d715-ac9f0c501ec8"
      },
      "execution_count": null,
      "outputs": [
        {
          "output_type": "execute_result",
          "data": {
            "text/plain": [
              "{'Standard': [{'Training accuracy': 80.65}, {'Testing accuracy': 81.17}],\n",
              " 'min max': [{'Training accuracy': 79.63}, {'Testing accuracy': 77.27}]}"
            ]
          },
          "metadata": {},
          "execution_count": 69
        }
      ]
    },
    {
      "cell_type": "markdown",
      "source": [
        "# Evaluation\n"
      ],
      "metadata": {
        "id": "uLPL9OXtv2Po"
      }
    },
    {
      "cell_type": "markdown",
      "source": [
        "CONFUSION MATRIX:\n",
        "\n",
        "![Confusion Matrix.png](data:image/png;base64,iVBORw0KGgoAAAANSUhEUgAAA5sAAAJ3CAYAAAAamkVdAAAKGmlDQ1BJQ0MgUHJvZmlsZQAASImVlgdUFGkSx7/uyQlmmCGnIQ45ZyTnJDmKyjADQxxhCCJgZnEFVxQREVAWcFFAwdUlyBoQUQyIgAIq6g5yCKjrYkAUUK6RXb29e+/uXfWrrl9Xd9dXXd3v9R8AUiQ7JSUJpgKQzE8XBLg5MsPCI5i4MYAFkshGBRpsTlqKg5+fN0Dsr/h3ez8MoOV4V3e51n+e/69G48akcQCA/BBO4KZxkhE+j7AVJ0WQjvAHhFU2pqcgDMshzBAgDSJssMy8FXZe5ugVDvtyTVCAE8JIL3gymy3gAUDMQvLMTA4PqUMsQ9iAz43nI3wdYVtOHJsLAAmPsE5y8oZlNkFYI/pf6vD+VjP6a002m/eVV57li1GNzE3NmU7spPhoATs9hvt/juV/W3JSxl9rLU+fHMMPDkSiAuJywAiYA1PEmcAJsEESiAfRQIBQOogBSCvpMVnpyzc6bUjZJIjnxaUzHZA3F8P04HP0dJhGBobmACx/Byvl38p/WQEyR33LxZ4DwDQKmQf9W46nD0DbXQBEjn7LafwOgNhtALpyOBmCzJUcenmHAUQgChhAGulYBWgAXaRnM2AN7IEL8AS+IAiEg3WAA+JAMtL5RpALtoN8UAj2gYOgHFSBWnACnAJnQBs4Dy6Da+AW6AdDYBQIwQR4AWbAe7AAQRAOokB0SBpShNQgbcgIsoBsIRfIGwqAwqEoiAfxoQwoF9oJFULFUDlUDdVDP0PnoMvQDWgAegCNQdPQG2geRsFkmAHLw+qwPmwBO8BecBC8FubBqXA2nAfvhcvgGvgk3Apfhm/BQ7AQfgHPogCKhJJAKaF0URYoJ5QvKgIVixKgtqAKUKWoGlQTqgPVg7qLEqJeoj6isWg6monWRVuj3dHBaA46Fb0FvQddjj6BbkV3o++ix9Az6M8YCkYOo42xwnhgwjA8zEZMPqYUU4dpwVzFDGEmMO+xWKwEloU1x7pjw7EJ2BzsHuwRbDO2EzuAHcfO4nA4aZw2zgbni2Pj0nH5uMO4k7hLuEHcBO4DnoRXxBvhXfEReD5+B74U34C/iB/ET+IXCFSCGsGK4EvgEjYRigjHCB2EO4QJwgKRRmQRbYhBxATidmIZsYl4lfiI+JZEIimTLEn+pHjSNlIZ6TTpOmmM9JEsRtYiO5EjyRnkveTj5E7yA/JbCoWiTrGnRFDSKXsp9ZQrlCeUDyJ0ET0RDxGuyFaRCpFWkUGRV6IEUTVRB9F1otmipaJnRe+IvqQSqOpUJyqbuoVaQT1HHaHO0ug0Q5ovLZm2h9ZAu0GbEsOJqYu5iHHF8sRqxa6IjdNRdBW6E51D30k/Rr9Kn2BgGSyGByOBUcg4xehjzIiLiZuIh4hniVeIXxAXSqAk1CU8JJIkiiTOSAxLzEvKSzpIxkjulmySHJSck5KVspeKkSqQapYakpqXZkq7SCdK75duk34sg5bRkvGX2ShzVOaqzEtZhqy1LEe2QPaM7EM5WE5LLkAuR65WrlduVl5B3k0+Rf6w/BX5lwoSCvYKCQolChcVphXpiraK8YolipcUnzPFmQ7MJGYZs5s5oySn5K6UoVSt1Ke0oMxSDlbeodys/FiFqGKhEqtSotKlMqOqqOqjmqvaqPpQjaBmoRandkitR21OnaUeqr5LvU19iiXF8mBlsxpZjzQoGnYaqRo1Gvc0sZoWmomaRzT7tWAtU604rQqtO9qwtpl2vPYR7QEdjI6lDl+nRmdEl6zroJup26g7pieh5623Q69N75W+qn6E/n79Hv3PBqYGSQbHDEYNxQw9DXcYdhi+MdIy4hhVGN0zphi7Gm81bjd+baJtEmNy1OS+Kd3Ux3SXaZfpJzNzM4FZk9m0uap5lHml+YgFw8LPYo/FdUuMpaPlVsvzlh+tzKzSrc5Y/WGta51o3WA9tYq1KmbVsVXjNso2bJtqG6Et0zbK9kdboZ2SHduuxu6pvYo9177OftJB0yHB4aTDK0cDR4Fji+Ock5XTZqdOZ5Szm3OBc5+LmEuwS7nLE1dlV55ro+uMm6lbjlunO8bdy32/+4iHvAfHo95jxtPcc7NntxfZK9Cr3Oupt5a3wLvDB/bx9Dng82i12mr+6jZf4Ovhe8D3sR/LL9XvV3+sv59/hf+zAMOA3ICeQHrg+sCGwPdBjkFFQaPBGsEZwV0hoiGRIfUhc6HOocWhwjD9sM1ht8JlwuPD2yNwESERdRGza1zWHFwzEWkamR85vJa1NmvtjXUy65LWXVgvup69/mwUJio0qiFqke3LrmHPRntEV0bPcJw4hzgvuPbcEu50jE1MccxkrE1scewUz4Z3gDcdZxdXGvcy3im+PP51gntCVcJcom/i8cSlpNCk5mR8clTyOb4YP5HfvUFhQ9aGgRTtlPwUYapV6sHUGYGXoC4NSlub1p7OQH64vRkaGd9ljGXaZlZkftgYsvFsFi2Ln9W7SWvT7k2T2a7ZP+Wgczg5XblKudtzxzY7bK7eAm2J3tK1VWVr3taJbW7bTmwnbk/cfnuHwY7iHe92hu7syJPP25Y3/p3bd435IvmC/JFd1ruqvkd/H/99327j3Yd3fy7gFtwsNCgsLVzcw9lz8wfDH8p+WNobu7evyKzo6D7sPv6+4f12+08U04qzi8cP+BxoLWGWFJS8O7j+4I1Sk9KqQ8RDGYeEZd5l7YdVD+87vFgeVz5U4VjRXClXubty7gj3yOBR+6NNVfJVhVXzP8b/eL/arbq1Rr2mtBZbm1n77FjIsZ6fLH6qr5OpK6z7dJx/XHgi4ER3vXl9fYNcQ1Ej3JjROH0y8mT/KedT7U26TdXNEs2Fp8HpjNPPf476efiM15musxZnm35R+6Wyhd5S0Aq1bmqdaYtrE7aHtw+c8zzX1WHd0fKr3q/Hzyudr7ggfqHoIvFi3sWlS9mXZjtTOl9e5l0e71rfNXol7Mq9bv/uvqteV69fc712pceh59J1m+vnb1jdOHfT4mbbLbNbrb2mvS23TW+39Jn1td4xv9Peb9nfMbBq4OKg3eDlu853r93zuHdraPXQwHDw8P2RyBHhfe79qQdJD14/zHy4MLrtEeZRwWPq49Inck9qftP8rVloJrww5jzW+zTw6eg4Z/zFP9L+sTiR94zyrHRScbJ+ymjq/LTrdP/zNc8nXqS8WHiZ/zvt98pXGq9++cP+j96ZsJmJ14LXS2/2vJV+e/ydybuuWb/ZJ++T3y/MFXyQ/nDio8XHnvnQ+cmFjYu4xbJPmp86Pnt9frSUvLSUwhawv0gBFOJwbCwAb44DQAkHgN6PaCmRFZ32p7aB/lI803Xf+C3rKyNxRct9MTMAajsBCNkGgB8Sq5CojkSqPXKMeJA9gI2Nv/qflhZrbLRSi4ZoFDxhaelVH9JHAgCfVi0tzasuLS2OIpJFHoCT9BV9+EXCjAPACkVAtLeq+vG/67N/Am6yvlwOalP1AAABnWlUWHRYTUw6Y29tLmFkb2JlLnhtcAAAAAAAPHg6eG1wbWV0YSB4bWxuczp4PSJhZG9iZTpuczptZXRhLyIgeDp4bXB0az0iWE1QIENvcmUgNS40LjAiPgogICA8cmRmOlJERiB4bWxuczpyZGY9Imh0dHA6Ly93d3cudzMub3JnLzE5OTkvMDIvMjItcmRmLXN5bnRheC1ucyMiPgogICAgICA8cmRmOkRlc2NyaXB0aW9uIHJkZjphYm91dD0iIgogICAgICAgICAgICB4bWxuczpleGlmPSJodHRwOi8vbnMuYWRvYmUuY29tL2V4aWYvMS4wLyI+CiAgICAgICAgIDxleGlmOlBpeGVsWERpbWVuc2lvbj45MjM8L2V4aWY6UGl4ZWxYRGltZW5zaW9uPgogICAgICAgICA8ZXhpZjpQaXhlbFlEaW1lbnNpb24+NjMxPC9leGlmOlBpeGVsWURpbWVuc2lvbj4KICAgICAgPC9yZGY6RGVzY3JpcHRpb24+CiAgIDwvcmRmOlJERj4KPC94OnhtcG1ldGE+CkfYh5QAAEAASURBVHgB7N0HfBRl/j/wT7LZZFM2vRFCCiEhlCSQ0HvAArYggkrxp+gJ6N2Jendw+PvLeXonhw3x1BM85X6CFVGCJygCQUR6DUiHEFKAdFI3/f+dLcmGhCRoWGH3M7yWnZ19duaZ92x25jtPs6uXCZwoQAEKUIACFKAABShAAQpQgAIdKGDfgeviqihAAQpQgAIUoAAFKEABClCAAnoBBpv8IlCAAhSgAAUoQAEKUIACFKBAhwsw2OxwUq6QAhSgAAUoQAEKUIACFKAABRhs8jtAAQpQgAIUoAAFKEABClCAAh0uwGCzw0m5QgpQgAIUoAAFKEABClCAAhRgsMnvAAUoQAEKUIACFKAABShAAQp0uACDzQ4n5QopQAEKUIACFKAABShAAQpQgMEmvwMUoAAFKEABClCAAhSgAAUo0OECDDY7nJQrpAAFKEABClCAAhSgAAUoQAEGm/wOUIACFKAABShAAQpQgAIUoECHCzh0+Bq5wjYF6iVFfb38r8xwogAFKEABCrRHwA6wt5P/OFGAAhSgAAVuEAEGmxY+UJVV1aiorIZOHrW1dQCvGyx8BLg5ClCAAjeYgNyYtJN/agcVPLQuUKtVYMx5gx1DZpcCFKCAjQow2LTwgT93oQgHjmcg9UQm8opKobJnTWYLHwJujgIUoMANJVAnNWGUc0Wwvxcm3Jwgzx5wdHRAHWvH3FDHkZmlAAUo8GsLKFGHysKhB4NNCx/1i/mXsOtQGr7echiZFwqlTpRkgLeoLXwUuDkKUIACN5CABJWOUqrZIyIIw/pFwt9HC7Usq5PKMZwoQAEKUIAC7RWws3CgqeSLwWZ7j04HpauVqwNddQ1KKypRUqqTI6DUo2Vd2g7i5WooQAEKWJ+AFGEqwWaZrlKaX9Tr2/wrhZos2LS+Q809ogAFKGBtAgw2f+0jyquFX/sIcPsUoAAFbggBni5uiMPETFKAAhSggJkAg00zDEvNNpRlNsxYasvcDgUoQAEK3HACSpQp5wvWgbnhjhwzTAEKUMDmBX6Fmrs2b04AClCAAhSgAAUoQAEKUIACVi/AYNPqDzF3kAIUoAAFKEABClCAAhSggOUFGGxa3pxbpAAFKEABClCAAhSgAAUoYPUCDDat/hBzBylAAQpQgAIUoAAFKEABClhegMGm5c25RQpQgAIUoAAFKEABClCAAlYvwGDT6g8xd5ACFKAABShAAQpQgAIUoIDlBRhsWt6cW6QABShAAQpQgAIUoAAFKGD1Agw2rf4QcwcpQAEKUIACFKAABShAAQpYXoDBpuXNuUUKUIACFKAABShAAQpQgAJWL8Bg0+oPMXeQAhSgAAUoQAEKUIACFKCA5QUYbFrenFukAAUoQAEKUIACFKAABShg9QIMNq3+EHMHKUABClCAAhSgAAUoQAEKWF6AwablzblFClCAAhSgAAUoQAEKUIACVi/AYNPqDzF3kAIUoAAFKEABClCAAhSggOUFGGxa3pxbpAAFKEABClCAAhSgAAUoYPUCDDat/hBzBylAAQpQgAIUoAAFKEABClhegMGm5c25RQpQgAIUoAAFKEABClCAAlYvwGDT6g8xd5ACFKAABShAAQpQgAIUoIDlBRhsWt6cW6QABShAAQpQgAIUoAAFKGD1Agw2rf4QcwcpQAEKUIACFKAABShAAQpYXoDBpuXNuUUKUIACFKAABShAAQpQgAJWL8Bg0+oPMXeQAhSgAAUoQAEKUIACFKCA5QUYbFrenFukAAUoQAEKUIACFKAABShg9QIMNq3+EHMHKUABClCAAhSgAAUoQAEKWF6AwablzblFClCAAhSgAAUoQAEKUIACVi/AYNPqDzF3kAIUoAAFKEABClCAAhSggOUFGGxa3pxbpAAFKEABClCAAhSgAAUoYPUCDDat/hBzBylAAQpQgAIUoAAFKEABClhegMGm5c25RQpQgAIUoAAFKEABClCAAlYvwGDT6g8xd5ACFKAABShAAQpQgAIUoIDlBRhsWt6cW6QABShAAQpQgAIUoAAFKGD1Agw2rf4QcwcpQAEKUIACFKAABShAAQpYXoDBpuXNuUUKUIACFKAABShAAQpQgAJWL8Bg0+oPMXeQAhSgAAUoQAEKUIACFKCA5QUYbFrenFukAAUoQAEKUIACFKAABShg9QIMNq3+EHMHKUABClCAAhSgAAUoQAEKWF6AwablzblFClCAAhSgAAUoQAEKUIACVi/AYNPqDzF3kAIUoAAFKEABClCAAhSggOUFGGxa3pxbpAAFKEABClCAAhSgAAUoYPUCDDat/hBzBylAAQpQgAIUoAAFKEABClhegMGm5c25RQpQgAIUoAAFKEABClCAAlYvwGDT6g8xd5ACFKAABShAAQpQgAIUoIDlBRhsWt6cW6QABShAAQpQgAIUoAAFKGD1Agw2rf4QcwcpQAEKUIACFKAABShAAQpYXoDBpuXNuUUKUIACFKAABShAAQpQgAJWL8Bg0+oPMXeQAhSgAAUoQAEKUIACFKCA5QUYbFrenFukAAUoQAEKUIACFKAABShg9QIMNq3+EHMHKUABClCAAhSgAAUoQAEKWF6AwablzblFClCAAhSgAAUoQAEKUIACVi/AYNPqDzF3kAIUoAAFKEABClCAAhSggOUFGGxa3pxbpAAFKEABClCAAhSgAAUoYPUCDDat/hBzBylAAQpQgAIUoAAFKEABClhegMGm5c25RQpQgAIUoAAFKEABClCAAlYvwGDT6g8xd5ACFKAABShAAQpQgAIUoIDlBRhsWt6cW6QABShAAQpQgAIUoAAFKGD1Agw2rf4QcwcpQAEKUIACFKAABShAAQpYXoDBpuXNuUUKUIACFKAABShAAQpQgAJWL8Bg0+oPMXeQAhSgAAUoQAEKUIACFKCA5QUYbFrenFukAAUoQAEKUIACFKAABShg9QIMNq3+EHMHKUABClCAAhSgAAUoQAEKWF6AwablzblFClCAAhSgAAUoQAEKUIACVi/AYNPqDzF3kAIUoAAFKEABClCAAhSggOUFGGxa3pxbpAAFKEABClCAAhSgAAUoYPUCDDat/hBzBylAAQpQgAIUoAAFKEABClhegMGm5c25RQpQgAIUoAAFKEABClCAAlYvwGDT6g8xd5ACFKAABShAAQpQgAIUoIDlBRhsWt6cW6QABShAAQpQgAIUoAAFKGD1Agw2rf4QcwcpQAEKUIACFKAABShAAQpYXoDBpuXNuUUKUIACFKAABShAAQpQgAJWL8Bg0+oPMXeQAhSgAAUoQAEKUIACFKCA5QUYbFrenFukAAUoQAEKUIACFKAABShg9QIMNq3+EHMHKUABClCAAhSgAAUoQAEKWF6AwablzblFClCAAhSgAAUoQAEKUIACVi/AYNPqDzF3kAIUoAAFKEABClCAAhSggOUFGGxa3pxbpAAFKEABClCAAhSgAAUoYPUCDDat/hBzBylAAQpQgAIUoAAFKEABClhegMGm5c25RQpQgAIUoAAFKEABClCAAlYvwGDT6g8xd5ACFKAABShAAQpQgAIUoIDlBRwsv0lukQIUaFnATharMXJwNDr7ucHbsTFVXX096uVhmuzs7GAvD9QB9vbVOLP3GLJyS7C/1JTC0s9meffVwLOuCN+tP42M6lroWsiKk8YRAwbFopd7OfZsO4usvHKcbyHddbXIyRf9eviiT5gzsnbvx+aLQEXNdZVDZoYCFKBAKwL1qKutQvaRQ8jR1aKqrh52tbXKaaT55OAB/6AABAT5wa2dxRLFGanI1TmjxM4Tfbr5NV/nNV1Sh9oqHbJk3y5Wy6mxVvaqrq7JvtnZq6By0sK/cwgCvVzhpG7njl11vpVtF+PwntPwCIuCm4cWXk5XWImkO38uF7kXixEY2xdy+pRz+xXScjEFblABBps36IFjtq1VQINRI/piYK8gRLkApvCyrl5OmnLiNE329vZQ/qEWcFCVYkNhNnZU/JrBppIzDRJH9sWgnj4Irc5A6YFsFOWUQVdt2gtT7iWlsxNG3TwE93bJxTun8rDjOgo27eRM7+npAVeHGujKKlFSVo1KJeuugRjQrzseHumLfYWp2JVfy2Cz8ZByjgIUuO4FlGCzAmd3bsCuPB1KauzgDDtUN5xpGnegThWCvkMS4BLY/mDzUtp2HD7vjXO1UYiVYPNahXKNuTSfq0N1ZQnObFuHbUVKnGkHxyb7Vod6eweoHL3RLW4A4nt1g6+nGzxc1OYr6Zh5OV+jtgBbv0tB17Fe6KJ2hZejOJcXIL/KCXYqNfzd5VnZmtyYPXMsFXt3p2NQeBw8He3hqOqYbHAtFLheBBhsXi9HgvmggF7ACT5+XggK9keoBJumgjN7BxXsHRxg+IOtRKW8USUP5TSpghNcnEzv/ZqMTggKCUB4dBgi7UPwwh/P4sSbR5F7unlxq4ODGp1DIxHW3QmdXBzh/Wtm+7JtazQazP3LbEwLvYANK7djyYep2K6k8fWTO/1dENc1AJ79g6CRYBpSOsCJAhSgwI0hIMFmdSnO/PcfWPbjJeSqfNBn6DCguLhZ9guLwlHv5ofw/rHo1M4rxeKzq/HdygB8e7QUD0yJg7us1XIBZx1qyvNw6su/4q0dgHtoNEKjooCSEuO+FeNSUREOHDitfz3mqbcxfMRIzL2jZ7N9/8ULlGCzMheL3nsNo3yiMdzZD1GuKpxa8wx+c2wAnAOi8fXjQyUYBuyq8rH5x7X453++xRO3PIjuHh4SbFpO7RfvK1dAgXYItPMnpB1rYhIKUOAXCiglgHmY++y/oHKwlyCycUocm4g7kxLxcG9g5ezXsOp0Eb65ZHq/HlW6KtSaIlPT4l/huaZKAmR52Lmp0WX43XjuYB6WyMXNl+eaZkbZ00rJcH2NlA5K9eCKpm//+q/UUufJ0x1OLhpoTbnJycaZ0y7YeKgIucdKUNlCia0pKZ8pQAEKXM8CMTPehH/v4fjbXREtZrO+3h5qtRpqs+YcLSY0W+ig9oAqUCtVcx31N0Z/rdqg/eeuwp3D4nBf/0Cz3MlZR0p1KwpO44tXn8Tbq+Zj9d4EDO73X4wI7OBLYTs5ezt1xmvPLoBz317w81MQlTvE0ljkwAXUdwrQ30jW0zoG4u5xk9EjdAQCOmugUf1aamZUnKVABwt08F9YB+eOq6OAzQlI4FWhr7TZZM8rquVEZToH1emgq6zApRJlgQvGD/aT4OcicspqkO7vi6l9g+FSmY+qqmpcqJI/8bPnseGiDhWXFcJFhHghopM7VGnn8V1eFWqUWrqOjnDy98fjo7rBSwJeBztpB1N9CQd/3I+1mUC5tIVpdVJuyNorJ/Vq1Dm4Y+Bdo5F2aRvyzh3FD+YfVKJN08N8uTLv7YuQQE9MHRACV3mpVlUg+2wGTh7P1Ofh8uTjhvdFfKQPPJ3t5S5xGU4fPoTVP9mjVqoqjYp2wsntmfhJPlQlFcbcXLWYeks0Qvyk7Y5SxaqqCmW5F7HxuzM4WqWGk7szRsV1QmdZl6PaBZ26+KNf/y5wLy3A2vR8pB2uwYaydBzZXo+RMRGoKcpB7qVybLvQFMZe7kyHdvbH4DAXlOUUIjujELvLgJukmnFkgAuC3ZWfXkeUZp/Ghzuyca6gpZatl+8pX1OAAhToGAGVoxMcNcpvovIr2/qk9BdQWZCJc1kXUSY3NmuUOjUShfp2CoXWzRW+cnNRPyn9CCgP84K5WjlflRQh61w28i6VwM7ZE85uHggI7gI/Ke1TkptPxdknkVtUgYJS5TdVB1e/rggL8pXaO+2v7qpy0siNQtcW9s0VLs4ajP/NLGzetQAFZWU4Xyy3OiVAVgLRS3m5yM/JRVah1MZxcIOnUpslwB8BHtKQ0myql5LL4vPncD43F8W6GlTbSe0cv84I6eIHjdRCUtkJgIMnYoYPh4ufNxzU1SjKy0FemVT1lfOIve4CLuTlw8NJ+mZwcUenyJ6SLgye/nYoLbyAcjn3qDRucNeY33JWMlAv2SxGYXEl6qRKsLu3twSnUjAtZnlilm9m5u/tAV8PqR7FiQLXgQCDzevgIDALFGhLQDkfN5yUlfOPskDabcLZGwP7dEV2jRoXy2ql2lBnjOgrQVpJBiqVYLPeFZXSJuSH/EoJNpXozjg5eSAkJBjDYnwkKM1HSkE1XD294OHjie69wzAioSu81Cqo7WolbiyGZ2UpLiATp/IqcaGkse2oaXWmZ/21hgSa1SV5OF/vKyfqIERHdkJCeCZ+SDNVZzKlbvpsJ/vj5euLsB6hcpfXFyP7GYNNBx2ypdeEQFc1susycSSnWqoQS97kYqln9yAM79cN/SJ9JdiUC5eqUgRrdMiXdi9KsDmsu1Q/Ts3EiTrpFMLPT9YbJOuNRIivLJfMVldVojzXHTW5OlSeqoWjhxuGxHdFFwkGnRycpCOJQMTFl6JTAbApV7idneEpF2dauUDoG9cV6iJ7nMrMl2Azr8nOKG1qe/aOkO1rcOGglBBIsK/r2hnDEiIRHWgebKqQUWGHo+mFSDtTgEJZi9lRarJOvqAABSjQcQJXutvXdAv1UgOlLPcsdu7ahbMZ51FW0TTY9A8MQny/vvB3aX45WVuRh5xz6Th94iTOyE3PHKnSau/kCY3WQ5pchKP/oP7w12r0bRTraipRlHEce/buw/m80obAycUvA7kx/dApwBcRnT2b1PhpmlPzV1faN+lYz8EFAWFyM1XjggqdBNHSHqW+StpN7tknwXQWzpkFmx4SbHYJi0CP3jHoGqCVILIW1boS5J87jv0HjiPzYg4uSVOKWgk2vfyCENpnoOTRF6G+LlDXVSLz7Gn4SvGlvQSn53duw77j+SgtOItKCd63bZW2sF0H4dZIBwlE5eyakSulwu7I3LkDpdog2AVF4aZIL/OdQr105lR0div2nnSFnasPBgxzQbnkRTHLFjNTgK6YBYd2Q1Rkt6swa7IpvqBAhwo0/3Xo0NVzZRSgQEcLSC1VpV8guXMqZ7Gw3ph8TyLyel7U97oXMywc9nLyrL3gr49OVZ26IMv1LP51tBhFlWZFm36xGDqsL56+sxNOqk5i8bFK9Bs2BMMTumFuUiTspXS1UoLTOolq7VQqDB01HIM/XYJ3N53Df3YVy8my5b2SpFKEeAmXzuzAxxf6YtKQIPQb2QMenmV497ldUjKq9Krbwmcl8HOQ4HH07WPx/yb10gdkdpXV0gGPJJaVxiYkYGxlMUZIHqZ8kI2LFe4I6BSGN178HwwJtJeAWU740rOiEgbHJPTDbVVSyqkE5GW50P7wA36o7YnJdydg9oTeCKiVAFOfj3qJ16UEU9q7jh0dAf+XT0lHQBrcN3E4/Nw0EmhrEBkbg/Bu4ajNdMTLWfYYdFM0nr6lC075rUfAhFvgrTuO7XtPYtn2FEOvu8q+yYadpMTgfx6ZgDu6FGNbldylPqXBzBcfwdAA6dZJOnqqqjb0kqjp1wtjRp7EsQOn8Nf/XYdkOUasndvC94OLKECBDhVQSiuVh9LTeUt3uJSO0uzkF7W6Qto5fvU6pv7vx6iRwFMlv2/6wkgJoKp05QiNGYjZbyfjwXjfZvkrPbMBK//1Gd5d9g1ypAdyfS+r8rk6CZrspWTuDx/sxORhXRHkXoPywjRsfPv3+PPHP+FSeQ0c9Iml/5zqSvjf8gf0Hzocr/z2ZnhLD7L67TfbmvkCSaE/AZgva5yX1hvySy83D5VFUvJadmYP/jn5MemorhCnpARVKvXIJDY11fAK6YGRv30Nf582RHqULUdB+l7897UnMP/LLMhuGDcjJY6Sz7LRc/H7KWPx1N3xCKw8hZdmPoiYP82Hq5zDDs/7EzbqLqG4RjoGylPhD79bCbtZK7DnEWds/Ojf+Pg/X2PCl6tx4MnZ2NclEaU3P4yjz4xsUkhcU1WCPcumYn7ybXCLGIJ3Yu1xwGhWJB3ZqY1tPRUz97g7MXzCI1dhpuwzJwpcGwHbDjZ1hUjPKoCLfyj8tAaKwmPf4M0l36JASjC8PaNw+7R7EB/U0Grr2hwFrpUCP0dAuUgo16FU2tbEDA6DfbVOmoScxKrVP+JAlif8gjth5iNdIOftFgM8JfSsUlYhpYTQ9sbDd8RiZJwv7EuzsfLVD7BodxFOVbsgqG88vn7uTvQePxH3lW6Cy9EtWNS8P4mGPVBqENXWVWHR65/B32cyxiV0R9RAH/zfzQfwWEoVcsuViOyySeUKjW9vPDMtDlEelSg8cxhfLPkSL+wpRUVYLGbdFY/f3tYDAx94CE999wbyo2KhvWU0hgQ74fyO/+KFf+3D7rRLOK9xwuO/fwgPDQ9FFy81yqQ3WaVS8uyHR2JwDx94lV/A+vc/wux1FyQftQgPC8aMGffikUFRuHPAbmw9kI4Bk/bi5defwq0heTiwdhfWfnlASkYrkFuZgGoJEnXSdyPqjmNL+hCMiAhFSHA1nuoMLMqWSl/KrjlJ1eTgePQLcEDVT7tQKVV8NU+PxyjJa8GBjfjkv0ewYr10niRJ//zM43hgUDC69XHB/DkZ+Pblw3JxpxwZThSgAAWunUBJWT6ciqS0MU9qdsiNvaaTGt6B/tL1nFQTPb8fS/73I8TNXIy59w9Hr2AvCdTkN6rsLFb+7VHsOJGP197ahEnv3WsWsyo/hCXYsug57MgJhdfj/8THT92NYFd71JemI33/Vnzw7J/w6oK1iH3zfji6HsXZrasw61/bMeEvH2KctLcc1TNQX4p5dssSPP7ce9gqJXqvR0fjmTFd4CwBZ6uT8r4xWG2aTjoRkpuh21a8j+3ns1DpE46b80/gjUmTsapkDG6emYS//3Ys+nVSqhYXI23Xf7Hu84+w6LkpCAvdhPuDjiE9dTvmf5GJRxd9jfuGdUNnGdOkqrwQpze+hfvnvYNjQXX4tnskHoxUo5OsxUkdhMihQ/DYkVHY8UY//O+2++HcZQjef2kc3OVc4ed4Cu7SxrOTnVyDqiJw3+MDgPXl2LRiI04/PRIRylAoyk7UlaO6+Di+XVGH6AdvQmjPEOR/9VaD2W3D+2Bkj4AGs6Uff4v1Hy5ov5myDU4UuEYCNhps1mDf5wuQMGm+nnXhjgLMGeiF3J1vwH/Q7CbU8+dOx/PrTuHZsRFNlvMFBX51AeV8Xi+Bojyrqi/i3LFz+NeijVibU4Qit97o5+SP3yqZVNK1MCknMOUHwEHamIy7vQ96BHnC9VIu9v73Q7y67SKO5UvJYn05KvYdxOSlIfhyepSU9Ek13duCseiTzBbWaFqk3He2h06Xg4VrDkEnd7Cn9/NB4iP3YMLuZPxQXiZVcptOPr5a3C55CHNzRFbKauyWkr5FuwqQU1yDumM/YYVU6T0uVVaVPIy4rY9USe0Gxxg3OFw6jBfe3oP1pyStDHpZWV6J995biSCvKTJ8TDDCjZvxdnaAc00R8rMzMHddBtKljWq1lNweSyvAko+P4t6EALkrbAdVfQ0KS0pxsbhMSnalnU1BKU6fLsRWucNf6Venb47qoIDW12L1rnPo7heFUG8fjBwViH+uzJFej+rg4+WGm0f1ho8UPB/elgcXqeI7IsFT8noMs5buxEG5OLtQUoFyyduSJZ/Cy20yBnT3QdcB8bhbdQzr5EJOauxyogAFKHBNBGQkDlxc/67cTPsUp//jgnqpFdJ0ssO0lz/A4FA7KaGrhmN1CO4aMxJRIUHwlRvzSgUWSO2PfkP6oEJzEVvOXD54irK+WmnPKOcPlZM0XwxAUIAXPJXOb9ycoBnghAefmYtT/y6R4K8AP8lNuYNfbUb5zc/iwTuGoWeIL7xclYFLgO7DpuCp8bvknFCA5L+l4JGhUxAs7UVbvHhVPiD7dmTnergWyO28I56ywDRJXi6cx9m1G5GSdQKlkfcguqdUMy3fj3/I7/3dC2fgFmlT3196G3fXjz3iiu4DbpPOjuqRd3AOPv5qH/rfKecFGctTmmlKz+Sd4O3jAw+tWnrtdYPL2BmYu+cM8gI9kKs0q4iS04FsWs4asBcDN48AdAoZAsd9QdI1gicC/Hwlq1KtV+J8GYHGMLyWpO0xdBwCjn2LyiNrse340wjtrfROa4caKWHOP7UD6yu6YEpv6fXdR4cdSxrNeomZp5nZlJJKuK1KadvMxMNnClxDgRb/Xq/h9q6LVRfufK0h0DRkSGEoxLIZTQNNU2bnj5uAoTkHMdrSYxSbMsBnClxRQDm7QnrYkw4HpG3M1tQsHJPXtYG16CrFloZ39Uma/ae8pzxUUvUmItwX7s5q2MuYKmVyklJ7eqKbm/KuXDQ4SgnhpQq5ILGXDglcERDqIctbCzblbf2aq3H8lLSxPCtVeXt4IyI0Qh9UpUs10suDTWdnR30enOWkqiuV0kgJ2jS+Puhlqpmlrke55EsJjwPC/VEb5A57uajQpWVi95lCqVYrY2Iqm5WBvM+lZ+FEdgk6BVUh3MMgcPZ0ugxnVgfPmhyUSilqVKgn1DKUjKOzF7w9pFqT/tax8p+kl4CzSqrvKhdg1UpvuXJlIcO26SmUtRnWCJw5kY38EdK+09sZnSMDoLXPlQBSBTfpwbZ3lC+c6stw4oI9gkJV6CZtQOsKylFW4wBXD3dESE+3+qle2rdKniulzY+Tpz8iXe2wWemal4WbBh/+TwEKdLiA8ktXIfX1dfI7p7SVtzO7I6kPO/XVa5WfPEf5jfRGj2HD0LuTtFmUNvGlhfL7WFkFnZTmncurkL4CZGX66NM8m8qvpEo6vQmAY0U1Ss6dxN4dhxAZKoGcm7RnVHshpO9wDEk4C29XOR/k5CEjLRceI6LgqZHGGzJeZqH+B11WY++CQE+VtH0sx4VjJ1EitUsk1ms52FSyIHkpvpiOLIcqHK81/s4qy+XXueLiRWlHmQWdZzB6xg9ETFdfOF7aDGnhiF79o9C1q58x0FTSyw1Kj0D5/Y6S4a588J+j51B8s6SXNp9+Un/23JE9+MldOt4L9JE2/M5w1QZjwKAhyHAMR5mr4dJa+RnXeyqrk9JLtfSVYGevdHQkNzbFXX/akVdK8w/TT75rpyhpn7oFgS4XsOd0Lib1dJdgU85F5ZeQd/ogcjy7IcDbBT6qfOwxM6u/zEwrN27bbSbb50SBaylgg8GmDuvenGs0jcXzH76J6QlSTTZ7DWQ4PcM0bRkKlj+Eip1LMG7QLKTKvze+OITRM2OMCfhEgetL4PyBVGn3d9IwHuRVZs1eqhtFdPGAi6ZeAk8tfGJvwl9jDXevlYsQ5WRZDT9pryInS60LvAO827+FUwexd6c7PvbxxbybgnDvb/vj3KpUHN5a0HgSlrW5aBz0ebCX27yasHj0lCrsC4eq5FJHmaQ9ptwDdtQY7lJ7B0l7VHctaqUDpKx9h3FaTvym6xJ9cvnvwGnp6c/LCyPjDT9x7/97JS45usHX1xuP3zMM3UN8JMhUOg3yRmCoPzzkrN+0cx7l6skUVprW2vQ5fXsqTkjV407iEdYnDtHqoyit0sBLAvVRfb2hqkjFuiJvjK7UYrBcWFRVuWLulER9cKlv26qsTnoZ9o4QWwm27e3d0VVKEpxLZblyAceJAhSgwLUQkN8X1eCHEdN7KD55NF7u2inhm2lS2h/WwMnDH87S0ZqTKgi//agnLp3PxNlD51B0qRj50jFOxukd+PCzjUiv8ELg3abPmp6V304tYm65Ezs/2YBNn7yMBz7/FtPnJiFOqsIGSo/noV2lDf1fRkJTK0ORFJbhXEYtYpwuYN+OzTguNVnknqRhko7ectOOIaMoW0oIA5ErHfKESWTWrKNW06blWVVViMpSRxRKx3fmk0rGuwx/cAbuHHwzRg3sAefyNOx8L13iynvRWzr26eRxeY+3UiLp3QW9EhOh+sNhlKkmSw+1jhgrJZ/Ln3kIP950LwYPHIQ+3cPRPVLGjR77OHo6Sy+/asl81WHzTRvnlR92U1jZwtuySBUYg0HRXVAiJaN/Xbsbz94aBmeHGpTkpuPAN5/JcXsL4QHS+22uBPutmBUfPyBmp9tt1nJuuJQCHSNge8Gm7gjWrTDgzfjwCzw7JUL/In1PioSUhumdOfdA6QPMa+AjeHbGLExaKi+atWkwJuYTBX5lAcN9UuX/y0+UrWWsWh/C6U/FEk1W1tVKRxFq6ZHWF30TTcWJ5p+vldJGaYWjq8alq/xb2J6yD2lHL2Jk/ycxIGoMHhxaj4HqPdgjFzR1xpBT6aRCyQOk99xufWPNN2ycVzqzkPaScqFRVFEHJ9d6qKVEsFyqubbUIDVP2j0qD9P970eemI6RfUIwpqF3PymxLCnBJSmxzTxdDG2Eu/4SoPXLgMuzdQFbfrooXflr8WDPaPwmWoXs8p7Qdo1EX9daZK7fjW2F3ugqyPUqB2i6dMfoLpevQy49ZPiVOmkTWlEuY3cag/vmqbiEAhSgQMcIKHVEeoUEopO0Wfd1k5t4bldYb00BijMP483fjcTL6w0xqatPAKJGjsOtg/vjFqc9SJef4NQrdDTebdx8/L8+U3D/5G1Y/fVaLP7rbH0v6crWHJ3dMP2lr/HE7W7QN7EsluYK0lZ+awtZCe/TVzqZG4zBg3rohxa54m1A5c5oMdB/0lzcLUNiTYuXG5OtTGVyjnCQ0kkMi5ISVjn/mYoazT6jdnGDX9cYKZhcD51jZwQNuwmvnhmOpC8/xfpv38Gmf3+AN88aPxD9MB555F489lAieik9EP2syR3d+g+Tm5Ny+3PGv3H4+ST0r0/HhYw0rFrrgMdWDEK34BqpzSSFvq2Y+YeFIyisHWY/K4/8EAWuTsD2gk0zn8HxnY2vanA0ZZNxfgaGRJo6BHJA98HTgKUrkLxpN0qeiG8c4N1sPZylwPUtUNUse/E9u6BrJy/9OJaGN5WSvCKkH0rH0rlf4HN5pVyQGCbl1O6IqffEQZt3HoXHz5jeaOdzuYyblo1752/E5ueGokv/OHh3D4Gz1E11arhqUGaUM30u/k8G5N5xKFPaLppPMqaYq4s+D/VHpefcEY7oN9wdwfHdYLdczrr6ilWN6eO6eknVJ7mIspc79p6D8MDQMOlhthqFaQex/N01eO9IFYokcK2T4NbNpSc2rrhD/2FF4Wqm5C0nkC8dHt0X1wf9bu6CCdU9pMOxIGlDW4QtyWegkyFX7OQeQL2uDJnbP8ekJWdlXLemd9sREYFwf2dM61SKj49WS5Xgq8kB01KAAhS4NgIFJ37A0R8+w9KdCXh66d9wS99wGXPSBRoneWhkuK3gTGw7eAGpBy/7TdNnpwYX0tLlZpwrugyfgKf6j8Nv/vQiymS8zpy0Q9i88k38+2+TEezxPCoLJejzkQ7tXl6NRwb4wuOyYkuH6kJpziA38EqktNTTES5t/VBL7+RKk4q2J1lRpfxA79gj7egnws9Har9cdlVcKWMsZ/30vfSg2xWuMo6zvQzrdabMFYPvnom+t03D78tLUSZBX/qBTVjwzDvYsKoWB+Q3fuOcoLY3f4UU2uAeCOtbipsgHRkdypFz105knJKSTdWdeDquM7xczqNUdrE1M/taaV9aLjdT22t2hbxwMQU6QuCyP6uOWOX1v47mN+Gy8O3rxnLNaSMRaXZHqrrYmDrA56rKja5/BebQqgWUv2zlITGcWjpTuLxGaGyUDzr7uegXK6WK6VnF0IV5wk2qAIWG1iNTeqItV4YdUSZH+XxEHHpFhMDTQ6qulp4H9jX/KzIkbul/pVqWTtrbpCLlWDRGdnNDlE8guqnV8jclGZTN6KStaHpWCep6uCIoyB4+2fL6kNyiNk0yYHaAdzD6RYVI+9FUafsi431WqREe2hN3he3BNxL/5il1aaW6KgLDERPqhZhA+UO2k9vujq7wkPaodYUZyD50AKsP5uLERWnjKXGou6ca0dJlv5NUJS6rk04u5GE+KSWdjUG3+TuG+VLpcCgvQyNVyRIQ3CMWw+uC4CA94tYUZuG/2TLESqW045QOh4pq7eEZGADv/FSk51ZABI2Tg3QmFIj47r7o7lkA39pDcFBKeDlRgAIU+JUFaqUdoK70Eso8BmFoQiyiI/yhlaGiDAWAJdKJ3EXk5eYqXa42tD/UZ1k6UJOu0bFm2b/l3JGAiBG34qZwP3hKhzpVvp7wl7b/duVn8cnX/0RRmUrOK47oHFqHfaeklsmd0jTBU4aeatj3OmR+vwbnTuXh6+MD0KNPOFyabq0hZeOMnFTkvNbWpNa4wjM4VE5Am3DoTA58pJmIb4B+QBTDR6WDvNLc80hdfxK1PYfJeMw/In3rbmzc0wVP/uVO+Ll7wrNOhhqrKpdxnh1w+/BPsa6gSvJaIE1Pgpo0FTHPi+nWqvky83l7Jy+4SPXdoQN12Lx7B3zUG1CcX4HqwaMRonWExtEdLlr3Vs3yj3yDkzt3XoWZeQ44T4GOFWih0kDHbuD6W5u6oXRyo1RzU6bTny/B68aMThsXrx9/Sf+yZB8WzU7Wzyb16tq43JiWTxS4fgWUu7oynpmMNabx9IK/9BzoIe0inaWzHx9vD8RHeyNYgk1lqpE2j8ePy+DUZdJ5jac3Bo4JQWdfZ316N7l77SVtH7sMjMeI+B7SlkS6cQ+WnnlamZQTqfJoMsn4bMg5iW/2ZCA1U3qCVUmppLR9USnZlGuCsnLpzEHyoKtxRY8BQegzpJN0CiHtZaRtjId0KOEfHoKuA/tgTHx3xARJ0V99KU4USHXawEjcL8O1xARrEeTrJj38ecq4b70RG+4tPcVKkKxM0gGS8kNXeakIeVkZOHzJDmoJoD3dXRAe5oubbg6Hm7QRUqllrE95KCr10mBIWrDqA0eNu5N0US9jyzXbKUlYdEGG8jyPo/l1cAuNQT+5GIvzsUfZ+TR8V1iHitwcaTdUjEydHTy7dsfIIC/09tLIhYkKzk6O8PP1wvjBPXH/iBj0la7sfSWvjRdZsn5OFKAABa6BgOEM0fqKlaYL9XIjzs47HMFe0m5efgPrpdO0GgmuinNP4ND+YzjyU7q+iYMydnBjfCfBZk0uNq/6P/x3zXr8cDBDRumSphuyUZWTFm4+Qega2xfeKo18xh2+8rvYNcoJP27aipPn85EvQ1bVSOJ6ufFWWZqP1C2fIGX1cny55hiKjWMUt5Zz42mltST699QuWniH95SqxKnYu+8QTp45j+IKpVmDjLEp4zFXFGcj+9RP2L05A55DIqEqP4is3V/h/XfX4djFQpRIk5I6GXpMpXaBZ1AkYuXGZbCvE9QyrJaSh8snO2lOYSfrrauukGYpBo/L0+hfq9ygcffH4DE+2LMzBSnfb0Zqxln4jukHfwlq1Y4ecJXAvTWztFT53FWYtZgPLqRABwnYXsmmJgbT58VixYJUrJg9Aivek/ZhqabWmsCkod2EthA713yGN5+dhRVG6ITegR1EztVQ4JcJOMnH26pFhMwCVAUWINdBjdCbxuOlbCAltRCHCtS44+HxmNqvk/Rcr0JVabm0oanAxs+3IGloEDz7BaN30oNY6bwOn2w4hdwqJ3QbPBQPT4uDr1Sz3b5XagF8lNbmDlwpf8nvfwpt5S0IDL4FI/0llfILJBcwhReLcPDzH3BkSjTiBo7D2MhcfOGbgvfWnoJ33BAMGxqFIf2Vau9Fsv0T2KopR36cCrc9ORC3z52HPsdOoqhEh3yVFwbEdZFOLZQeFutkDFL5iJzUK+XZu3dfDAjujLcrv8bWXOnVtmsU+if0xk19DO16gmMT0LfKHXd8/QN0sq7aeh8M6NcTbnLnusfu/Xg/r6Vosxo5BZekmv1J3P5ADxkzzR6XCmUct0079J1sAAU4knYBa7fnYtgd4Xj6tfsx+MdDSNl6EvsueWDqjPEYHe0D9+o8pO/5EctrapQmR5woQAEKXFMBpW7KlZpqmjZsb+8mw0GpUfnTX/DKyig8fHMMQqSH7/KLR7D61Xvx7w2lSM/3gV/Q9/jx9B3oXGMMsZS2Ay6RmDhCjU9/2IDVLwA9vJ/AiLgg2F/KxPljP2L1W7/D4YqeuC8gBAOkN+9KfwlQ7/8r/rTAEffdNgKTRvZEoKYEe5Pfxl8+TEOeUwgmvjwBnaWWSls35C7JDlzeaZxpn8yf7aQEsVPUELwyGfjjwvtw4eBvkP3AY3LzL1JadBzBrjVL8PmKZVgjwd0b/yPjKjs54eiuH6RK72K8+Go8fjctEQnSXMO1phgnt3+KGa/tQ12vUMTdFQl32ZD5GcNOujzXeITCPns/ivJzsCW1N+KlfX8nwz1f82zJvD0cXfxk1IRXoHrjcawprUB0vwi88Nc+MsaocnZ1lpoy3TFw/JQrmv3n8xRszvBvt9llGeBLCnSogO0Fm8I3+k/LMG1BgiGQNAs08WQybgsVkpITmJc0Cykm6sTFmDX659e/N62GzxT4uQJVEjCVlSgjM9bhYl49Ssx6K1UqfhrL8MxWn4n0i3V45dPD+PuEHhg+aRL6j6+D0pTFRavBhRNnpVt66YFWxgiTMj05KWZizpIUDNrdDW/9ZjCiE2/F3CFjJOBSSgEd4CZjVH7/yWf4cOs5fN5GDdo6uSNdViZ5VQK9ZlMVvtx0HD/lOmLdS2PgJwWehnQ6lFakYeJza/HWrBEY1NUf8bfdhajRNXLXWIYFUcud4sJsrJU8vJZdimzdcdSeO49uObn4RPLbLSgUYQ726FpXieKTu7DplHQ6IR073BqrkYHLd2DZd5EY0jcEwyNDcNvDD2K07JdK7jJXlxQjde03yI0ciL5BEQiJc8LUe4/jHwfTMa6XFnE95IInRLq0j3XGqrfrGjtVMtuvwpxiCdb34sw9kYiqL0JBVjY2JpeiWoYWUKZDu/cgJzMdIb4PYWqcrOvmIMSOGC3jeMowKVJtq/L8T9ifegpvvnpYqhPLAeJEAQpQ4BoLhMh4l53k0drkHT0McR7e+MOeo3hXxqH87hU5W0hJZ710p10+4GnMey0Ynjnp+OIv/8FjfxmMf42yR7WM9Qh3Jcxyw9i5H8C559f4bOVa/HHK11KzRgIlqWJbU+0kJaSjpB3oC7htYDRCvNSo9uuCtW9W4dGFS7H4u3/i31KrRmVXj6qyYvS5+2ncMWgofjNGbiQqvQm1MXV118BHgtK2J6lh4tUNd76wEzrf1/D1tt1Y8OjXeEOqBaOuSto8ytiY4bPwj09m4Xa5Kai1T4SraxhW/L0Kv335Bfxu9d/gJONU28t5ubqyDMGjf4/b7rwZt9/cRzZ9RmrJyHnGmAmlVLNTr+Ho47oZuw5uwRNTNiP6d+/jg6laOX/b62vUmOfXTq2Ba9RwPNbDASvqp0CbMBL9wp2Uijr6Sa0NQveRjzWYvXGZWVj/2/HQUw+328x825ynQEcL2GSwCa94LK84i3Evv47PUg7qSxIixz6Jf8y5S1/QIo3cGpxnPL8Sf5snDccblnCGApYXOHMyDV9/JYNL76/Hzgs6nKmSPEiJG4rO4O3l66GStoPnss0iUOkw51JRAbZs2oUF0qlP/67uckdU7rRKddbiC0XYmVYAOxkP0lGq1uYdLJXAR8ZCS0/D/qpiLFYVoq8MhaK0QXGQk31NpQ4Z5/Kwfd857DsnPbi2VD9IT1KGr77+EQd2yPiVFzKhk+pOzad6lBXm4PRPqXjpHR3cZEDvLRdKcE4iznoJFM8fP44PP6/Gvs4e+nHd3CUPdrXSmU9BCc5fKJA8nEdWhQrhEcGI7dUZPp4lWCZ3cD1l6BBHOQurxKSkIBsekYMR4aM0vpYx2ep0+H7Lbhw9k4ZtwZ7o6ecGZ5VUz5Lg/UJ2PvadPIfSvaXo4iWDj+tKkHOiBCdK92Op3UX0DpDqUeoauZOfgbKcamzdWoa6nOMo/qlYqlAZgsm6mkqpKpuOt5etg4+jDiWyzu1lhrHglP2v0lXKIN+5WLX6e2mH6o8wXw2CJMhXfmUq8otw+FwmzojvjqKqy7o5Uj7NiQIUoEBHCShVPj0QN/nP8A/tA7cA6UStlclexoV08++OW+/7PRy6Z6JMxsyskxt1do4yrmSfcdLDt3QyV5YP5wp39A/ujW7RnrhdevbuWRYoAZQdHDv1Qq8RwATXIIScypaRnuScIEGXSqqJumm7InFwNAI8neWGpgSxHgFyEy4JT5R4oqBIzklyZ1T5hXXQuKD34FsQGiadvLmY2ou2lGkZKstVblL+z3MIlGZPkfLb3Z7Jzl46HPLpgcFjp8A17Ax6nbmAiio5t9pLdVV1oLSL7I3hcZH6tqoqOwdofYORkHgnnqpww6XiCjm/SC6lrwBHRw3C+t2KXj26Ikw6UUJ9IO6Y/Qe4S9MPPx8Zy1kZZ9M3Fnc+OgOxGRdxXkp/faWk10U6UOqdeAfUXpEI7uQstXKM5aGS3s7RH7c++gx87XvDrVOotN0Ue9NO2aukpLTRLL+wFFXVjWYh3fsiJr5XG2amlfGZAtdWwK5epmu7iRtx7XLBWlgiYwp6STfbHZv/7/eewKoN+6Xa3UEJDqQXTf0PS8PPR8dujGujgP7U5IqkgTKWpBJ7VUnHOkeysEVKJ3UtxYKSxEGCthE9O6OTtFV0sq+TNjNl2Lf/Ik7Je027z7l2vF7SxnSgVK0KlM4Q7KvLkZFRjLTMEn0elDvmkyYMxZS75WRathe3/fVHZEqnO1XSoVGNNKxUBg2fOftBDJOhTka55WPJEy9jQZpU1VU5wcXNGbd284OHYxVKL15CemYRdpvH6E12SY1gdzU6u9mjuKwUp8Ssxfi5yWfaeKH1ljanLogNlIsKSVqUloEtF6uQV3mFg9HG6vi2jQjIBa2jVJ/rFdUZr8+5D7Hy7CqdebWrw00bIeJuXluBynLpKEja1tfKFaPKyRleWreW27G3kI06uclZoXQ0JL2y2Uug6iA39N3kt7jFyyvpRbW8XNpLlivDc0nfQ+5e0uRDKeW89tdJddXSVrSyQjotkm7hHJzg7OIswaCUJrawT6gt1Q+dpdQWgoMDXKT9p4vUAmo7mxIQymV3lXxQJduQgtFfPolZhRybcuX4yNoUM43kRWlOwokClwtIJTAoD0tOLf6tWzIDv+q2pAH7zrVfY/2OgzhxJA1ZacmIfOooljykxrKXVyFq4n0YGx/6q2aRG6fALxNQ7iWVInmn9MrazknpmGHToYx2pr42yQpLdfhmf/oVVl6Kcrn4LlX5I3zQ3Vj9ZDVe+eCIvtQ1WzrdmXr/PZgxPEzuLlcj8+BRfHBCEZBJLiTKpZTxy7yiK6z38sXyeenCPrMjG1GWFODQceVx+bb4mgIUoMD1K+Dk4gEZ8eRnTfZSmunq4SOPdnxc5SrNO5RHO9J2cBJ7tZPc1HGSDvXasWIpnfXwbk/Cy9clJZYSNztJr74dNomZs5jJkM+cKHBdCnTgt/263L8rZqrw0Ee4J3ZqY7tMY0p3ubhUym82LZiL2fKInbEMG5Y8xGq0V5TkGxSwvMD6rUdxLA8Y8Mp4RI4ej38Ou0tKeaQHQcmKkwScjmqpDnv6ND5/fz2OyDKWG1r+GHGLFKAABShAAQpQwDaDzcKdmN5CoKn/Ohjby5sKM1KXTod/uSMqlk/h0Cf8e6HAdSJQXXQRGamlmPZ4Fu6/JRrd/D1keBI1nKXab5EMN5K67RROZeRjQ7p0Y3+d5JnZoAAFKEABClCAArYmYOFau9cDbw2+eX4GDKNnAknSAVCWNHrf+06SIXPS6ycQg+SsHZiXaMzviqn44nR7OtK+HvaPeaCADQjUVKGquBC7953Elt0n8P2eU9i85yS+330KSrvo7/ekYftPF3Cm/bWHbQCNu0gBClCAAhSgAAUsK2CDJZuFSN1kGFczVoY6+fxZQw+0+Wha2V0bNBAvrtqBI96D9IHpZxuOYEpEvGWPDrdGAQq0IVCF5I2H2kjDtylAAQpQgAIUoAAFfg0B2yvZLMnANkOsiccfTmy5NzTTkfBKwKwnYw2vpHMyThSgAAUoQAEKUIACFKAABSjQPgEbLNlsH4whlfSg5u1zNR9gWgpYp8CNPkJS2/3RW+dx415RgAIUuE4FbvSf5Rv9tHidfi2YLSsUsL2STW0gEoyFlW+/n9L6IOo1x7Bifor+sJs6DLLC7wB3iQIUoAAFKEABClCAAhSgQIcL2F6wCX/0v90Qbaa+noSJL6xBobDK0EqGSXq0VCZd7iG8NL0HlhqWYmzfLsY5PlGAAhSgAAUoQAEKUIACFKBAWwI2GGw6YOy8pTD2PYvk+UnwtotDj+kr9FZpn76EmQ+MhrN/LOYaFgGJ7+DR4X5tWfJ9ClCAAhSgAAUoQAEKUIACFDAK2GabTe1AfHJqHR7tNg6GeNLYY5CgpKasQOMrWZA4D6nJM+HFrwwFKEABClCAAhSgAAUoQAEKtFvABks2DTaaiLFYXl+ALR8uRJKxDWcTtdhpWJy8FxWbXkRM01FRmiTjCwpQgAIUoAAFKEABClCAAhRoLmCbJZsNDl4YPmWO/qErKURFjfENB2d4aTUNqThDAQpQgAIUoAAFKEABClCAAlcnYIMlmzpsWvICnnrqBXxzuqRBS6P1gpeX8dEQaNZg539ekrTPSFpdQ1rOUIACFKAABShAAQpQgAIUoEDrAjYYbDrg3Kfz8frr83Gi3NDz7JWJSrBz0VxJuwAnLlVcORnfoQAFKEABClCAAhSgAAUoQIEmAjZRjVaXvgkvL9kAODvDCRXYlm8wWP3m89AFO6OyCYnphaTM3IYFTXoLMr3HZwpQgAIUoAAFKEABClCAAhRoTcAmgs3q/MOYv2BBM4eUpQuQ0mxpywuc1DZB1fLOcykFfoHAtMQ+iAlzlZs6Vai4eAFfr81o2uNzq+v2xLREXyAvEysOsSp7q1R8kwIUoIBNCdTg/Ol0FMMBnUND4XYVl2mFp/fhyPkyqH0jMCA6yKbUuLMUsLTAVfxpWjprHbc9tYv7L1hZLJ5cvAhT2CXtLzDkR21RIGnyRCz+3RiEujXd+xdfKMYPn3yMES8faPpGC6+e/9c8PDvEHTXHv8KKe9e2kIKLKEABClDAJgVytyC8+xj9rr+4qwBPx7dzkLrCnZjRfRC+Uj4Zsxjn9z/B4e1s8gvEnbaUgE202dREP4T66mpUV9ejvj4HixMNvM9vyZHX9bJcea/lR339QSx6YjQ4+omlvpLcjjUIJM16HKv/3DzQ1O+bgzuGT5uJrMX929jVnpgywHCjqEL+PjlRgAIUoAAFTAK7PnnDNCtNpNo7FeKDR4yBpvKRcCe01XtHe9fMdBSgQMsCNlGyqd91BwepaKFMWkSNfRIzIp0xNMIQQjrIe5woQIGOEuiJVx+LMa6sFse+S8bf39qNLPnbu+/JyXhkVLj+bzFo1H34cOBuTN3ZdLuJMd0wduxg3HP7QETwT7MpDl9RgAIUsFmBGpQW5uDsiVSs/+wdPLM4+aolDv/fnzFjjRRoyinq0CH5ePFVr4IfoAAFrlLABi/lNBg7ZxHGKlA1udi55hOs33EQJ46kISstGZFPHcWSh9R445lViJp4H8bGh14lKZNTwLYFYickwPRXk7P5/9Djj7uNIEVImf0Sjr04H4tu7yTLXBEzoguwM8P4fgB2bH4OA9tZE8q2lbn3FKAABWxLoHTf2/AdMPtn77Tu2Efo98hS/ef1gabpnujPXiM/SAEKtEfABoNNA0vhoY9wT+zUZh0EuRcr1fWqsWnBXMyWR+yMZdiw5CH4tUeTaShAAYQH+xlrEQCZR082E9m0R4JLfbApb13WFbTauVlyLqAABShAAQoA6vZXlm3GVXMaz/aealg8ahruzF+Br5SSzVHNUnIBBSjQwQI20WazmZk0Dp/eQqCpT2f8LTPVrEhdOh3+D3wE9oPZTJELKNCiQFpmYcPy8MHN22U+clu3hverq6oa5oGLmH7/PIyfNg+j5RGX+E8cKjV7m7MUoAAFKGAmJLp3AABAAElEQVSzAm4xj6CosBhFpRUoranAxn8YO+BoU6QG65+bgH/q08VizfuvYUpsmx9iAgpQoIMEbDDYrME3z8+AqaZ/0vMrkVVRjb3vJBlIK5WSzRgkZ+3APNPv2Iqp+OI0w80O+s5xNVYukPrFBuwz/rl49ZmAgs9mYPGEnphxW3+s+/DveKK/t0GgJg1L3rnYRCM1rQjJh6S6rTxSC/JR3uRdvqAABShAAdsVcIBGq4VGo5HaMxp4uHduF8X5lAW46x+p+rST3/sUt4RoUVLSro8yEQUo0AECNliNthCpmww/OrFPJuPzZ+/SV/nLv6y/WW3QQLy4ageOeA/SB6afbTiCKRHxHUDOVVDA2gUykDDufZxNeVjfdtOre1888Ze+l+10Jd6Y+BIMrWcue4svKUABClCAAh0hkLsJD90837Cmu97Baw9GyzwjzY6g5Too0F4B2yvZLMnANkOsiccfTmxoW9YimFcCZj1prGtxWduyFtNzIQUooBd4/o/D0fo9Zyfc/7ckmCoPkI0CFKAABSjQsQK5eGvyGHyvX2kSNr43k+Npdiww10aBdgnYXrDZLhZTIge4evuYXvCZAhRoh0Ds5Ol49vZI442cSuz7+lM8MF7aYY5/Di99th+mFp3+vcdi2Yt92rFGJqEABShAAQpcncD+pU/jD5sNn3n1x2UY2tDTuVlPdO5OrRc6XN0mmZoCFGhBwPaq0WoDkSCFlclSuvn2+yl4ZJGhGm0LNjI0yjGsmJ+if6u4xQRcSAEKNBXQ4IUpCcZFtdj0j+cw5uOihiQpf1+KuRuSULx0rL7ieuiYEUjCgYY21A0JOUMBClCAAhT4uQK6fXjx8RUNn9YW7cSXqww9zjkiH1+tMb61ZjVWrPKGj/RV13PsbejuZXuXxQ1InKHANRKwwb8qf/S/XaLN1FSkvp6Eid7JWCbtNht61HZS66l1uYfwxtOxDW3KxvaV8QA5UYACbQh4INhbZUhTegJvmAWaDR/cmYyvjidiSvdf0I19w8o4QwEKUIACFLhMQOnr0Wyacfs4s1fms8n43X2GLiNf/LEA3TnQszkO5ynQIQI2GGw6YOy8pUhaYOj4J3l+ErznK+0yDQ050z59CTO3ZmHpCkOJpl458R08OpwjbXbIN44roYAI5FUojaAl2KwhBwUoQAEKUKCDBdQuCBsVi5FoqSlUPr7fbLjmU7YaM0p6D9gMhHuYVa/t4OxwdRSwZQEbDDblcGsH4pNT6/Bot3FYoT/6jT86qSkrjGGn8WuROA+pyWxUbst/JNz3qxMoM91RduuKaXIOTza7b2NYU0/c3tvdMCu/QNqrWz1TU4ACFKAABVoX0ETj5Q0Hr5CmBB9McMcMpSrtqHeQsmEm3K6QkospQIFfLmCzHQRpIsZieX0Btny4EElKweblU+w0LE7ei4pNLyKGV8OX6/A1Ba4gcBFfbDtvfM8JE1/5K1ZObqyCnjhwKPZueBwRxttc2T9sN97wucLquJgCFKAABSjQwQLSRLNhMt0fbVjAGQpQoEMFbLNks4HQC8OnzNE/dCWFqDBV6XNwhpdW05CKMxSgQPsFXn9mGe4f+QwGKreKHfwx8c/PoP6PldDVyDDcGmN7TmV1pUfx1z/ubv+KmZICFKAABSjQIMDxMhsoOEOB61jAZks2lWOidAL00UtPYXScHZzdveHtbXiMSrofz7z0Efal84fsOv7uMmvXrUAGBg19Dp8fMJVwSkYdnJoEmoXHt+GBoW80dMDV5q6YbgS1mZAJKEABClDAFgTU2oCG3dS6XE3ZiRoNH+3sBEO3kA2r4gwFKNDBAnb1MnXwOm+I1e376BkkTF3QZl6T5q3Euy9OREd1D/T93hNYtWE/kjcdxLnsAkBlJ3lQHpwocB0L/NyfifAuWHhnPKIDneHoqEZVWT52rN2GBTsbh0OxyF7b8W/MIs7cyLURqKuHo1qFXlGd8fqc+xArz67OTqituzab41opYAmBG/1n+eeeFi1hy21Q4EoCDlLMqDwsOV3NrSBL5uuabiv3h5eaBZqJ02ZgUBcfVORnYNPSxk6CkhdMQnL+SlQsmQhWrL2mh4Urt0aBtAzMfSPDGveM+0QBClCAAhSgAAUo0IaADQabhfj4L3MbWKYtTMbCx25DkNaMYsm7SN+3Hv8vIcnQecnSSVg6swBPxHs1fI4zFKAABShAAQpQgAIUoAAFKHBlAQsXpF45IxZ7pyQNm4xDMSQ+vxHL59zVNNDUZ0SD0Pi7sLxgC6YZM7Zpa5rFssgNUYACFKAABShAAQpQgAIUuNEFbC/YlJbgppFM7hvfv/Xj59UfY5JaT8J3KUABClCAAhSgAAUoQAEKUKC5gO0FmzKgkqmP2UvlbXVx2Tj6UnFzOy6hAAUoQAEKUIACFKAABShAgSsI2F6wqQ3HuESDxtwZ7yL7CjDKYt2xr7Ao2ZAgsXdgKyn5FgUoQAEKUIACFKAABShAAQqYC9hEsNm0/NIL9y5eZjBInYvOo5/BD8dyYZ5GV5KLfd+8gYE9piJVSZn0Dn43OsjcjfMUoAAFKEABClCAAhSgAAUo0IqA1Qebh5Y8ALUM5mRn9hg1bXojScoCjOjhL2niMH78aMTF2cHZ3R8J42YjNdaYLPltrDtkqnzb+FHOUYACFKAABShAAQpQgAIUoEDLAmbjfbSc4EZfWl2Z1WwXUvXFlZcvTkWyscpswzsN6VKRWW1e9tmQgjMUoAAFKEABClCAAhSgAAUo0IKA1Qeb4YlzsHjxfXByamHv27moslKL23tyjM12cjGZNQpIzQBOFKAABShAgY4SqK/vqDVxPRSgwPUsYPXBplfMWDwR8/MPQeHpfdifXgZUSMmmxuq5fj4UP0kBClCAAhSgAAUoQAEKUMBMwOrbbJrtawuzNaipaa16bC6WP5qAMWNG4A+fHW3h81xEAQpQgAIUoAAFKEABClCAAi0J2Gywmf7DEoy2U0OtVjfpPMi8IyE7O3/MTjGyVTaOudkSJJdRgAIUoAAFKEABClCAAhSgQKOATdYLLdm3BGEjZjUqtGNuXGJkO1IxCQUoQAEKUIACFKAABShAAQooAjZYsqnDt0saA82kJxdi4ZNJjd+Gac/jncULMc007Im8My35LGbGaBvTcI4CFKAABShAAQpQgAIUoAAFWhWwvWBTdwTJSw0m097Zi9WL5mDOonex0BhcLvvfP2HmE3Ow/GAWFhtj0BXvJyO3VUa+SQEKUIACFKAABShAAQpQgALmArYXbMrelxgFhg0xVY3VINgYbK7+/ojx3SA8sXwvpimvkmdj2c5C43I+UYACFKAABShAAQpQgAIUoEBbAjYZbJoqxDpJ50CGSYuYYfqwEsWXZJgT06TtiXGGxdi2M820lM8UoAAFKEABClCAAhSgAAUo0IaA7QWb0qmsqWTz4ImLjTxOhtmUb/ajsQxTg8CoxMY0nKMABShAAQpQgAIUoAAFKECBdgnYXrCpDcc4Y1vM15OmY8mmQyiUoTYjE4YZwFJmY/kPxhaahTvx6XzT2Cft8mQiClCAAhSgAAUoQAEKUIACFBAB2ws24YUJTzxvPPgpmDUmFqNeOwRNzEhD+0x5Z/YIfzzw1EyM9h4EY19CCPB14ReGAhSgAAUoQAEKUIACFKAABdopYIPBJuA3+lns/fBJMyKpW4to/G6hschTXq14fSkayzTn4Zl7o83Sc5YCFKAABShAAQpQgAIUoAAFWhOwyWBTAYmfsggVOaewY8sOrHnU0BXtwDmfY+/KhTBvpZk0bxlOVbyIUIfWGPkeBShAAQpQgAIUoAAFKEABCpgL2HQIpfGLwEB5NE4OiJ84B5vq5zQu4hwFKEABClCAAhSgAAUoQAEKXLWA1Qebutx0ZBVLD0Bwhn9oELSyx7npp6FfdBVc7p1D4aexeq6rEGFSClCAAhSgAAUoQAEKUIACVxaw+ujpyMfTkTDb0Ppy4d5izIkHPr6rG2anXhmlpXcW7ijAnIFeLb3FZRSgAAUoQAEKUIACFKAABShwmYBttdlU+gH6mZNGbfVx+c+U4ccoQAEKUIACFKAABShAAQo0F7D6CKrn5LexMSpbv+ehUc7y7ICJK7YgKrcajs09WlxSBVckxGpbfI8LKUABClCAAhSgAAUoQAEKUKC5gNUHmxq/aIwe23TYkqCY4QhqbsElFKAABShAAQpQgAIUoAAFKNBBAlYfbLbkVJh+CDt/3Ibdh4+hoMKQwtnZG4FREegbOxC9YyPgZZMyLWlxGQUoQAEKUIACFKAABShAgasXsKmQqvD0Jrz8h6ewILnt3oFmLPwQcx6bggjWnr36bxU/QQEKUIACFKAABShAAQrYvIDNdBB07PNn4N1tTLsCTeVbsXTuVHRzH49v0nU2/yUhAAUoQAEKUIACFKAABShAgasVsIlgs3DfEvSYtKCJzbR572DdjlSczcpBTk4Wzp5KxZZ1K/H8jESzdMkYF/Yo9pWYLeIsBShAAQpQgAIUoAAFKEABCrQpYAPBZi7enT6rASL2yWU4VVyN5S/OxNiBMQgN8oOfXxBCI2IwfOxEPLtkE4rP7sC8hphzBaYv2NTwec5QgAIUoAAFKEABClCAAhSgQNsCVh9s1qRvx1xTE83Exdi86CFph9l6U1Vt6EC8mLwDSUa/1AWf4hhr07b9bWIKClCAAhSgAAUoQAEKUIACRgGrDzYris83HOzFrzwAr4ZXbcxoB+LVlU8aE11ErrHX2jY+xbcpQAEKUIACFKAABShAAQpQQASsPtgsSEs3HugkDIxsd6ip/0zn7nHGzyZjf1qhcZ5PFKAABShAAQpQgAIUoAAFKNCWgNUHm/nnjzQYqBvm2jdTjcr2JWQqClCAAhSgAAUoQAEKUIACFGgiYPXBphocKLPJEecLClCAAhSgAAUoQAEKUIACFhCw+mDT3LDa/AXnKUABClCAAhSgAAUoQAEKUOCaCdhUsKm+ynq0arXTNYPniilAAQpQgAIUoAAFKEABClizQOtjgFjVnifjj/ePh/vV7FNx2tWkZloKUIACFKAABShAAQpQgAIUMArYULAJpCQn88BTgAIUoAAFKEABClCAAhSggAUErL4arVrr0iGMQR7OHbIeroQCFKAABShAAQpQgAIUoIAtCFh9yWb0lCWonvAW8Av2tEa+CRqHX7ACW/gmcR8pQAEKUIACFKAABShAAQqYCdhEBOWg+WW7+cs+babNWQpQgAIUoAAFKEABClCAAjYiYPXVaG3kOHI3KUABClCAAhSgAAUoQAEKXFcCDDavq8PBzFCAAhSgAAUoQAEKUIACFLAOAQab1nEcuRcUoAAFKEABClCAAhSgAAWuKwEGm9fV4WBmKEABClCAAhSgAAUoQAEKWIcAg03rOI7cCwpQgAIUoAAFKEABClCAAteVAIPN6+pwMDMUoAAFKEABClCAAhSgAAWsQ4DBpnUcR+4FBShAAQpQgAIUoAAFKECB60rAtoPNmlxs+uglPDA6DnZ2dsZHHEaPfwAvLFmDY7m66+pgMTMUoAAFKEABClCAAhSgAAVuFAGbDTYLD32O0Wp/jJk6FytSUs2OVypSkldg/qwk9PB3xgMvfYNCs3c5SwEKUIACFKAABShAAQpQgAJtCzi0ncQKU2R/g1Gxk2AeYsYmJiG2sxYlWalINgs+V8wdh9Siddj74ljYJpYVHn/uEgUoQAEKUIACFKAABShwzQVssGSzBmtentsQaE5bmIyzBRU4uGk1li9fjtWbDqK6OAd7172DJCN/6oJx+OwYq9Re828jN0ABClCAAhSgAAUoQAEKWI2A7QWbulS8/7qhTDPx+Y1YPucuhHppmhxQB60f4sfOxOqcLQ0B57/XH2mShi8oQAEKUIACFKAABShAAQpQ4MoCthdsmlncN76/2asWZv0GY9aTsfo33Ft4m4soQAEKUIACFKAABShAAQpQoGUBmww2tS1btLDUAf7h4S0s5yIKUIACFKAABShAAQpQgAIUaE3A9oLNaqDEKHLseE5rNvJeNj6fnaxPU9xGSr5NAQpQgAIUoAAFKEABClCAAo0CthdsaiMxztjzz+uTuuGlb46hptGjca6mEGteeBwLjEviwnwa3+McBShAAQpQgAIUoAAFKEABCrQqYIOjeWgx5YVlmJU8XQ8zd1wPzI1NwvOP3Iv+vbvAVUbVPL0nBYvmvt7QYy0wAzNvCW0Vkm9SgAIUoAAFKEABClCAAhSgQKOADQabgDbmIRxdeQI9JhnLLVOTMd9YXbaRxjQXi5VHX0F00w5rTW/ymQIUoAAFKEABClCAAhSgAAVaELC9arRGhOiJL6Iiay8WP2kaTbO5zoznP8Sp4oOYGN3+LoWar4VLKEABClCAAhSgAAUoQAEK2J6ATZZsmg6zJigeTyxajccXFCIr6yIqpPMg/aR2R+fOQdCyNNNExWcK/H/27gQwqvJeG/gzk5lksu87IQlhhyQSRBZZBEVxA8pSLaIVbdHaVlFv9cNWbNEr1VpBq17BXtGCXhdQgiIuQARklS1h30nIBiH7npnMfP8zM0kmmSQEEiaBeU4bcuas7/lNPO/5n3ejAAUoQAEKUIACFKAABS5J4NoPNg0GVMlP65M7QiNjmmxShaqqhkUanQ7XPlbD9XKOAhSgAAUoQAEKUIACFKBAewSu+fhp//9OQ8KjluFL2gP1xu4CPJ7k355DcF8KUIACFKAABShAAQpQgAJOI3DNt9nUV1/ed5mQcHn7cS8KUIACFKAABShAAQpQgAIUwLVfM7TXnY9i7ulYwN29Dd+3O/z83LD12WeRnCabKwGn8lumqrr2nJaP/JcCFKAABShAAQpQgAIUoAAFWhG45qvResdNwMsLJ7RCYLuqFJs/WICP6hZZA83Zb6zFbwezCm0dC39TgAIUoAAFKEABClCAAhS4mMA1H2xeDKBuffqOj/HEsPvQqHXn2LnYtHQuRkVz6JM6J/6mAAUoQAEKUIACFKAABSjQFoFrvs3mRREKj2DxI+MQ0yTQnP/5bug3vMxA86KA3IACFKAABShAAQpQgAIUoIC9gBOXbFZhz4o3MXj6s41UEma/gU///hj6+jsxTSMRfqAABShAAQpQgAIUoAAFKHDpAk4ZUZWmb8aCWaOxIMUWbCyWbnoPD46Ks13IeQpQgAIUoAAFKEABClCAAhS4DAHnqkZryMPqVx+BT0zjQHPS/M+RVbmBgeZl/AFxFwpQgAIUoAAFKEABClCAAs0JOE3JZvpm6QBodJMOgBJmY+2nf8eEvuxptrk/Di6jAAUoQAEKUIACFKAABShwuQLXfMmmQToAevORRMRYA82EBGXwzASYOwBKXcxA83L/crgfBShAAQpQgAIUoAAFKECBVgSu+ZLNtGWP4Ykl1gEzBSItTeYnzUVUWRreefOnVmgaVlUVV+H6Bx7HuGhdw0LOUYACFKAABShAAQpQgAIUoECLAtd8sKl1i7S/+OQFmNVoQE37TZoueeXW3zLYbIrCzxSgAAUoQAEKUIACFKAABVoQuOar0QKlLVz6pS0O8XW/tB24NQUoQAEKUIACFKAABShAAScWuOZLNuMf/gQFv6xs51esgbc/q9C2E5G7U4ACFKAABShAAQpQgAJOJHDNB5vQ6ODPQNGJ/qR5qRSgAAUoQAEKUIACFKBAVxBwgmq0XYGZaaAABShAAQpQgAIUoAAFKOBcAgw2nev75tVSgAIUoAAFKEABClCAAhRwiACDTYcw8yQUoAAFKEABClCAAhSgAAWcS4DBpnN937xaClCAAhSgAAUoQAEKUIACDhFgsOkQZp6EAhSgAAUoQAEKUIACFKCAcwkw2HSu75tXSwEKUIACFKAABShAAQpQwCECDDYdwsyTUIACFKAABShAAQpQgAIUcC4BBpvO9X3zailAAQpQgAIUoAAFKEABCjhEgMGmQ5h5EgpQgAIUoAAFKEABClCAAs4lwGDTub5vXi0FKEABClCAAhSgAAUoQAGHCDDYdAgzT0IBClCAAhSgAAUoQAEKUMC5BBhsOtf3zaulAAUoQAEKUIACFKAABSjgEAEGmw5h5kkoQAEKUIACFKAABShAAQo4lwCDTef6vnm1FKAABShAAQpQgAIUoAAFHCLAYNMhzDwJBShAAQpQgAIUoAAFKEAB5xJgsOlc3zevlgIUoAAFKEABClCAAhSggEMEGGw6hJknoQAFKEABClCAAhSgAAUo4FwCDDad6/vm1VKAAhSgAAUoQAEKUIACFHCIAINNhzDzJBSgAAUoQAEKUIACFKAABZxLgMGmc33fvFoKUIACFKAABShAAQpQgAIOEWCw6RBmnoQCFKAABShAAQpQgAIUoIBzCTDYdK7vm1dLAQpQgAIUoAAFKEABClDAIQIMNh3CzJNQgAIUoAAFKEABClCAAhRwLgEGm871ffNqKUABClCAAhSgAAUoQAEKOESAwaZDmHkSClCAAhSgAAUoQAEKUIACziWgcdzlliL95HkY2ntCjQ+io4PhwIS3N8XcnwIUoAAFKEABClCAAhSggNMJOC5mKz2EWT2HIaW9xAlvoCD1cfi39zjcnwIUoAAFKEABClCAAhSgAAWumIDjqtFqtR1zEYFuLNXsGEkehQIUoAAFKEABClCAAhSgwBUTcFzJpi4BS9O2I7dCuZbLDTz18AjrDe8rxsEDU4ACFKAABShAAQpQgAIUoEBHCDgu2JTyyOj4oYi+7FQXYs/mvSjKL4Ah2p+lm5ftyB0pQAEKUIACFKAABShAAQpceQHHVaO9yLUYDIZWOw8q3LEMg0ffjNGDn8bhqoscjKspQAEKUIACFKAABShAAQpQoFMFOj/YNKRj8SPjoJU2nVqVCqoWfgKGPVEPVaGvn+UMBShAAQpQgAIUoAAFKEABCnRBAQdWo23u6gvxwbQYPJrc3LoWlk2ajP5stNkCDhdTgAIUoAAFKEABClCAAhToGgKdWrJZdXItZtUHmpPwyhvzMcnGZf677+KVObZLZuPMqgfZQZCNEWcpQAEKUIACFKAABShAAQp0RYFODTaPr1trNZmN7QWr8Mzjz+O9TfMty2YuxdxHHsEzC1cha9Mb1u2WIHlzXld0ZJooQAEKUIACFKAABShAAQpQwEagU4PN+nRMGo7+/pZP3sFRlpnl65FWapmNGPU4dr870/zhiT/8Hwoti/kvBShAAQpQgAIUoAAFKEABCnRRga4RbHq71o+8qYtJgCWszEK5oUGt/y23Wz6kbcAxaxDasJZzFKAABShAAQpQgAIUoAAFKNCVBDo12NTDGjUuP4Bz9Spa61wKth1rKMPU+QQgwbqmbov6XThDAQpQgAIUoAAFKEABClCAAl1KoFODzV5DrKWVWIBZTy7G/nQJLnUxuNnaJ9CzC5ahroXmni++RJqVjiOfdKm/ISaGAhSgAAUoQAEKUIACFKCAnUCnBpveSXfjFWtxZcqiR5EQMxV7DN4YNdlSkRbJTyAk8X48cn8iBj+6xJr4UPi6210HF1CAAhSgAAUoQAEKUIACFKBAFxLo1GATiMAzP+7GnLr6sQKjrwTiJs3G2DqktOVYsryuTBOYm/wc+nby6KB1SeNvClCAAhSgAAUoQAEKUIACFGheoJODTUmUfxIWplbixO7t2J62FIO9lWWj8P353Zg/sz7kBBImYen6E3h5YnTzV8KlFKAABShAAQpQgAIUoAAFKNBlBLpIGaEOcUlDEWfDoglOwvPLNsiPzULOUoACFKAABShAAQpQgAIUoMBVIdC5waahFHmFVZcGpdEh2F8p/uREAQpQgAIUoAAFKEABClCAAl1VoFODzVKpNhsy+IlLs0l4AwWpj8P/0vbi1hSgAAUoQAEKUIACFKAABSjgQIHOb7N5qRcb64NOjZAvNb3cngIUoAAFKEABClCAAhSggBMKdGrc5h41FsmfJwOuzcnXoCDnFLat/QhLkht6o92+9EFczZVoTXKpRvlH+YFJmWnu2rmMAhSgAAUoYBVQ8gr5Uf7HiQIUoAAFKHA1CXRqsKkJjsfEafGtej34yDN4YccHuH3YLCgh51vJ+zH0wdb3afWAnbxSJedXyz9qtdr8Y/7QyWni6SlAAQpQoAsLSIyploxDrVJyEIk7bX7MC/gPBShAAQpQoIsKdGqw2VaTiKEP4ouPtqHnfUuwfNb7+OvMhYi7KlJuf4UaFxe461zh66VDibcHVC5XX01m+6viEgpQgAIUuGICUhVGq1HDy8MdtRJv1tQaoTEYIb84UYACFKAABdokoLyuVGlUcJGXl5ZXl23ard0bXTUhW2TScLnYJfJzGhcqgbirtC5tVFgAbhnWH90jQlBUVilvqhlstvuvmAegAAUocC0LSBValTwceHi5o9Skwf5zZXBxqWS12mv5O+e1UYACFOhgARepHdPNV4coX3dolYDTQRHnVRNsFpw51sHknXO4IBm2RSdvp3vFRsBQy/Y3nfMt8KwUoAAFriIBeSAwSmhZXl2LI8UVOF9UAXP24aAHhatIikmlAAUoQIEWBLRSvqWTks1IHzfZQinsckwm0rnBZlUhsgukmLLVqRInt67E6OkLrFvFQgLyq3ZykWqzOleNvKVWWzsJumovhQmnAAUoQAEHCdRKsFmr0sNUVAm9VKs1yI+j3ko76BJ5GgpQgAIUuAICStGWJb9QyYtKx3c116nBZumhZYi8xHE2E+bfjb6dmuqO+ytguWbHWfJIFKAABa5VAeUhwTHvn69VQV4XBShAAQp0lsDVFbaNfQVfzB3XWVYdel5zoMlos0NNeTAKUIAC16KAeeSTa/HCeE0UoAAFKHDNC3RqsNn6OJs29q5eiO0Vj/i4YJuFnKUABShAAQpQgAIUoAAFKECBrirQqcGmoSILqVtSgNjb8KfHJ0DXipIhezNefe5lVIddfNtWDsNVFKAABShAAQpQgAIUoAAFKOAAgU4dd0NTmY55ixZh3qr0i15q5dlteHaBsu0xXKxLoYsejBtQgAIUoAAFKEABClCAAhSgwBUVcHDJZhU2LP4H1p0H3OGGysytlotLWYv5LxbLsupmL1a2xNZ5db3RKt31cqIABShAAQpQgAIUoAAFKECBrizg4GBTj+OfzsMCqTnbeErGgnnJjRe1+MkNDk50iynhCgpQgAIUoAAFKEABClCAAhRoXsDh1Wi9I5tPSFuWJkyag/XvTYV3WzbmNhSgAAUoQAEKUIACFKAABSjQaQIODja9MWOZCXq9DEwtfbkXbH/FcuEJr+C8MsioLFfWNf9jQuqqhRgXx1Cz0/5aeGIKUIACFKAABShAAQpQgAJtFOiUGqkajeW07kEJmDNzNtxHDoe/kmBZ3ikJaiMWN6MABShAAQpQgAIUoAAFKECBtgk4uGSzcaJ0cROwcNli/GFIOV5/8n6oVCq8uaewYaOqPZgsyxInP4kVOy7eY23DjpyjAAUoQAEKUIACFKAABShAgc4U6NRgU7nw/R8/icjBt+PZRcvtHfSWRWnJizB9WAwmv/gtquy34hIKUIACFKAABShAAQpQgAIU6GICnRts5m3AzPsWNZAkzEbvQPeGz+6BGDczof5z8rzbMXc1SzjrQThDAQpQgAIUoAAFKEABClCgiwp0arC5f81SpFlh5n6eBlPqYkyI1jVQaaLx+LJUFKQlY5J16aLnP0VewxacowAFKEABClCAAhSgAAUoQIEuKNCpwSaqrSJj38CfpsW3yOMfPxHvrZ9vWZ+2FadKW9yUKyhAAQpQgAIUoAAFKEABClCgCwh0brBZB+Djc9FeaHV+bnVbQ1s/xxkKUIACFKAABShAAQpQgAIU6IoCnRps6qutRZTJ23DmIj3/VJU38Fn7DWpYwDkKUIACFKAABShAAQpQgAIU6FICnRpsxg4dZ8VYgoQ7XsT+vOYjzrz9K3DP6Gct2yaMQA/vLmXIxFCAAhSgAAUoQAEKUIACFKBAEwGVSaYmyxz4sRCLJwfg0eSGU46dOQcTRiaiR3gAanKOYOOnH2FJSl03QsCc5BNYODGuYYerbK7aYITyUyU/RuNVlngmlwIUoAAFOkXACBOKK/XYm1uM4io9DEaTjE3dKUnhSSlAAQpQ4CoSUAI9Jb/QqlWID/XBoAhf6FzUsswxmUgnB5ty9aX78dzIBCxoiCdb/PrGzl+Lb56fAJv+alvctquuYLDZVb8ZposCFKBA1xVgsNl1vxumjAIUoEBXFujsYLNTq9GavxjveLycWoLtn7+BSQ1Dajb+zsbOwefbz2DDVR5oNr4ofqIABShAAQpQgAIUoAAFKHDtCnR+yWYjWwMKs7NwrqTSulQLn8AQRARbG2kaCpGeZUBkdPBFe69tdNgu9IElm13oy2BSKEABClwlAizZvEq+KCaTAhSgQBcT6OySTU3X8tDAPyJafmxTZUD2kR34fvUnWPjsIqThDRSYHoe/7SacpwAFKEABClCAAhSgAAUoQIEuJdDFgs0Gm9LsI0j5/nO8v3Aekm3bc45tGG+zYWvOUYACFKAABShAAQpQgAIUoEBXEuhSwaahNBu7U77H++8vxJJGEaYNWaTbVVuF1uYqOEsBClCAAhSgAAUoQAEKUOCaFuj8YNNQiiO7U/D5++9j3hKbMVBs2RMmYf5jM3HnhDFIuIrba9peEucpQAEKUIACFKAABShAAQpcywKdFGwq7TB34/vP38fCeUukHWbzU8LMN7D0pV8xwGyeh0spQAEKUIACFKAABShAAQp0WQGHDn2itMNcvfhFTE7UIrLfMMxqJtCcOWd2PVbsyLFIYklmvQdnKEABClCAAhSgAAUoQAEKXC0CjivZrNqDSZGDkWKVSZAxNdOsRZpjZ8/FY/dMw5gRSQjWGXD7hSW4b7lsWK2/WhyZTgpQgAIUoAAFKEABClCAAhSwEXBcsCknjbQ5sRJozl66CX+fOQr+jVJRiZpSmw05SwEKUIACFKAABShAAQpQgAJXnYDjqtHq9chqwrNk1h8w60+vYvWOIyg1NFnJjxSgAAUoQAEKUIACFKAABShw1Qo4Ltj0HozlaevxxtyZNlhpSF70LCYN6wcfbSIeefED7E8/g/MlNptwlgIUoAAFKEABClCAAhSgAAWuOgGVSSaHp7oqD3t+XINl7y7EopbG05REjX1lEzY8M8rhybuSJ6w2GKH8VMmP0Xglz8RjU4ACFKDAtSJghAnFlXrszS1GcZUeBqMJKtW1cnW8DgpQgAIUuFICSqCn5BdatQrxoT4YFOELnYtaljkmE3FcyaatoC4YSRMexMJVqSjJOozkd+dirO1663zKs6OhGvcIFq/YjOxC1rNthoiLKEABClCAAhSgAAUoQAEKdEmBzgk2bSi8I/pi4iMvY4OpEmd2r8crcybZrJXZlCV4dPpoRAZoMe7+57BiR3rj9fxEAQpQgAIUoAAFKEABClCAAl1OoNODzQYRHaKTxuGZhaugLzmP7clLMXusjI9iM6UsX4Dps5NRaLOMsxSgAAUoQAEKUIACFKAABSjQ9QS6ULDZgKPxDsbQiQ9i8YZUFGSl4fM3mq9m27AH5yhAAQpQgAIUoAAFKEABClCgKwl0TgdBlyVQhZM7fsRxbQImJEVc1hG6wk7sIKgrfAtMAwUoQIGrS4AdBF1d3xdTSwEKUKCrCHR2B0GargJx8XToEDd0AuIuviG3oAAFKEABClCAAhSgAAUoQIFOFuiS1Wg72YSnpwAFKEABClCAAhSgAAUoQIF2CjDYbCcgd6cABShAAQpQgAIUoAAFKEABewEGm/YmXEIBClCAAhSgAAUoQAEKUIAC7RRgsNlOQO5OAQpQgAIUoAAFKEABClCAAvYCDDbtTbiEAhSgAAUoQAEKUIACFKAABdopwGCznYDcnQIUoAAFKEABClCAAhSgAAXsBRhs2ptwCQUoQAEKUIACFKAABShAAQq0U4DBZjsBuTsFKEABClCAAhSgAAUoQAEK2Asw2LQ34RIKUIACFKAABShAAQpQgAIUaKcAg812AnJ3ClCAAhSgAAUoQAEKUIACFLAXYLBpb8IlFKAABShAAQpQgAIUoAAFKNBOAQab7QTk7hSgAAUoQAEKUIACFKAABShgL8Bg096ESyhAAQpQgAIUoAAFKEABClCgnQIMNtsJyN0pQAEKUIACFKAABShAAQpQwF6Awaa9CZdQgAIUoAAFKEABClCAAhSgQDsFGGy2E5C7U4ACFKAABShAAQpQgAIUoIC9AINNexMuoQAFKEABClCAAhSgAAUoQIF2CjDYbCcgd6cABShAAQpQgAIUoAAFKEABewEGm/YmXEIBClCAAhSgAAUoQAEKUIAC7RRgsNlOQO5OAQpQgAIUoAAFKEABClCAAvYCDDbtTbiEAhSgAAUoQAEKUIACFKAABdopwGCznYDcnQIUoAAFKEABClCAAhSgAAXsBRhs2ptwCQUoQAEKUIACFKAABShAAQq0U4DBZjsBuTsFKEABClCAAhSgAAUoQAEK2Asw2LQ34RIKUIACFKAABShAAQpQgAIUaKcAg812AnJ3ClCAAhSgAAUoQAEKUIACFLAXYLBpb8IlFKAABShAAQpQgAIUoAAFKNBOAQab7QTk7hSgAAUoQAEKUIACFKAABShgL8Bg096ESyhAAQpQgAIUoAAFKEABClCgnQIMNtsJyN0pQAEKUIACFKAABShAAQpQwF6Awaa9CZdQgAIUoAAFKEABClCAAhSgQDsFGGy2E5C7U4ACFKAABShAAQpQgAIUoIC9AINNexMuoQAFKEABClCAAhSgAAUoQIF2CjDYbCcgd6cABShAAQpQgAIUoAAFKEABewEGm/YmXEIBClCAAhSgAAUoQAEKUIAC7RRgsNlOQO5OAQpQgAIUoAAFKEABClCAAvYCDDbtTbiEAhSgAAUoQAEKUIACFKAABdopwGCznYDcnQIUoAAFKEABClCAAhSgAAXsBTT2i7iEAhRwrIAJploDaioroTcpZ5Z/LP+3T4ZKA3cPd7i4qKGyX2u/xGRCbU05qoxaaDUauGpd7Le5gktMtTWoqdZDrzdC6+kFNxdJdbMJFwOjAVVlFVC5eUCtpFXZtotPtTUVqK01Qg9XeOhcoer6Se7iokweBSjgGAHlnluL2uoqyO250dT0PibZiOW+bVJBrXaBxl0Hx+YkjZJn/WCC0aBHTU1N/UpzOus+KfdiuRAXtRYubq5XOL2SFskL9CY5l4v4aFrWMeqrYDRKvgzJ41y1zDPqvi/+vqYFGGxe018vL+7qEKhF2YVMpP2wBgfKAXWNHpIboSELtV6FBJpwjcLt996GEB9PeLWhXoKxVo9zu1YipWAg+vWKQlLfEIeS6POPYc/2gzhwogT9fnE/hkS5wU3TTERmrIahNBNrl66C38hJCO4ejfgQV4em9XJOVnB4A3IulGNfdQLuHd/b4cH85aSZ+1CAAhQADKguykHG1m+RUdTgoQSaLtqGe68SwNUaJDeS7Ke21gdeQeHoN2YM/Nwkr2rYzeFzppoyVJ8/iB0/HYdJVWsOnI21tQ3pkKBP7eoO/4i+6JGQCC8PF1yp95dKoFmUlowj5fGIiA5HTExQQzqazJWd+glFRRXIqOmHYcPjJDDtTMUmieNHClwhAQabVwiWh6VA2wWMqMw/jeOrXsL/7AWiE5Lg7e0DSEmn7WQ0alBSGoPE226Ct2fbgk2lZLHk9Aosfr0Ik349Cr0k2PS2PegVnq8tO4NtW1fhvRW7oN1Ygv+89xv0DPGFV9PzmgzQV5zDD/9+B3HB8egbEN51gk2TBP81p/H6xJfhO/Zm9P31Pbgx3PIwVnZmKY7syMK/1v4Wt4zsgVApOW75nXbTi+ZnClCAAp0lUAtDRSGKj2xHag7gLslQXgOaaqpRdewQLsh8LcKgdQ1Hj95yC5SVlaYeCO7hgt5jOivNNuc1VqGm6Dg2fPIOqit7ICjEDYHyLrXauon+fC6q8nJRqPaQks1xmPTnhxEzIBrByoV28GQylKDy5GtIWfEQkiaPRJgEmzo5x4Wtb+KLMz2g8YvGr++INwfn1VmfImd/Ln7YPAMDkqLhp5EaMR2cHh6OAl1NgMFmV/tGmB6nFDBJCaShuhzeiTMwevz1iAqSYFPfuGzTZFKjqsoP3Xx18LiUl6ESyJWo9KhWGTslU6uWalpF+eeAQ2uwaec4qAfFISFSrq/JZJL0VRQXQ28wwNioPlSTDR3+UanTXIPsrIOouNAfIRUNdc5cAwYjMLY7koYHSjXlS/lSHH4RPCEFKEABGwGpxukdgvChd+KGUkAra5Sgx1hVimKPc9iwAwjudx16DL4e0RGyXNbpEQAP/2BIIWGn5CU2iZdZ5b5sQGWpFwbecQsiInzg76sEyJaptrQE+qJ85OYewvZ1e7DnwI0o0WoxLjGi49OudoM2aBS6J4YhIFyagdSloTwHxWe8oQ30N/spyzW+CfCOjETMdQHQSHMYThRwBgEGm87wLfMarwoBtbzh7DZ2FiZMiseACM+Lp1kCMqWdY02NQbaVeclCVVIHSq11g0atzMti+VGr5VVukAYqT1lXd1STUapESXsdJbCT9iOykVSd0sov+W3esW5D5dBK25gaCQKVcyhnkcNKWl2V4Krptja7mWelvQxU8mQi1WTdinciJeVnBHm4SelmP3holSNZJ2XWmjilZLBp6aDStsgo7VqVNCjXqpJ0qly0ljRYD1H/yyRv7PV62d5ozuBVkgZXV+VWJ/vKtRrlRC7iY74Qs6HS7kd5RGnGUFkmVZqNhlqUm/Kg1pegpLJa7CxWnhG3IlpXhjt6BMJdozjJccREaVNrP8l6MTdJuyezt5IGSateSaukS7kyyAsFF2nHY/ke7I/AJRSgAAU6RkCCTd9wdBs1Fd1sDlhbmY8LrtvwUyoQdd0IjLj/boRLlVnl/misNd+lzLd0ldxJlTzEMrnI7VTWSdVV5Vau/DSe5P4m92OTUrW10Qo5ht4g90RZpxxB7o0urq6ouz032rTZD8rRInD9tLvRLTIIvk2eaI36CpxP+wrHdr+Mw0ePo8rNHzdJsKnkL0reqZy3Vi/3ZPmsUmugVtLXQn8ISpMUJU8xKXmGbK+W/Me8rdzvVRpPuHebivjxAQiK8Jfji5XkGyZjOUy5JRITl6FW8jC1Sg234NEIdKtAYnd/aF2k7aYcUy3HUCsX3cyk5HuSOFlTt00LZsoWzR+imaNyEQUcK9DkP03HnpxnowAFmgpIlU1zVtZ0uf1nJbOsOH8KB4+fQYUUgpqkTafa1QtRfQYgwt8DOm3jbL3REWqKUJCdg3NZOcguKIPWJwzdevaBn58Pgr0ah3pKoFl4OhVHsitQY6iWznvU8I4YiIGxIW1oo6hcTy3c3LS4/oa+2LXsKXjXPgFd+DOY0k9eQ7dxqirMRdG5THMapDIXdL6h8A6KMqeh0SHkQQA1hcg4dBz5BUXIq6yFT1gvJMT3gFYePAylZSjWBiLc302ei+RxSV+JsvNnxDAd1bVqO0NNrVTVKi9EgZTMKg9WlWUlKDiXjbxAP/iEhMAzoic8Qk0IlorBmop85FVIECyBeHCIn9LEyWZSHk9qUXw+S6qj6WB085Y0eJjTelrSWlRSKsGsCnppExXXrx/8/X0QcAWqe9kkiLMUoAAF7AXkVqXEN0o2pNxOJRayTjUoKyiWxWp4BgfCpVrupbnZ8qJOtnMPhremCvAJMnd6Y34RWbeb/DbKRlVSymj0Doa7TmN9oSkHr5Z79OlTKCsrR428aKut9UZE3/7w8nSFZBltnpQ0KmltOqm1HgiJvwszf7kCn+2ohPFUgbkvBKWKq740B5XFBcg9kw3JJuAeGAv/sFD4hfhLd2+NJ+WFY+W5M8g7l4vKKun0zugm9//uCI4KletR8hItPKMGoE+UNzTyElUlVXwrCgpQUiYvdLMKoKo8h8KCfLi7+cAzMBqBQSppziLVe6sK5eWlBKAeEqx6uTcJxJU0SMltfg5qXLwlCNfBx1uifqtZhZhV2Zh5ipnuEswaXyE/UeDKCjR+Hrqy5+LRKUCBDhIoOrkNx3d9j9/97QMpGVOqnVoPLK82NVKy+cDfFmPwDUOlbWHjE5oMFag4ux7P/GY+jmZfQJ5Suqm8nZa3uhqNFjEDB+Ohv72LCX385K1rDYozDyPlwwV4cdl2CYSUDF1ydXl7qnZxRc9fvojptw3F5BvjzO1TGp/J9lMf+AQE4OnX7sc3kx9A2ufb8Gbqv5H07dPoJrl6c/0FWfZWLqoKOz54DqvX78HanafNaVAqdKmkR0Q3n1BzGt56/Gb4ywMMqgpQeHwj/vTbeThaWIIyN3kDHCKPRhnSE++Q2xGYl46AEnng+c27ePue/tCe340t363AC299IQ9MenmIsr4WtjEcFlYAl+PJePTVHyVQlFZMaz/GD5tWY6m0zXzlq42IPPQMju7JxcKvZuL1p3bh9Y92wuDXG396+2MMkli6/tokaEX+Vtw/41kEJU3C8EkzcX/UMfz5V/+F3ZLWYqX0VLloeXjQaHsiLmEIfrfgBdzcgxGn5W+B/1KAAo4WUO6I5lePyn2/+hQ+/+dyVEiwNe6B0djzj0XIKC9HZVA0XIZORvCaf6HXc/9B717dERtoE64Z8nH+wBZ898pb6PbchxjcOwS+6lJUZGzHqhf+gdPyArBC7n/KpDQVcXHtiYETJmPQXXehT7e23f+UNLZcqKeCq4e3Oc+QM8gLxnKc3fA21ny5EdmSB9ZKbRQlUFVqyqhd+kkQORT3vPYwIn0kT5TmJxW5B3E8+XUkf38C1VVKaahNyebgGRg1YTxGJPii9NupWP7Fwxg0oQ+uH6PBN394EseqSlBULinL0+Kd3/0HpokL8AuPd4BzFVi7cQpm/joVn328HT1umYkhUx5CtG3rEqkNhKKfsejxeYibMhfRvXogwet4vVmlmCk5ZL3Z7WJ2Z9vNFG9OFHCUAINNR0nzPBS4qIBJ3pqWobxSAqVypepmXQSp7ChvSyXAcvf2hKb2PE6n7sHWNVvg0vsm3D4oGj5uUqpplHafFXnY++0y7Pr5CCoQgiGTYmzOKlU2K4pw+uvlOGgMRdDgQRjRpxt85E2sseoCDqxLRnnuKXy95iBG9hgGTdYenE7bgTVbjiB8yF0Y2isE7q5SQUhfjaIzO7Fu52rs9DMiJioEw7q31u2QBHxSPcmnW3/cdO8tuJCSjiNnf8SXKZMxa0x3+Lk3/zpWGQ6m7NQmyeS34Uy1P3qMnGxOg1JeW5mfjvzzmVj3/YfYOH4gbuotb3xzjmPjvz/F/pJQDBo3HmFSTck3UAxzi5CaugOZuRk4VqJGtFQdRu05s+HerYeh6zcOE6WjBnepPtXUMOjGWIzofwvumarB+x8mwz92AHoPGi6dF+kQ5SPdHNW6oFJ6zsiR7uw9IyXoLt2A/NJspJ3Ol9JUaZNjjTaN0v42/8Ru5GR6IizJFaG6Qvz09ofYUxKIvmPHISQ8AP5ucmU1BTi0caN8Dzux6t/rMeilu+Anzyot1LCy+W45SwEKUODKCrgWZaAgMxs71pShyCMa3QZEwCM8DC5hrjgrnfEY5d5qqn/zWZcWaQIhtUoqZb1SZdRUK8Fl3hkc++IrnC73R8SQkQgI9ZNhsWR7QzHSN6eg6PAu7FGFIPK3Y8z9E7RSR8d8EqWWabNVSKVNZ01JOo7/nI0KVbzkk9WozNiG7SnbUS3pD0m8DrExIeaAurYsUzruyUNB+hb8tCYJt0+SHmzV+SjMPIJde04iaODNCA/1h04SapK8tvzsHqRm7kbu8QhkR1wPT4MLiiUfqJTySY28CO07cRo0aR9iX2YcXLwikTSqD7S9guF53g2F8tK3WGoJuYbEQFP0DUpzzkv+VCzBZkNtH6VGUXnGfhSd95aedNVwrcltZOYT7AtPpSmK1azwkJhJnt9Ws7pvh78p4AgBBpuOUOY5KHARAXNGKe33Ck/vxM9bC3Dez10yaMvbXsuuamjdPdBv1C3ops5FxoFj2L/5LIb+98v43cR4hHm5SaBULb3zncSKgu/w1uGzUi3zDAwSbDaErBJsVhbh0HercC7iOYyeeKvsOxRhEqfVVpzFel0+fpbMdnVKKgofuQ7VP6/D/p9346eiEDzzzBxMGRYDb6mnY5LqU7n7knHimRdwelcQNoQPQlL3AXZVjxouWd7QqmRsMdcQ3DDrHpzRfoYjX27Cp/+XjJG9f42E7gFQ4iybhJo/GCVDTk/5HN8cq8XAMaNwz/QZ5jQozyQlmWkSLG5EmqThy69nIfYXUiU1Yx++/OhbeN31EqY88gtc1yccYToxrDqP7/75EFYVAJtKVPCTUkm1/rzZMONIJUb8vz/gjxMT4CuBdFPDzPihCL9rLJ6Mi8a6L9ejW+IIjJv1NGYMkFfQ0sY10y0Mag8pEw3Vwb+PBKHdVpir+m7ddhLTpJqwm4wXqpTE6uUlwonvf4Q+cDDCpapWrOYs3n5vJVST/47Js6dKWiMQofT6VJ2DlMAC6cH3ON7/z6eY+fStGOQnbU6vVJ/9kjpOFKAABVoVkJhGaajprypBfnEO0nbpMGjKbAwdfh2CA91gKjyAlbKJ8m6tuRdjyu7KOuU2ZqzKQVHGQez+OgXqUU8iadod6BUXDk9XyamqzyFVfRI7d5zB/m/WYsg9wyUAkzacLUabSu5WitL8bBRpZPgsczGsLJJJ6Ym9troU5w5vlOG38uA21gu+QQYU7P4KOw+XIWnKrVKDJBFJg2LNnSPp8w/jxHerceC7H7Hpi2Qkje4hzVLOoTT3hDSzKMWE+2fihuti4OflKm035YXrwa9Q9v5HMF5IR1auVKF17QbzeDAynrSrbwySHv4jAj/bgNObr4c2NAm3PHCz9PirRuGOCAkg5QWruHnGDkL3kPdRWFyIkwcyMKx3vKUkWWkPq+SzW7fBGDQEYQEqeFaewU82ZtExofB3F1Cr2c9tNrP48F8KOFKAwaYjtXkuCrQgoLyZVWurcPbLRXg9WYbPUHLshijRvJdPaDc88sEw/CrCICWMIYgIScSYUUnw1UopqHQyo/TdYHAJQr+kAfDMlVI3qbnZeJK3yjIeWY10wGCSdoXK8U01lahWy4DXblEY8+vfIfJwBvKXZ6FcqqSmfr8OqaeL4TthAe6/McZ8KOU8kJ73QpPuwVOTP8bybwuwdfluFN47AMGS5FafCaRtjy7qNtx2cyFC9Jn4w8K5+PLm4Qi6QzJcPzl8XV8T5jMpvfMWYMvnydDf8BKuu/lG/GJwpJSqynJZ7xHaHz2H+uOF6Usx61+bcKsEZEAmtuh88M//9yvcEBuAADdJkJIi9wjc9uhc5FUvRUb6j3IMuW6pE6wYxnZLxIhhifCQnnCbNVSanMqTjqu3LxLlt4dUNdbqpK2NGDaalE6QPOMwfLQf1HskkPxiM/JmSq+DSomzlDFXF2dj28L1UM15CO7dBeLMdnwljxWvPfkABsf5IFAetAxK50IuoRj1q99B230zlmx4BRtT89BveChc3XmrbuTNDxSggIMFlDuvvFjzjYTHmN/jF/eMN798VJnKpW2i2jzkSJMsqz59ymtTeeVonqqzDyJffg5JG8TpD0xDjNSK0blIcKXc/zUhGDjtMWRWfYrj323CsWMFiLwuWIZfsYkircex/FKOfASH169Gto9ynIaVeqnlU5qfhV0/7pLO73rh9lH9EOhRhlMf/gD1wOclmByJuNggc6Cp7KUN7IfeE6S/3VhPbHnqdaRn3A+3IGleIadQDqv0h6eX5hbV1dJURarc+g68G2Nvy0FWZSDKS0oaTlw/p4XOT4Y70UieIP0puEnHb8pxlE78zJOS6bvHYsBwT+w4moPjG3ejfHK8efxstalS+hc4j5PLfoLLw7PgZsxERG9pFgAAQABJREFUzfnDjcy8JQuqVTL9OrPqz3Ds27aY1SeQMxRwmACfYBxGzRNRoBUBJaOtkfYpk17Fa78eikHdpeTM3EOqZR+lFzzlzbJ3uC883BIxdk4/jHpUeoitTMeZQ5k4n5mFYunE5tTxHfjf5RtR1K8vhgQ3PZ9OOiIIw5Cp98Ltb//Ch99/hjUvD8Rv5kover36ontMAiKGDcF/36CXDPg0vj1bgws5BvRxOyclbRskGJJHDeVpQskrJejKzDyAgjJP1Hh3xzkZEjRIaV5jzUebntn2c0TSWLj7B+ChhT9ixbPvoH+351E7LALhtncj5a10+XkcPGZE34RiGPMOY+uWLHMazMeSKsUGqfqbmXtYev0LQtYZZWdfeXv+BOLDPOHt2iQhgfHo0z1c2kAC22RLk1e8GMZjpIxlWlNxGsfSzuJCdq6d4Tj5GuqmCpnRmiNiJQJtbtKhz6gHUaT6CYZv38D+jJmI7OsGt3Kpepa9G2/KLnNGD0B//V7kp52QT8NReWYH0vLkQUQlwab5kFpoTBk4fDIXBqmOtufkBVTbf5HNnZzLKEABClxxgQDpHC1xwo3SGY30cH4ZZyvPPoXy7Dwp4hyI6qy9yCpUxiaWtpSWjEXuf+nSIZsMW2Iw4lRGPkYOlJ6+Www2LQkozM6GvkTpFM8mQSapqaLtjpsevg39bhyHiMASFB7aja3HXDD4qYEI8JdO3Ww2V2ZdpKM8j/ABSJT57LN5CPELQmRQL8RXlmHt89OROuIXCI3tjQEDeyM8KhZhox9GN60raqWjn/wNTQ5m/qjkGo3eojbZyA3db3wYx/J+gGHnMpzJ/RX6hrpCW5GN8rw0fCdb3z20P9yz9yCviZlGzGptzArzlWHD2m7WJCH8SIErKtD0v7UrejIenAIUaF5AieFM8qazf48YxER0Q7cwiXJs2r5YOiWQbuGlLpJaOlw4uu1z7Fr/JVbukDYiMo6lf5xknsFBiA2Iw9AqE7ZL8Ff/KtnmlBp3P/S49Rn8UzsYh6QX1ENH07H0H3+Fp6eH9KrnjtCYvrh5xhOYPtggmb5SQycTacv/ibPJUn1WSWTdJG9ng4NDUe0Vgbi4UEgP7m2e1NoA+EbG477Ff8Kq51bif77ahH0FiXhhrJt0NCTXqBxJnmJUaiOk0BYn17wv1Wnd8K28tq5Pg6xXup0PDk5A7wEx8PE6h3KlFDPeT8aAk7aXTZ+CVHJsKR30lqal5qSK4YndyfhxzRf4dl8VqmQg82YNbeJKZb+LXaZXbCKis4oxvuZjrNudjjGx/qjKPIasfdJGCA9iUFQwQgvdkKNWjrQf/7vgz1KFWNIrR7YcW9rmIlDeftciPj4G3aR+sbXZp6LCiQIUoECnCSi3Q4PcXJUeV5XhOto2Kfc36dCtbmPpjA7qGhhqDmDTv18xD9NVt0q58Zvvfy6l0jt6pNT4kEC01dPIPR99ccMvZyEsJACNO1K39HPgovOEl5/0MCslsMWSUZmMcgZpe6kMh2V3aBnCROMRiIhI4Gi55AtGLwQMGIVbX3sTUWnbkJO1G8X7NuGr9Z6Sn0gvtGEjkTD2ZsRfF9FwCY3mLpZjSG0fqUobFXAA+VVHsDctHT3G9ID+3EkUHtkjLyCnIzbCG66FUozZxExJe6M8Q13WRrNGCeQHCjhEgMGmQ5h5Egq0LqBkGibJvL3ddTKciKtU05H/NM1Rl/1+VfnHcOZwGnbt3I+8ql4I9PKDvwR+weGRiJKxxtz6BOOAdMgjfcnb7aySgNbFIwKJQ4bDW0oXveTt7rmSItTWSIcFuUeRKZ0T7dy2FaOl+3m9BLtKl+7evgHw821SbVSOHBrbA65qGTIlOvrSBvlWSemdzg/dR46WEtXV2HoyFYc8jMiM7wW1RJNNHwA8vf2g8/GAr20dKTm/RtpMhsf1QLeongjwq4KhTCJTUymq5RhKnN7oIcUk3dVLSbE8P5inqgsWw32px5BfE40gL//mDRt10mTZt7V/XTyCpefdMPSN8sG61AyU39UXNVnnpN3QWQT0uleGlXGDR7k8BClVqOADP/kO3JTguNFBwyTwd0V0tAndQ+Xhp9GFNNqQHyhAAQo4TEDusFICWZevKL+b3q3tk6J09GaQzm6U95/KpMSoKqmlo1J5wcNHhoiS+1/jo4TAyzcYvqEeCAiUJgvyMq7lSdnTG/7dYhEcEQSfFvJM8/7SekGZlD0M0h9C/YtL81LrP8pC+VFqmWjkvEqZq8bdF/4DkhAnLz81rmVwP38O1TK2taG8COeP7cfp8CgZhssdEp9e1qSWYWP8AgMRKsc4cEiGxhoRBkNeHopOZcMzeqK5qrKMytWBZpeVTO5EgXYJMNhsFx93poDjBXJ2foTNW87gh4zhmLdsIW5PiDL3RqtkosaaMpxWrcHazzyly9am1Xdq5W1yBTIPHIRHv+vQLyoBN4yfjgf/qEdZ/mls//Q17Ny5C0vfehpDxn6OAgm0/Hv0xb0vfownxkY2eSCQDDvvELLz1Sg1+SFSBi5r7ZHATknjDtdut+L534zH069+KlWENuCT8N+iwjrAtvI8YzLKuGtyhxr3h9dx8/D+GNPbr3EapKqtkoZ9Z32hzS6DUaqmGg/8jIyShxDkIVWRbIoEa8uzkHW2CAcPS6Y9STquNRtm4qD+Njz1xvOYEB8Fd2mUY2dYozxe2U7KFspPS1Mg/CNjMfLBBLw9fzuyH+2NcztOYO/XZzBywU0I9dXBlCcVxmToGGAKXv/4r+gh422am5fWHdJUjYriYpw9chLavpIuaffJiQIUoECXFKiLPSVxyhicTV8XGisLUVaSLQ0zlDJIuXuqpfKn2lfaoU/Er179g/me2OgOJx3dlebmorSgEJro8FbaazZoSKez5raVLb2gtWwptWYk0nWTWiUZx3IQHxcIX0+lTX3DZNKXoFp6Ez+eBXTz8zaPHVpRWIkLxRJM3nA3ug+fKCeSfFQ62is4uhnf/esdHNshnQAV1uCRgcr1X84UhOCBcagqj8O3i7eicEoYilPPIGNTJvrMGSF5uwtK22J2LkfaqBa12exyUsp9KHC5Arb/nV3uMbgfBSjgQAFjTTmM/n3g0fcXuHOQDHsiVY0s4Y8EX/psbF69AUWVUoQng0Q3etErPbAWZGzGU1PuxD9W7cY26fxHCZxUKld4BfXETTMfw633SM+uJhUKakLRb5ArQiIL8Olnm1AoWzaEXUqWasDO9+/Dwif/C397/gcoR7qcjLbHpCcwc3AMhhtO4YOX/ooNVZVSHVbaRrrooPGOxoib1Phq9SZs3XvSfA5ZZZ2MqCrJwqZFt+ChX76Ps7Xd4NW3h7xxXodlq/ciJ6+sbkPz76MyPuYWaa+zUT5JGC4dI1kMA/vdgVslWFeGPWnOUCUljOYqwsqrbrlAF2kr6qp0rtTK5OEfhp43TZNOKZbjmxXLsHxfNr7R9cU9Y+LgKeOBeodFI7R/PznCu/ghLVfavdrU1VWOm78bBzZ/iCkPzMD/7ctHuV3A28rJuYoCFKCAowWsN3+lAx3zuM025y+XphhFpw7VL/GO6gfvqADZ7hMcOnZehvmytFav36BgJ7at+hfe+eufsP1IIaob9cpev9Wlz7hKj7fB4ehzvR7H/rMR5zIkCG7yPrYy6xQupG4xB8Yh0nmQS8l27P9sPt77039wvlLyV+WsUiqr8QhAUPyduGlqIvpIh0LIKrWsayVVrT1se0UNQMjgMbL3MqSuW4mtR6VXXteeGCpDcrlI3tQWs+2r3up4s1auh6socCkCjV4oXcqO3JYCFOhYASW/LpWfJvmf3UnUWundruQgyk7ux7IfEnD3YAmWagtRmHUA25L/iQ+2FyOnej+8ND7Yn50In7q2n/JZJ+N03hxfhs/+5z24ZYyH55SRGBjjj9qSHOz+ahF27zyAXHUPREm13F7jp8Bzzy588PFbeOEtb8swKVJPSSPjep3cugqvfZkDY8wQ3DBpkHTN03p5n3Jt1nit0fW4yAPATQ/9Dj69f8KWv0nQKGvN7YKU6kuufrh+8oNQvfAZ1q/KQUVFoTkNfq5VKDiTiuN7NuHFL0uR+NAoRCf2gk/lUTx91yf48P0/4b/PTEOf3nEY3dsTeWlfYvmnP+KkdPhgkKqrUotXAkGL4bmzOfhkQxzuSoqCpkbGVGtieG7IIBw6F4NBgTqEyFvxC9IR086f92CoVx8Ehyhd6DYzufrAPfJ6zB5jQPLKFTjnPRReIychPlB6tZUnDpV/DEJ6DsPDCdX4/PkX4PbEQ0hM7I2Bkb4yFt0hbHp1EXbtykBVxUjcNDBAOr1o7TGlmfNzEQUoQIEOEFDu2w0vGVs4oLTB1Mg9L0pWp371NQwlI6AbIcNx+WpRdHwT9mz4ATvW7ZO1Snt8uQeGxiOoqlrGZl6ObW/9Ay73zUCfhD4I8NFCX3gMaQvfxnHpGM6oGoy+Pf2khsrF739KGpW0tj5p4R4Yg7gJs6DasRZrv5DOeY4l4Lbxg+EnI2flH/sRqZtSkCp5oHHkHHQPk1oqBnmBGRaFsuK1SEm+DjeMGChDvXjBXdpPFp3chvXrjyDL2A8B/SKbHfpL6x4CVeEJVFVVIf1MX+ljIAy1dfmxTWJV0nGfR8gAjL+hBmnfr0Gx5yDokm5FlL+l/wF16EAExZQ3MuveOxaRIZ4NZsfFDG03szk9ZylwxQUYbF5xYp6AAm0TUNqy+LlLe0a73m0a7+/fexwG9itBeuZWrP7gLZzdHAi32nKUVVcgo1jGspw4Hb5rTqBWejr9v6+vw0xvKd/UycG1Orh7R2L8/bNx4H8PIXNnMj7I+VnG+fKAUaoFnd5zRGreemP4vdMxIMQboX63wsU9FHcf/A82rPhfaM5skvRJO5baCuQe+xk1kbdi8OibMe7G6GYz2oZUe8hjhtESaDUstM5pETRgDPqrffCLO9Lw7vd7zdWalHJGlUaH8Oun496b0vHzmZNY98kSmE6kwFMj1X7z0pF/PgeuA2diyt0DEBkeDI8aV0y49/codN2IM9J77cG8Yzi7rQKeaj26DbkNIRF7UV14FoXyZOKrGGZW4VTOXqx6/y2kbwyAi77MzjBr389Y+V04Bj7QG/EjeyIl9wy2r3gPLqkDcf/Tv5FqWRK5Spf20rNRQ7Stlu9Q3MbcNBof/rQOvjKuS9LIofCXzcyPTa6+8ArpgykPz8bp977Bpi9rsXdTGKKkfVJNSSYO77ognXBEY+rD96BfgFQHthS52slxAQUoQIEOF1Da9evk9aGU4Lmo3aVNZcMZlAdG+4dGDbReYeg/5Q4c374TZ37IQNmpnySAc0F5zjlUSOdrPhG9oD12VPaWSrau0rYysj8G3TkF+V9txNENJuTsD4e3bG8oy0HG6Rq4RQ/C4MTRiJC+AqRgr5VJuTl6yjZKh0WtbGZeJZ2teQTBv9/tuOnuXOmBfA/O5xzEhnM7ZIxPedEr8wVlWqjChuDmSXcgUCJQD2MPhPS+EUNHZOD4ppWoObsN3l7Sr4JKj4rc4zhXFYrQxEHomRQLda4rpB+6Rn0t6IJ7wt+UivNnT2PzihpEjpiBGKXxqvSF0NBjknxWe8BVDAcMHYYdH+yFZ4QvYq67TobasmYrzZil7wlGoK9bg1mUmF3XFjMzBv+hgEMF7O8bDj09T0YBCpjf+Lq6wzskGr2CJYO7SEmWX99RGHRehsQoOoe3v96I7/YrrWTkf0Gx8Lr5N/jzPeH4Kec1HE4vwd4DWZhxSzjCu/vCRzJPV+lpb+Ddf8T4Yy/jRwkud/24G7vllbAy9pdKPRDRfQfh7gd+iVjJ5LWaAXCTjnzuuzsDW178NzZ9k1b/9lgtnSfc/thc3CTjfF4n46S1NKk00rFPQDgiuhngKQ8tSkDddFJ7dkNIrBF3TxuPb0+WwN/TXTJZCTfljbl75A24b9pEqL/8DunfbZPhWHab06Ck19MvRNLwG9zUP0w6hjDA5OKH0EH3YoZbKH7YuAVHjp/GvoNnET98Gn756ztRs+sDZGw7i88l2PRRDKUzpHPZmfhoQwrWpDZvuKXgAlIP50KvHoG+tw/DoW9/xs6fduL74/kYP3smIjxC4BkIRHb3kuE46y5OHtZcPBGTdCe698hAt/49cFNCjM1Dmqt8D6FI+uUfcdvhLVixZQeO7gV2mmHkoan7LeideD3unX0zAlp90Goqyc8UoAAF2ieg3HddfaPgL0NweCuds9UHm9JZXEAITNXSs7e5PXzd/U5qoXhKT+i/nIbYI6/JkFj7cPSs3NCUPEkVi14jEpE4cCDOF5dKLQ1lmewvtTtix9+HhMw92LlXmj0c2Sv98ihlk3L/i7oV140ZhetH32Aec7LFq5GgWK2VzoFCI6UZhJSutrihzQrJj9yC+2PcxIlwy3ofGSdl7MqUA9Y8xQXBA8ah75DbcYu8WLSM5CUBXWwSRt6ag1PvLsep7QesRahKfqlGhASPA4dcjz7SKV9NaQT8pBd5D28JWK2n1AXHITLMQ4ZlycXpnzeiXMaZDveX9qpS6usvQ3TJIayTlPm6eiNk4K0IiCxEYI8o9OvdTUqC66bmzIBTtmbycvOiZnWH428KOFhAJf+BX7z2gYMTdS2frlrGQVJ+quTHeNH6KdeyBK+tvQIm+QOqriiWAbWr5W2xdLjj6gpfaafZ1qmmqhzVlRWoqDbAxU06Q/CWt9jyGrshg7MeSRnVWkozC/PLzD3UKjmkm2+gueOC+gGq23rSy93OWAOjodqcBqU6rou7p3Qw4WlOg3LImpxdyDh1FqvWZeHWJ36Lnj7S62t9Rq5scQzf/P0trFm8GhXzvsZr03tLL76uMEpPidUVpSiRbmrVrhKMX6KhcuT2TpVlRdJTrvTWWC0VqKX02ddXurqXMezsvof2noj7X9UCSi+gxZV67M0tRnGV3jwOa3Mvb67qi2Tir3IB6fW7Qhm7uFqag8hwJ77+5mqwrXWoXVMhY2pWV8NQK4+iLm7wlPuf0gNtXcB25UBqJU+R+25piZxbSmxlWDBXqaWibellr9QeqiyrRK08u9VKcKvTyX1aOm+7eB5YK4G07CNt71UaGS6lA27silmtXqyV9qwONbty3waPfGUFzK9y5D8qrbwUjw/1wSApPdcpfVU4KBNp08ugK0vAo1OAApcjoNwk3Dx8EegupXLKDeMSbxpaN3fp6U8HD7kLKfu3OG6aclwXKaEMlkBWtlWGaFG2ddRNymwjVVPVGg38pcqv5abZ+PxaGVKkovw81n34Gj4u8cR/z7od1/cIQbDYQNpibly6CN9u2Yodblr8eWSc9PAq1ZhkUkuHPzpPedPsIW05letUfhw86TylLa18CV7KhckjllIljBMFKECBq09AgjUZz1ij85KkW0r/LnY307p7yfZKt23KJHlLQ3GfZdEV+1dKE6WphofU4rHkKReJAiUPdJMXsnWTUrJ5sWuzbKsM8yIvcd2U2jMdMylmWsnb5JAyOdKsY9LPozifAINN5/vOecXXioA14LtIFtni1ZrHepTc7+L7y0Zyrs6NgSQNkoBGhZU2V6aSqrOB4XEYN7YP3tm5GitrDmFHkDe8lJhS3kif3LEN+S7SE+H465EQ6gbpwNcytdPQJgmXPdv27+GyT8EdKUABCjhAwPIS8FLe2Sn3v0vZvmMvQgmI63pzv9iRlaDu8sNFOdPFTtDm9ZZxms3Zcpv34YYU6EwBBpudqc9zU4ACHSPgGoKg7v0w6d4J+Oa597Dnh73YJdWMa5Wq6vIk46LRYuD4uzDi7gcQ59NSyNoxSeFRKEABClCAAhSgAAUsAs7dZrOqEOlZBdLldDSCvS1xd+GRb/HW4u9Q4O6OAL/euHPmVCRFtNwByqX+IbHN5qWKcXsKXIKANEE3VJxDZno2ikvKUFBeI41xpFv+3r0Q5OspPSS2PkbmJZyJm1LAoQJss+lQbp6MAhSgwDUjYKkq3nltNp002DRgz4oFGDx9nvkP6ZXtBXhmqD/ydryJkGFP2P1xzV97As9PiLNbfjkLGGxejhr3oUAbBcxtWGph0BtglMDTqIxppnTlr9XKMCXtqwbVxhRwMwpcEQEGm1eElQelAAUocM0LdHaw6ZT1yQp3vF4faFr+wpRSzUIsnW0faCrr590+BRvyLFvyXwpQoAsLKM1ipDMGjau0y3TTQSc1FHQ6N2il17X2tLfpwlfMpFGAAhSgAAUoQIEuK+CEwWYV1r71rPULScD8jzZh1mCpJpu9GR+lWRfPXIoCKRXJ2v4uEsyL0vDmF/u77JfIhFGAAhSgAAUoQAEKUIACFOhqAs4XbFYdwtrllq9h9kdf4PkZoxAsBZvpu1JQF2u++8xU+MsmEUMfxvOzrV9Ztb6rfXdMDwUoQAEKUIACFKAABShAgS4r4HzBps1XMTwp0vrJgMMpG6zzszGiV12HQBr0GT7TvDx5w88otdmXsxSgAAUoQAEKUIACFKAABSjQsoBTBpv2QWMWvltkLdecOQa9dA1g+hLr1qGBsAwD37COcxSgAAUoQAEKUIACFKAABSjQvIATBpta1JVbrv/+Z7PKyRWLscjqM/P2JNTHmqV7sPCJZPOaSQN6NCxv3pJLKUABClCAAhSgAAUoQAEKUMAq4HzBpi4es+Zauv1Z/sRoqBIT0XP6gvo/iOk39pT5QuxYvRj3jxwMa/NODB4YVr8NZyhAAQpQgAIUoAAFKEABClCgdQHnCzbFY9yflsLSElM+pNV1CyTzc5JxR7T0FlR6DHMnPYrldavGvoFHx0W0Lsm1FKAABShAAQpQgAIUoAAFKFAvIJGVE07+SVhWeQa3/2MRPktJRYkQ9JowB39/ZiLMIDIAfN00e/7neGnuNATXLeBvClCAAhSgAAUoQAEKUIACFLiogMok00W3croNDCgtLIXW2x+6Dg7Hqw1GKD9V8mM0Oh0sL5gCFKAABS5DwAgTiiv12JtbjOIqPQxGE1SqyzgQd6EABShAAacSUAI9Jb/QqlWID/XBoAhf6FzUsswxmYhTVqOt/wsz5EnbzA/w4nNP4v7JkzEuUYVHPjgiq9Ox9B/v4ce09PpNOUMBClCAAhSgAAUoQAEKUIACbRfo4HK7tp+4s7cs3P8xpibch5QmCfEp0csSPTYseBZPyE/C7KVYt/hBVqNt4sSPFKAABShAAQpQgAIUoAAFWhNwzpLNwh2Y1UygaYZys3Ap7TiVKW3JLITc/zGqLB/5LwUoQAEKUIACFKAABShAAQq0QcAJg00Dvp0/G5bRM4FJ0gFQlrSD2f3uJAtXtVKyGY/krO2YO9YquPw+fHGS4WYb/p64CQUoQAEKUIACFKAABShAAbOAEwabhUjbYBnTJEGGOlnx/DRESC9AWng3+pPwjhiKl1duhzUExWfrDjVazw8UoAAFKEABClCAAhSgAAUo0LKA8wWbpWex1Tp+5mMPjbUMddKSj/9gPDonwbK2uqWNuJwCFKAABShAAQpQgAIUoAAFmgo4X7DZVKDVzxp4BgS2ugVXUoACFKAABShAAQpQgAIUoIC9gPMFm95hGGwtrHzn/RQY7E0alhiOYPk8S3+1dR0GNazkHAUo0HYBA3JPn8SJ0xkob/U/OssRi88exZ5tO7Fn107sP3gU+WVt2KntieGWFKAABShwjQhUZB7AydSfcSb9XKtXVJabjuyjB3D26FGcy80HhzpvlYsrKdBhAk449EkIhtwp0WZaGtIWTcK0gGQsfX4itNZeaOGmNeNW5e3Hm08lYImVesKgqA5D54Eo4HQCFzZj0HUTzJf9l025+H2if/MERQfw9jMP4qVP99utn/rch/jL0/cizAnvWnYYXEABClCAAkDpPnw0fQrMraN6zsMryx6ERxOX6syNWPP3WUjZ3WQFxuO+d+dhWGJk0xX8TAEKdKCA85VsSivNCXOX1Hf8kzxvEgJUieg3a7mZ9fSnr+KR+8fBPSQBz1oWAWPfxW9HBXcgOw9FAecS2LPi7foLrnuvU7+gbqZoJ/4QPbjZQFPZZOXLv8agB95Dcd32/E0BClCAAk4sUIztL1kDTUUhwhUuTTSMuevwX9ObCzSVDX/AR4+OwrrU1ktEmxySHylAgUsUcMJgU4S8h+KTE2sxsx7L2mOQfE5LWY4lyy1VZ82rx85FWvIjaKEcpv4InKEABWwFDCgvysHhXd/j7bnTcOezX9mubGbegO9fGYWVdWtGPYNV+zJx+lw+ft60ElPrlq/5A15fm1H3ib8pQAEKUMBJBbLXvIqPNkmM2dMKUN4Uohw7F85uWHjbS3jh+8N4ff02zPnL7+qXJz/6CrLZCWS9B2co0NECzhlsiqIubgKWmQqw6aNXMMnahrMRbsJMvJG8G5UbXkZ841FRGm3GDxSggL1Aeeq76Bkdg3E3342X3rlYoCn7SzXbJe/UHecZbFv1IobGBkOn80K3xLvwVtZmWCrhAkte/By5dZvyNwUoQAEKOJ2APn01Frz0f+brzj4hv+oCThsJfeZ6czBqXtTzSbz01xkI8naD1iMUcXf+CU//frx161XYvjPLZk/OUoACHSngtMGmBdEfo2ZICUqqCZUlBSgosP6UVMKUugyPT0yCriO1eSwKOIuApsXKss0KlGcdxBbrmsdXPoYYTZPNvG7AU6/cbVl48DucuNBkPT9SgAIUoIBzCNSm46t751iudfBkJCiBphJwNpnydv1Yv2TSf82Ab/0ny0zMhBmIsC5LkTHx9E3W8yMFKNAxAk4YbFZhw+IX8eSTL+Lbk6X1ijpvf/j7W3+860JMA3Z88Kps+5xsW1W/LWcoQIHWBTwHzMLprHypBluMs8XFWDV/TOs72ASn3cKbr0qgcfOyHmMjjmQVtn48rqUABShAgWtQwIDD7/0OlsZOffHYX/6MIXHNXWY5Mvatsq4Yj569Au03CuqJgXVLD5wFa9LWYfA3BTpWwAmDTQ0yPp2HRYvm4ViFpefZlklLsWPhs7LtAhwrrmx5M66hAAWaCGig8/KSarA66ZJLBx+fuvfHTTZr5mNJZfPvlw3VZc1szUUUoAAFKOAsAsW7/gfvfHjEfLlD/vIv9AvzQlVLj2d1ywcPR0jTLmrNR/BD8Gir3InduFDhLIq8Tgo4VqBpZTXHnt1BZ6tK34B/LF4HuLvDDZXYmm858aq35qOqm3sLb7Nky8ytWNDQd5CDUsvTUMD5BFw8GkozX3r9Kzz48QPwtGUo24vFF+1kyHYHzlOAAhSgwDUlULgVH/5xoeWSRr+EaXcqRZp2vQJZ1tfmInuT9eo97Xupta5Bbd2M/G7ak63NKs5SgALtEHCKYFOffwDzFiywY0pZssBaFcNuld0CN61TUNldNxdQwBECutjb8OIo4PnNcrY1v8Wv5wJ/f3oKYvyA3IM/4s3fTW3oqdYRCeI5KEABClCgCwnk48fnZ+K4OUXjpTfZGXbjaTZKbHUlrOUKLcajkHo3ngF9ZTdLSWmj/fmBAhToMAGnqEar9fBpB1gC5ryxHjPYJW07DLkrBS4m4I+Zr1t6FlS23PLObzEqLhBRgYEYMnoqlh2Mv9gBuJ4CFKAABa5RgbOr/hsrd1subuq/X0VcfWUYm87opASz/qHWRYv6TRpVk7EFkiG6ChoCTdtSTtutOE8BCrRPoP6/y/Ydpmvvrev7IEx6PfR6E0ym83hjrCW98zedl88mWa6sa/7HZErFwsfHNdy0uvalMnUUuGoFdL2n4PSBDZgtJZx206ihmD3rIp0M2e3EBRSgAAUocNULVB/At6/UdfYjQ9eV7sO+lLXmn/0pn2F/XXXZTT9gZ8o67Pt+Hc7VhCGmrj1meU2j6rK2Hg1VZz1ZjdYWhvMU6EAB56kbqtFIhQll8kbvCXMwu5c7brS+GtPIOk4UoEDnC+iibsTfvq7G42ePIrugAhqNFu4+oYiJCsaeN6ZhiTmJdyMpzr/zE8sUUIACFKDAlRdoUuT40ZOzWjjnD/jkuR/M6yb9eyPc65pz7t6G/IoH4WHXSVARirKthxp8PQLt1rdwGi6mAAUuScAJoywdJjyz0DJAvCEPO1Z/gu+3p+LYodPIOp2MXk8exuIHtXjzuZXoPe0eTEiKviRQbkwBClyGgCEHX//7Y6RL3/MRN87AL67vg8Ao2+Pk4MdPv7IsGHUT4upGQbHdhPMUoAAFKHDtCbi4I3BwX/SCNOK3m4pwfHdDVdiIwcMAqW4b5BUC72HK/HbZ4yyKSgyI8mjyyHvhBPZax+fsldSr9TagduflAgpQoK0CTf7La+tuV/92hfs/xtSE++w6CPIpUYZd0GPDgmfxhPwkzF6KdYsfRPDVf8m8Agp0XYGqs/jg2eewRVLY7+kkCTbDG6W1eNdK/OOgZdHUX423G5y70cb8QAEKUIAC146AWxymvPVNC9dTju3PxuMjpSrt4Jfw1FszZNQBy1RddavMKMHmESx59xu8/teJaBjwTsbrXL0YdQWb/Yf2tu7FXxSgQEcLOEWbTTu0wh2Y1Uygad7Oepcqse6UtmQWQu7/GFV2B+ECClCgwwR0vuhhPdjhf07A2+uOwmD+bMCZjW+h781PW9f+Cr+f2qfDTssDUYACFKDA1S1gW8vWdt6tz3go4aZ5+m4OPli+DsUVBhir87F/+e/xzntKICpTzycxZICvZZ7/UoACHS7ghMGmAd/On41kK+Wk+Z8jSwaR3/3uJMuSaqVkMx7JWdsx19qREJbfhy9OMtzs8L8+HtCJBMpav1ZNHzy18pn6bV6amoCoEbdi2ghPDJ9YF2gCj69cgH66+s04QwEKUIACFGhBIBK3Ln+1fl3a27Pxl5t744mbhmDJ25a2ncrK+/76EGvL1CtxhgIdL+CEwWYh0jakmSUT5iRjxfPTEKHTSNWK+k6yzeu8I4bi5ZXbYQ1B8dm6Qx2vzyNSwEkEtF6h9Vfq7d5Qkal+ocyE3fIiNn/yMvrVLTy4EVusVWeVF0AvrjyEubc0rl5btyl/U4ACFKCAMwpo4BZgve4gV7seZd3ipuElGSqlV7M0w3Dfv7dhWFyLY6M0uxcXUoAClybgfG02S89iqyXWxGMPjbX2UNsCmv9gPDonAcmLZAfpuIQTBShweQI9p7+NHPm52NTz9qex4dxDOHxgH3KLlFoGWngER6DvgD7w/f/t3Q9UVPed9/EPCSiajim2ahZNiUtMNVvGRjbHNBuTDvaPtruOzeq2a3BP3Zygm6dHyelWS57onkOeoyXpbiSnzUFyUvqs2CYlT4+Tni1ut0KraWJOHkwdu5FNoMrTQhupEKEBDKzz/ObPvXOHGRjGf8DwnhycO/f35/5+r0vuj+/ce3936h2tknGRjgACCExxgen68x2/Nj8jM9z4Z+u09dXV6mp9W3/o7gtlnJaTpz/Jn2/f3zlyaVIQQOByBfjzbVTBTN0w+0Oj5iARAQSusEB2jpb8uSd6hvMKV091CCCAAAJTTeAGzc7/uKyToFOt9/QXgfEUmHqX0bpuUqE7TP7Mdxojk5CMsAuGmlW7qzGU2DNCFlYjgAACCCCAAAIIIIAAAgjEC0y9YFNzdefnw9Gmf69X6x5/Sd3GJcuaK3t6+H6ygc6TemLTkshD5KVVd8Q89C9ekjUIIIAAAggggAACCCCAAAK2QEbAvOxPU2Wh9zWtnXWXPSOtFAw+wzdyuj3Fumt+u6prw2c0QySeKnU1bFbOFfC5MHRRwZ8B83Px4hWokCoQQAABBNJe4KICOm9mTn/j9+d1fmBQQxcDyshI+27TQQQQQACByxQIBnrB8SLrugwVzJulO3JvVPb115l112YQmZr3bLqW6/mWej1062rVhnZgONAMLvobayNhZyhB8pTJ77sygWakRt4QQAABBBBAAAEEEEAAgbQXmIKX0Yb3aXb+Ku0PdOnIgQp5I/dwxuxtd7EqfU3qb9itgtinosRk4wMCCCCAAAIIIIAAAggggEC8wNS8jDbeQQO93eofiiRkzlCO6+o8OZ7LaBPgswoBBBBAYFQBLqMdlYdEBBBAAIERBMb7Mtope2YzuD+CkwB974lHVLQ0QzNmzdbs2eGfT3q/pEef+J6Ot/WOsNtYjQACCCCAAAIIIIAAAgggMJrAlD2zefx7j6rwgT2j2YTSvGV1enb3Os1JmnNsGTizOTYnciGAAAIIRAU4sxm1YAkBBBBAYOwC431mc0pOENR59Im4QNNTXKK7bv6Q+s/9Rg3V0UmCfHvWy3euTv371unqXFg79l8WciKAAAIIIIAAAggggAACk0VgCgab3fr+P+2w909xhU8V//A55bocFPueVdvxn+ixQm94ttrq9are3KWty67Ew0/sTbOAAAIIIIAAAggggAACCKStwNS7Z7P3tBoij9D0lB/W/u1rYgPN0K7OVt6yNdrfdUTFkV3f8PLptP0loGMIIIAAAggggAACCCCAwJUWmHrBZpZkPcnki2vvHN0z506t9I6ehVQEEEAAAQQQQAABBBBAAIF4gakXbA5K1hyz5/usZ53Ew4TXmMyRV4+1wDsCCCCAAAIIIIAAAggggEBSgakXbLoWarUn7LKj5Fl1jEI00PwjPeULZ/B87KZRcpKEAAIIIIAAAggggAACCCDgFJgSwWbs+csc/U1lTdjAv0Pzix7V0eZOOfMM9Hbq+KGntXzJA/IHc3qr9JWiXKcbywgggAACCCCAAAIIIIAAAqMIpH2weXLfRmVlZCjD8fPJ4k1RksY9unfJXJNnqdauLdLSpRmaMWuuCldvk98dyeZ7RvUnrYtvo0VZQgABBBBAAAEEEEAAAQQQSCzgeN5H4gyTfe3ghfa4LvhDpyuHr/bLF7lk1k6x8/n120HnuU87BwsIIIAAAggggAACCCCAAAIJBNI+2Fzo2a7Kyi9q+vQEvR/jqgsXXPr87Txjc4xcZEMAAQQQQAABBBBAAAEElPbBZk7BKm0tuPQ93d16XG+0vSf1mzOb2WnPdelQlEQAAQQQQAABBBBAAAEEHAJpf8+mo68JFoc0NDTa5bGd2v9QoVauvFdf/cGpBOVZhQACCCCAAAIIIIAAAgggkEhgygabbUf3qSgjS1lZWTGTBzknEsrImKttjRG2C9FnbiaCZB0CCCCAAAIIIIAAAggggEBUYEpeF9p7fJ9uuXdLVGEMS6s9i8aQiywIIIAAAggggAACCCCAAAJBgSl4ZnNA/74vGmh6SytUUeqN/jYUl6uqskLF1mNPTEqx74w2F7iieVhCAAEEEEAAAQQQQAABBBAYVWDqBZsDb8pXHTYprmrSwae2a/tTz6oiElzW/M+vafPW7dp/ol2VkRi09js+dY7KSCICCCCAAAIIIIAAAggggIBTYOoFm6b3vRGBe+62Lo3N1oJIsHnw529GUnO1dX+TioOffNtU81p3ZD1vCCCAAAIIIIAAAggggAACyQSmZLBpXRA73UwOFH65VHBPKKxUz3nzmBPr5bpdq8Or9cprp621vCOAAAIIIIAAAggggAACCCQRmHrBpplU1jqzeeKtd6I808OLjYfeUPQcZrZuus0TzcMSAggggAACCCCAAAIIIIDAmASmXrDpWqjVkXsx93o3aV/DSXWbR20uKrwnDNa4TfuPRu7Q7H5NL+yynn0yJk8yIYAAAggggAACCCCAAAIIGIGpF2wqR/dvLY/s/EZtWenWJ//lpLIL7gvfn2lStt07Vxsf2ayi2XcpMpeQ5n14Jr8wCCCAAAIIIIAAAggggAACYxSYgsGmNKdop5oOlDqIzLW1WqyvVEROeZpPtXurFT2nWaZH/2axIz+LCCCAAAIIIIAAAggggAACowlMyWAzCLJsw1PqP9uiY0eO6aWHwlPRLt/+oprqKuS8S9NbVqOW/t3KyxyNkTQEEEAAAQQQQAABBBBAAAGnQEbAvJwrWL66AheGLir4M2B+Ll68utuidgQQQACB9BC4qIDO9w/qjd+f1/mBQQ1dDCgjIz36Ri8QQAABBK6eQDDQC44XWddlqGDeLN2Re6Oyr7/OrLs2g0jan68b6GxTe4+ZAUgzNDcvVy7T4862VoVWpbBfZ83P05zstOdKQYSsCCCAAAIIIIAAAggggMDIAmkfPb35/U0q3Ba++7KiqUfbl0nfX3OrtvlHRkmUUnGsS9uX5yRKYh0CCCCAAAIIIIAAAggggMAwgal1z2ZwHqBLfGVnpX1cfokyFEMAAQQQQAABBBBAAAEE4gXSPoK6/W+f0eHbOkI9z7tthnnP1LraI7qtc1DT4j0SrnlfN6jQ7UqYxkoEEEAAAQQQQAABBBBAAIF4ASYIije5qmuYIOiq8lI5AgggkJYCTBCUlruVTiGAAAJXXYAJgq46cfwGuttO6rVfvKLXf9Wsrv5w+owZs3XTbfm6w71cH3PnKyftz/nGu7AGAQQQQAABBBBAAAEEELhSAlMqpOpubdCTX31Ee3zJZwcqqTig7f+wQflcPXulfteoBwEEEEAAAQQQQAABBKaQwJSZIKj5xUc1+9aVYwo0g/u/escDunXWWh1qG5hCvw50FQEEEEAAAQQQQAABBBC4MgJTItjsPr5PS9bviRErLqtS/TG/zrSf1dmz7TrT4teR+jqVl3gc+XxafctDOt7rWMUiAggggAACCCCAAAIIIIBAUoEpMEFQp55YOlc7IlfOuktr9MPyYnN57MhXEPe2vaY9m+7SnvDjOeUuO6wTu4uSYo4lAxMEjUWJPAgggAACTgEmCHJqsIwAAgggMFaB8Z4gKO3PbA61vWoHmvJU6mdPfXnUQDO441x5y7Xbd0zeyF7073lBzVxNO9bfafIhgAACCCCAAAIIIIAAAkr7YLO/53f2bq785kbl2J+SLLiW65/rSiOZ3lFnZNbaJKVIRgABBBBAAAEEEEAAAQQQMAJpH2x2nW6L7Givli8ac6gZKjP/o0sjZX1643R3ZJk3BBBAAAEEEEAAAQQQQACBZAJpH2ye+92btkGWvTS2hUFdGFtGciGAAAIIIIAAAggggAACCMQIpH2wmSUelBmzx/mAAAIIIIAAAggggAACCFwDgbQPNp2Gg84PLCOAAAIIIIAAAggggAACCFw1gSkVbGaleB1tVtb0qwZPxQgggAACCCCAAAIIIIBAOguM/LDJtOu1T//4pbWalUq/ek6nkpu8CCCAAAIIIIAAAggggAACEYEpFGxKjT4fOx4BBBBAAAEEEEAAAQQQQOAaCKT9ZbRZrplXhDH3xhlXpB4qQQABBBBAAAEEEEAAAQSmgkBGwLzSvaNDA0PSZZzDNaWVnXkZFTiALwxdVPBnwPxcvOhIYBEBBBBAAIERBC4qoPP9g3rj9+d1fmBQQxcDysgYITOrEUAAAQQQiAgEA73geJF1XYYK5s3SHbk3Kvv668y6azOIXJkIaoLvzszsy+vm5ZWe4Dg0DwEEEEAAAQQQQAABBBC4CgJpfxntVTCjSgQQQAABBBBAAAEEEEAAgSQCBJtJgEhGAAEEEEAAAQQQQAABBBBIXYBgM3UzSiCAAAIIIIAAAggggAACCCQRINhMAkQyAggggAACCCCAAAIIIIBA6gIEm6mbUQIBBBBAAAEEEEAAAQQQQCCJAMFmEiCSEUAAAQQQQAABBBBAAAEEUhcg2EzdjBIIIIAAAggggAACCCCAAAJJBAg2kwCRjAACCCCAAAIIIIAAAgggkLoAwWbqZpRAAAEEEEAAAQQQQAABBBBIIkCwmQSIZAQQQAABBBBAAAEEEEAAgdQFCDZTN6MEAggggAACCCCAAAIIIIBAEgGCzSRAJCOAAAIIIIAAAggggAACCKQuQLCZuhklEEAAAQQQQAABBBBAAAEEkggQbCYBIhkBBBBAAAEEEEAAAQQQQCB1AYLN1M0ogQACCCCAAAIIIIAAAgggkESAYDMJEMkIIIAAAggggAACCCCAAAKpCxBspm5GCQQQQAABBBBAAAEEEEAAgSQCBJtJgEhGAAEEEEAAAQQQQAABBBBIXYBgM3UzSiCAAAIIIIAAAggggAACCCQRINhMAkQyAggggAACCCCAAAIIIIBA6gIEm6mbUQIBBBBAAAEEEEAAAQQQQCCJAMFmEiCSEUAAAQQQQAABBBBAAAEEUhcg2EzdjBIIIIAAAggggAACCCCAAAJJBAg2kwCRjAACCCCAAAIIIIAAAgggkLoAwWbqZpRAAAEEEEAAAQQQQAABBBBIIkCwmQSIZAQQQAABBBBAAAEEEEAAgdQFCDZTN6MEAggggAACCCCAAAIIIIBAEgGCzSRAJCOAAAIIIIAAAggggAACCKQuQLCZuhklEEAAAQQQQAABBBBAAAEEkggQbCYBIhkBBBBAAAEEEEAAAQQQQCB1AYLN1M0ogQACCCCAAAIIIIAAAgggkESAYDMJEMkIIIAAAggggAACCCCAAAKpCxBspm5GCQQQQAABBBBAAAEEEEAAgSQCBJtJgEhGAAEEEEAAAQQQQAABBBBIXYBgM3UzSiCAAAIIIIAAAggggAACCCQRINhMAkQyAggggAACCCCAAAIIIIBA6gIEm6mbUQIBBBBAAAEEEEAAAQQQQCCJAMFmEiCSEUAAAQQQQAABBBBAAAEEUhcg2EzdjBIIIIAAAggggAACCCCAAAJJBAg2kwCRjAACCCCAAAIIIIAAAgggkLoAwWbqZpRAAAEEEEAAAQQQQAABBBBIIkCwmQSIZAQQQAABBBBAAAEEEEAAgdQFCDZTN6MEAggggAACCCCAAAIIIIBAEgGCzSRAJCOAAAIIIIAAAggggAACCKQuQLCZuhklEEAAAQQQQAABBBBAAAEEkggQbCYBIhkBBBBAAAEEEEAAAQQQQCB1AYLN1M0ogQACCCCAAAIIIIAAAgggkESAYDMJEMkIIIAAAggggAACCCCAAAKpCxBspm5GCQQQQAABBBBAAAEEEEAAgSQCBJtJgEhGAAEEEEAAAQQQQAABBBBIXYBgM3UzSiCAAAIIIIAAAggggAACCCQRINhMAkQyAggggAACCCCAAAIIIIBA6gIEm6mbUQIBBBBAAAEEEEAAAQQQQCCJAMFmEiCSEUAAAQQQQAABBBBAAAEEUhcg2EzdjBIIIIAAAggggAACCCCAAAJJBAg2kwCRjAACCCCAAAIIIIAAAgggkLoAwWbqZpRAAAEEEEAAAQQQQAABBBBIIkCwmQSIZAQQQAABBBBAAAEEEEAAgdQFCDZTN6MEAggggAACCCCAAAIIIIBAEgGCzSRAJCOAAAIIIIAAAggggAACCKQuQLCZuhklEEAAAQQQQAABBBBAAAEEkggQbCYBIhkBBBBAAAEEEEAAAQQQQCB1AYLN1M0ogQACCCCAAAIIIIAAAgggkESAYDMJEMkIIIAAAggggAACCCCAAAKpCxBspm5GCQQQQAABBBBAAAEEEEAAgSQCBJtJgEhGAAEEEEAAAQQQQAABBBBIXYBgM3UzSiCAAAIIIIAAAggggAACCCQRINhMAkQyAggggAACCCCAAAIIIIBA6gIEm6mbUQIBBBBAAAEEEEAAAQQQQCCJAMFmEiCSEUAAAQQQQAABBBBAAAEEUhfITL0IJRBAAAEEEEDgWgsEzAYD5p+LkZ+Ma90AtocAAgggMOkEgmOHzD/Xm0EjtHyNe0CweY3BM5Sh6zIylGl+/pvzytdYn80hgAACk08gGFQGA8xp5i+FWdOvVyAjoP82Kwg2J9++pMUIIIDAeAlcb8aQGZnX6zrzn67hCEKweY33uIkxTbBpvl0wO/y68fh64Rr3l80hgAACCFy+QPCMZrb5I2H2zGmannW9/tusINi8fFdqQAABBKaCQHC8uM4EIB+YlhmKQ65lnzMC5nUtNzjVtxX8djp0GVTwRDb0U/3Xgf4jgAACYxIIDtQXL0r9g0OhQJOBe0xsZEIAAQQQiAgEz2dmZ2ZqhrlCJhh8XqsvLAk2+RVEAAEEEEBgkggQZE6SHUUzEUAAgQkocK0CTGfXuYzWqcEyAggggAACE1hgPP5QmMAcNA0BBBBAYIILMEXNBN9BNA8BBBBAAAEEEEAAAQQQmIwCBJuTca/RZgQQQAABBBBAAAEEEEBgggsQbE7wHUTzEEAAAQQQQAABBBBAAIHJKECwORn3Gm1GAAEEEEAAAQQQQAABBCa4AMHmBN9BNA8BBBBAAAEEEEAAAQQQmIwCBJuTca/RZgQQQAABBBBAAAEEEEBgggsQbE7wHUTzEEAAAQQQQAABBBBAAIHJKECwORn3Gm1GAAEEEEAAAQQQQAABBCa4AMHmBN9BNA8BBBBAAAEEEEAAAQQQmIwCmZOx0bQZgXQTGGh9SQ99tU4z50nv9BXoG89u1+LsEXo51KZ9/+MxvdzXq5kFW1W5vUgjZR2hhjGsHtChJ7ap6mSf5s2cGZ+/r0/v9EoLC+/R/evv14rFc+LzDDTr8Ye+rqZel4q/8YzWLXbF5xnTmgG99OiXtPPfTqtoxwt6asPiMZUiEwIIIIDA5QsMtB3Stm0HZAaDhJX19b0jzVyoOz99v/72L1doToIBqfWlx/XV7zTJVfj3embnGl3yaND6or50/zM6/aG7VPvj3SpIsK2EjWQlAgiMmwDB5rjRs2EEogKDfb9Tra/WXtFz2yfUsHOF/Tlmof+c6qtr5Quu9BTpG1cl2BxU26Fq+Rpjthz/wbR5764t8pQeUO2TG5TrPKIM9qmp1hdqZ9Gup+PLjnnNoH73pk9+vwlu/9A35lKXknGo87ieq/mpzpvw/b7ih7U8pkOXUiNlEEAAgcktMHiuTdWO8Wmk3tRW79U2eVRzrFZfXp4bk63vd03y+cyo1bNaT++MSUrpw2DfOfn8wYFplvoGzdtVCzaHdPLF51T/azMaLLhPD29YLufwllKjyYzAFBfg/50p/gtA9yemQOOue/W99f3akOj0ZpYc3wpPv2oD4PRZURu3t0RF5qxrONSbqZkz+3Rib7WsWLRx7wOa39CqlqadynccVXoiVQxEq7qkpemXVCr1Qv2/eVlbduwIFay4b6MJNnNSr4QSCCCAQDoJmDEn+nKrpPQuazAwY8FM9Z0+YYJRezTQprvm6zf1Ldq5Kt8uNnghMhqcu2Cvu9yFmGZdbmVx5fv1yjNbtCPYLXelNppgk9EgDokVCIxJwPFn4ZjykwkBBK6RwANffFqfPrFdCS5QvUYtsDbjVe2L+1Qw/GjxVKWOv/ikCtfvCmf079KtX7tTg0+tCgfALrd8XV0aMqkzXJNjmM7Kioa12VnDO2x58I4AAghMTQFvVa32bS6I63xlx3E9+XChdpmTl8HXrtX3a2l7k9ZErg5xl/jUtdGMBpkzJk3QZn/huvDqfakb1uJfBNJbgL+m0nv/0rvJKuA2Dffv0GPfW6N9l3CPYnfbSb1x4rT+GOr/NM27za3CxbmXfBa0r99UFHeTTbaWrduprqabNbtwU1h67w799NFVWhWKkDNNkBkulDnCkaa7o1VvtXbo/cFBDSpLc/LytSg/d+Qro6aHv8vubmvWr0y5995/X9NumK+COwsS3icUbpT5t7dTJ99s1rvvm+VpNyj35oXKH3bWcmhoSO90nrWLnH+3SwMDWcrMzh7mNqTO1lNq7ng3lPeGD+Zq4aJ85Yx4OdeQOlr9an77rIKbN03Wwj8rVEH++H+NYHeWBQQQQGAsAheC167Gv7Jzl2nnwS7dvHG2NtUG0/3a+a0jWrO7KJQ5M3uGXKFxYITBYKBbrW+/pQ5zkB4040HWDXOUf9si5Y58YFXWDFP1ULea/b9Sx9n3zPF1muYuKtCyUY+tYzl+D2mgt0tnT4eaLp0+r65ec32O+QLSlT2s/WMYWyK1hN6Gejvk/2Wzzr5nBoLgYJCzUIXJxi9nBSwjMBkFArwQQGDcBXr8VQFz/DA/7kB5VUXAxJqRz57A4bPDmtffFCi20iRXuzsAACCRSURBVD1VgR5ncn9LoKrEHSlr1RF5d5cGDrfE5HaWHLbcE6jxWuW9gaYkxerLotssrjkVrsu00xtpZ2VTV0z9PafqA6Ueq/7h755AZX2kjlCpaFs8ZVWBqlJPgv65AxUxZazN9QeO1ZQlyG+26XF49Pujppat3fZo5wfbjwXKRmh3adXh2H1hmtDTcnjEfrpLqgJn+q128o4AAghMTIHo+KSAt7Jp9Ea21zvGr5KAP3KM81d5w8fh4WNWoCtQX1ma+BhtjsGeksrAqeghOBBtizdQdaAy4Bl2vA6Oo+7iipgyVoPHevz21xQnbk9M28c4tlgbN6PD4aqR+ukOVB05Y+dkAYF0E1C6dYj+IDAZBaIDqAI1p7oCTZWRgTk4kJbUBWJikpGCzR5/oGTYwOvxeh0DfzioqxoW+CX2igZ4UvJgs8dfEx2cvTXhoMvRzphgsycahIYDbPMHhScarFrrKo5YUbazLcMD09jPJQdig9S60vh6rfrD7+5AXfAvGUdgHJuugNX2nlMH4iyH51VpXTTgTFBnXD89leZPLV4IIIDAxBVwjk9Jg01zBKwpjh6Xq/zhSNFfFQngvLFfkNpBqDV2uT0BtztaPnSMNcdJezSwv5gdlscqb7+XBk45Bs5Ujt9xbbLqdFdGju89gTGPLZHdGldnsJ9WvZH3snoCzon7fwEtuxwBnrNpjmS8EJhIAj19M7Rs6zdkAsfwq3q9nj7aaX0a8b1hT7GqrVRvpVp6BtVw8KBOBLrkKzfnGCOvLYVPqs36cIXeXYsKZc62hl89F0L3aVofh783/2hfeCZdk+Atr9PZ/oAaGk4oMNilYzWldvZDb/zaXo5dcKuy3q+ewUCoTH2lvWVVP/B1HTePZAm+2l7apfV7zRS2oVexmcGwXYMBU6a/XXXm9GT45df6JXvVkb1Mz/f3q6W+PLJeKjcTXPT09KhkWfB+01btWvKAuTAs/CquqFd7/2Dwyzqdbaoz8y9GXnvXa29DeF+1/exFu59ldU0yf/eE+jnYdUqVxcHrpM2rcZt+cDLS4PAa/kUAAQQmsYBLhSujx+QLg0OxfbFmjQuuNY/H+taWyE2e8qrOf1aBEw06cSKgrjPHVBo5TKqxQb8e6TBZXCl/e0/oWNzVUh8dh7RXX//fxyPbTu34XfDg8+bY36Jya/vucjOe9qjn5YdDd5OkNLaEWtCm71v99JSpKdjeYD8Dgzp1uFLWZvZUNepyJ9OLdJg3BCaUAMHmhNodNAaBoEDwBsnF+saRCptjx72PqXnYmG0nBhc6DumRPZFQyF2mMwe3Kj98g4xJzNGanc/LZwdYe+Q73h1T/PI/xN7HM+yulpjq+/7wduRzsf5557rovZaZOVr+5T2qikRus8w9nIleVU0/09ZVBeH7f0yZVVtrZC7jjWT1af+/t5rlDv2rd29knVdHuvZrTUHkntXsXK3b/WOZb6Yj6bv0SuuAss29mfPnz42sk+bOnSuXuec0eCtmR8P3zJ8u4Ze34oj2b1+l3Mi9O3OWrdOPW+rsPxh2vfBqKNg+1/ZmpIRHn1q5zL4PNTNnsbY+/S07QI37YyxSijcEEEBgUgqMdcJZ83gsezQ48M9aVxC9jz0nb7n21Fba3U84Gnhr1LV/qwpyw3MD5OSv0v4zPvtY7NuyX61m3Ez5+J2ZbY79c2Vu7Q+/Fs7VXDMWuEJjaupji3rPyRoN3J7VWhZpr5ktSYuLtupb5ZFBz/eqzow2ztsaLCAwuQQINifX/qK1U0ggZ8VW1UVPb+rhfzka7n1sXBda12ueg2addSvZ+aDy4pyy9Zm/+6K9tuHl0/bytV5wb3pBLS1n1H72WUUnxjcTMgz0qu34D/VC4ygt8lZpQ+hMozNPpj71YPhxJcG1pzvOa6D1Z4rMkStPRZlWBE9OxryytXbzw/aaX7zRHlp20kbPzw7olRfs2lT2D/HPP83O/0s9Yp08rm5UW/APBvsPrkat3PSoXnqtWd0Dkb8kclaoITgpkjk7ujWuP3azWEAAAQTSV8DMWP7CmRadOdOuZzc4RoOhAfV2t+mH3z84at8rd/11/My2eZ/RTnvcPK0/9F/i8du5ZcfZ2EsdW6zq/OaxZo/ue0mtHd32FUArdjaEJkXq7/+2bh3tm1qrEt4RmGQC/FpPsh1Gc6eSQLbWfeOYvNV3hS7HbNxhnr3514PaYCLJ4VcUnWl6OQLj1ufvjA81g4nZ8z9uLlSSfWlnpMAVe3O2abQvZzNdZpbBGZ06+uPn9Vzjq2o68bZONzbawfJoDfKuvjN+UlxTIHN+QejyqdpI4cG+aGsad9ylta9YkWC09p7T1uVb4QA1mjJ8aVDn3rHWNeou71p5Z1mfrfce88Byazn4B4609PPF0rbISt8eec1P8OX2FuuB1V596lP3JZk10aqPdwQQQCAdBTJDM5B3Nh/V808/p1dfb9Lb/tNq9FtfnY7WZ6/uWRQ3RbopkK2PfsIce6vDo0GWmef8Uo7f+YmqNrVf0tjiul1/b+4Q8UUuj9mzxas9W4J9c6u4dJ28f/V53Xf3suhVPsEkXgikkQDBZhrtTLqShgI5y1XpK5UvcknoAw89p9U/vi8+4LLPorm1YN4I/1tnZcWXu0JkvW+/Hg1i57sUnJF+pFdv84vyLlmv0U5gjlR25PXOc5LxuXzRSDA+0axxfHGdMD369E2T3OiL9jVh7nBt2fnr1HWqXuUP79DexugfT35frYI/oZe3XKee36nFIz42JeEGWIkAAghMUIFevVIfOb6ZFn545qijgV581Kv1e67saBC9qiRMdCnH77Hijm1sydaap7pUv7Bcq7dZN2QEt+BXrZlXoHZv+MqZcl+Ldq6JnuEdaxvIh8BEFxjhr9KJ3mzah8DUEchbs0tVJtgMzS/QuEXl1VWaGbzdMBq/aPCCdSavXe8GFxMFL/3vKXyx6JW3+2X9C3alpev/IuHmwxnazEQ7jkDTU6Kqh7+gj//pfH34pgXm2ZfSd9ea57TZZwntakMLPeZZaqm+vBU+Pb56gfr6nCXNc9yyZpqf8LpZC5Y4E0dZ9srX9LgWhJ4LamULBrpZmjkzUlnWLC2JfCues3iVnmpYpfLONr158nX9/Kf/oUN7qqOBtm+XlpTdqcGnVg17lqdVN+8IIIDAJBLo/qVesI/fZfqLUb5JC0204wg0S8qr9IVPflzz53xYN92Sr+y392mWO3QKMAFAj94NzqYzwhlIq0Ds15CpHb+tOkZ6T21sCc4v8JQCD5erreVNvX7s5/qPg4dU7YsG2ru892vpmSatyeNP85HMWT85BfiNnpz7jVZPKYEcPVjp0zM+r4kv3dq7LTz4OuPNm++424gER/hG/fRkh4qKTNQ27NXxWr0d5MzLvXFY6qV/HGp7SV/ZYQ2YHv3VJ/JGrGyg9Rf2RDsqOaCefRti/1YYOqnD9h8q8dU0Nr6h7p0r4u7TCZ5Ztb9Lj/ka29SRvUAFBcviK+tt1aHG/zQPAv+Alt5SEJ/uWGOfODbrFtxuHhqeIJhvPXpI/9ltapu3VAVmTsGTDT/Rf3X9UbM/+mkVFeRpeVHwZ5227/62Oo4f1MOF68NnSE+8ZS6LXhXXJ8fmWUQAAQQmgcCQDj35T/Y44ylfnWD+AKsbA3r936yzfG4dOPWyNiyOjRyb7dtDrDLO90b93193q2hOjnOlWe5Vk31m1RWaZi714/ewKkf6OMaxZajzpA7+/L9MLbN139oi5S1eHvpZ9+Xt+nZvhw7ufVjrdwUHPr/OnDPfFucN79NIDWA9ApNDgAmCJsd+opVTXCAzb41qqsx9KI7TmY4Tm8rJXWAL7flfLyr+QSmdqn0ifM9g8D6RL9w9ckBoV2QvmAF7hCuhBtoatOmWYBAcfrnLHzODv10wbmHw/B/sdd5ly2IDTZPScaTeETRGzhTaJcyCeVTI/te6nWvM8oB+9K3ot9/Fq9xyLbrbngLft22fTiaYT/7o3oe02uuV17tSh85YZ4ajVU/Psr6Lc+nutUH74Munp55vDi86/+1s0P33rjZ1ebWy7JD5c6dX9WbGoPXrH9DKnf9hTwQRLpKp3GUrdbtdfnh0bCewgAACCEwsgekzR2jPgI4+vUmr7TOVHj22JX4ytWjhfp172/rkVsGtsYGmeXiVXvpX6ytEk5ZgONix5weKGw2afxS9MqZkvdxmFtnUj99WuyLvs6bbm7+UsaW3ud6MBevNz0r9W0vsYJTpytVnPxkdDYZtmY8IpIfA5Tykk7IIIHBlBJwPza5s6hqh0jOBsmEPgZbHekC2eZC2N/qQa3dJVeCMeRBl6NXfHjhQ6g6YI1b4p7gu4HjW9Qjbiq2vpLImcKCmJlBj/VRVBspKvNE6Q3WXBPzOivubAiZEC+Wx+jTY7os+yNpTFjh2JvzA7/6u9sDhmrLY+koOBMISsW2RPIGaI6cCPYODgUHTN/PMzGg5b03koduBwLEKx3pPeaDJPNDT8vBVRB4wHmyfuyLhA8O9FfWB9rNdYauuIwEzOb29nfK6Jtuw3e+z+xk0Lj8SfPx4f8DMJGznL6k6HOiK7I7AYE/A76uIOpSMZX+MsJtYjQACCFxlAef4JHdpoObAgehYYMaEyvKygNcdPd4Fj4MlB07FtMpfFTnm2mPWYMA8sso+RpYeOGaO6cEi/YF2/+GAeVKXnRasr8YfGQ38VTHrPaU1gVNnewJmNAi0N9XFHKer/OHxJZDy8TvYjp5AlT2mFgfqT7UHunrCY0iqY8tgS120zcbvcEt0jO856w9UFEcdDrQ4B9FgO3ghMPkFgg/C5YUAAuMs4BzMrcAsUZN6/DXRQSsY/JiB2xq2Bs/Uxwy0wQHa43EEXMH8Kg4cOWtFPYm2YK1zDrSxg36w3vif4sDh9mH1Jgg2A6a10QE8UT3D1xWbAHasbfEE6p1t6G8JmMdvxrbVHR3Uw31wB+qcg3vPsThDa3+0+IYFw8bBXMocW3+pzw5CY/7ACOVzB7xeT1yZmO1b/LwjgAACE0TAOT7FH/uHHQPNsa648rAJ/WJf8cGmCeeaYgPHZHUX1/gDY22Lpzy2Dakev4Otb6ocNn66K8NfZqY8tsR++Rjsp9vjNePzMDu+eIz9peFT2ghwGa35v54XAuMvEL2UcpZ9+WZ8q1wFxTpsPQA6mGymfreucM3MW6WftB+T+UbYfjWaR4rYr+IK+bv2a8Uc6/JQOyXhgrn6KMnLLU9xqWrqm9QT2K+i3JHrnW5Pf5OjzftPqTz+SSRmW17VHGvX2WOVju22q8/M8GC1pbjygKpKHR20crpLdaT9J1rlbEN2vnY3tetAmWNjzin13SU63PKy1uU7bsB0LdVjFY78Vv3mPX/NbrUfqwk9PsZabV0+HPxcUnlYPU+tsSdHyjSz0QbzR1vrN49HcT7ipVh1TWdjt29VzDsCCCAwQQSysqLj00hNcrs9Kq2oUdOZHu3fWmQf8e38VhXmklTr5Vq2Wad85dbHmHdvaY3O9LSbyfGiq/1ngxO7Rcqb4/cBX5Xj+BrNV1p1RD/ZGduGVI/fwdpu926POd7rQ5Ftpzy2mMeYfbtdNY6xy29mNXcOz97yOp3dt84eP6K9YQmByS+QEQybJ3836AECCEQFhtTR7FfzmbPSNOmPfzST2vxZ4QR7pqNpY6vfPNg6OLvsNH0w92YtMlPRWmFfr5m99ayZPXbGzNmaO8cV94dLd1uzTv/+vAbff19Zcz6i2xfn2WWjDtGl3s5WvdncpvdM4Jp1wweVe/NC5eXmxNVrlRjo7lbv0JAyM7Plyhm+/V61nnxTbZ3Btmfpg3NytXBRvnKsxluVWO9D3Wr2v6WOd7v1vmnv++9P07yFS7TUTBo0UhGrKO8IIIBA2guYSXKOv9mq9943o4E5Pt+8cJFy7QNqr9pazViWOUOz5s01x9lhX2oOmOPr26d13nwr+f77WfrIx2438+uMdmRN9fg9oO7uXnPffaayzbeermHbT3Vs6e5o1lutnWYses+Mze9r2gfmackdS5O0Oe1/A+hgmgsQbKb5DqZ7CCCAAAIIIIAAAggggMB4CHAZ7Xios00EEEAAAQQQQAABBBBAIM0FCDbTfAfTPQQQQAABBBBAAAEEEEBgPAQINsdDnW0igAACCCCAAAIIIIAAAmkuQLCZ5juY7iGAAAIIIIAAAggggAAC4yFAsDke6mwTAQQQQAABBBBAAAEEEEhzAYLNNN/BdA8BBBBAAAEEEEAAAQQQGA8Bgs3xUGebCCCAAAIIIIAAAggggECaCxBspvkOpnsIIIAAAggggAACCCCAwHgIEGyOhzrbRAABBBBAAAEEEEAAAQTSXIBgM813MN1DAAEEEEAAAQQQQAABBMZDgGBzPNTZJgIIIIAAAggggAACCCCQ5gIEm2m+g+keAggggAACCCCAAAIIIDAeAgSb46HONhFAAAEEEEAAAQQQQACBNBcg2EzzHUz3EEAAAQQQQAABBBBAAIHxEMgcj42yTQQQQAABBK6VQOtLj+urdW9p3syZiTfZ16e+mR/WPZ++X/evXaE54zwyth16QmueOKQPzfLo2ed3Kj9bCvXhO01yFf69ntm5Rq7EPbm0tQPNevyhr6up16XibzyjdYuvaO2X1iZKIYAAAgikhcA4D6lpYUgnEEAAAQQmsEDf75rkq/UlbWFt9V5tkVe+U/u1ZhwDrnNtr8jf2GjaO0t/GFQo2Az1wWf60LNaT+9M2pWEGYY6j+u5mp/qvLJ1X/HDWp4b+RNgsE9NxicoVLTr6YRlWYkAAggggMClCBBsXooaZRBAAAEEJpFA9Eydp7hEi4ad4Hzn7WPyNfoj/fHJu+Qf5e/fpwJzRnE8XlmO85ZZkQYMXugJL527cMlN6v/Ny9qyY0eofMV9G02wmWPXFaldA/YaFhBAAAEEELh8AYLNyzekBgQQQACBSSHgVWWNCSITjHwDHUe1bf69qg71o1rf+uEj2rdh8YTplbvEp66NQ1LmDEVDxNSal5U13S6QneVAcLnl6+qSqV0zXJdau101CwgggAACCNgCjtHGXscCAggggAACaSnQ12+6FT3RafcxO3eFvtlUqerCbaF17/yhL5w2NKDeXlNohkuu7EwNdbfJ/6v/p/emfVAfKyxQjnMU7e3UyTeb9e77pui0G5R780LlO84e2htzLHS2Nes35/qUlZWlmbMWKD8vR46Y0M6ZmT1DrtC2nBu0k9XZelxN//lbBTetaR/QwiV3qMDUZb2Ghob0TudZ66POv9ulgYEsZWZnK9P8N8MVRslMVP1At06+/oZOd/8xVH7aB+bJfUehcmM6H656aKBX/f0mbI14yZRtffu0Ot59L2TykT9dpLw5CXaA3TIWEEAAAQTSSSDRsJJO/aMvCCCAAAII2ALWZan2CsfC0HvnHZ/Ciyef+5LcW3xScZWaSqTCe7dE8nh0rKdBy0Nx04Be+2657tq0J668PKU6/Gy5ivKHBVi9zXpi4xLtMFU7X+7icj3w4XbnqtDyyX3rwu3wVKmnYXM0Xg7W8/AXtaPWugzYUdRbrqaaMi2bcUqbZrhV60jatfIW7TKfK5t6tPX2t7VuRmHons3Kpi5tXRYNUtsa9mnNyi1KULtKKg/rm1uLom0x9fmrN6pwm+mUt1KHDdUjq7fFlfWU1un/PLXuks/QOrrBIgIIIIDABBcg2JzgO4jmIYAAAghcOQEz386IryFFLzO17mG0T4PWblGhM1qza+nVi4/co/V7E4VjJlPjXq28tUF1p16OzvLae1KbZ7kjl+zaFYUW/LW74oKzcI5IsDrLkb/7uDbOLowJIh2pkm+XCj8ptb/2efXGJDg/BC+etXvpTNDJ722W+4HwhcWhBLdH3g+ds+9vrd62UtWv16hr/5ftwDFreqSdvm1aOSyQtipv3LtemxY36eDmZdYq3hFAAAEE0lSA52ym6Y6lWwgggAAC8QLmatWEr46TL+mhe8OT5wQzeD52U8J8wTOVdYePqMlfo0ITV7W9tMsRaBbL52/XYCCgQH+76so8kTr8Wr9krzpCn4Z0aE9xNNB0l+pIy1kNDvarvanOzIUbfLlD/yb8x46CTT3lm6KBZnGlTp3tV8Bsu6f9mKKb3qXa12/W8/39aqkvt6ssr29RT0+PShxnMe3E4ELHIRU7As0Kkz9wokEHG06o65SZRMnKXLtJTx5qsz7FvZdU1qu9q9/0r0dHKovtdN8Lr48SANvZWEAAAQQQmOQCnNmc5DuQ5iOAAAIIjFXAp01f2ih3zBWtvWr3+2RPRhuqqlwPFuXGV1pyQF37Nthn8UxEpn/17o3k8+pI136tsK5Azc7Vut0/Vl3/8kgwukuvtH5N62a/rqo91lnQMrU07VZ+ZCTOXbZOB9vrVTR/tYIPPhn11fFT7bDPppaqpWarXY8rd7l2m0eZ7JkfDgkPvPprbV+xXPPnz7WrnDt3rlyR+zTtlfbCkBqee8I+w1rmO6Ptq/Ls1JzFa/R8i0+fu9Ubauce80zQr63a7HAJZy2uatI+++xltlZsfVqVB2u1Ldi5c2fVZU6qhu9DtatmAQEEEEAgzQQINtNsh9IdBBBAAIGRBfy+WjuISpjLnGk89tMyxYeabtX/kzPQlAZafxa67zFYj6eiLBpo2hVna+3mh6W94fs8f/FGu1bOezV0b2QwS6lvsx0g2kVyV2l7mVuNdkBqp8Qs9J4zExVF1pTUfSVBPSvkqyzXifP9uvkTN4dyOi8hvhCaezamSseHfr3dZIW7pXrwc9FA08qUnf8Z/Z2JZRuDl8o21uut3s2R+1etHB59ZcPwy2RzdM/aSCF/k35v5l3Kiwn8rbK8I4AAAgikiwDBZrrsSfqBAAIIIJBUwFtapttnDM/Wb2ZQna2ln/28/nrVspgJb6I53Zo7LDAa7IveCdm44y6tfcW+uNQu1nM6euPi6Y7zOt3xip12523z7GXnwvzbgpfRWqGkMyW63N70sv1h2UejZyztleY845qtO7UmumLsSwNn9HKk2e5Sj/IS/qWQLXeR6a8vnDHu6mTPKv3pMK9gA+x7OoPLY28RORFAAAEEJqlAwiFkkvaFZiOAAAIIIDCKQLEef3J3wudsjlIokhQNLEfK64sEXiOl95iEaLBVrIJbshNmXbDkTrO+NmGatXLwgrUkXRgMT/ITXXO5S4P2/ZQLFy80D0ZJ/Ir2JUH6rBuVuHcJ8rIKAQQQQCBtBUYaQ9K2w3QMAQQQQGCqCvRqpOdsXq6It8Knx1cvUF/k8Zzh+gbN8zNnmp/wp1kLlujcD6yg1a//emfAPAszPiT77S9fT9qcwQtWPTJz6I40lA/JPF5TmQkfnjnKJhzX2/acf3fEjO+eb7fTHEXC64KRNS8EEEAAgSkvwGy0U/5XAAAEEEBg6ghctUs3sxeooGCZli93/izXskUz1X76tE6f7gxGffrQnyyMYPv1ixPvJIAf0unm0S+hDRa6+Y677bJtv+2yl+2FoWZtzsgygW6W1u47bq8e04LrZhVFJtJtPPCzyCy6w0u2qX6HdV/nQn047tLk4fn5jAACCCAwFQUINqfiXqfPCCCAAAKXLeBadLesh3n4tu3TyYH4Ko/ufUirvV55vSt16Eyv5i/9CzvT3p0vxAdyZpbZnfYss3bWuIWcjyy21+1JUE/nkTr78SrzXDPtvNbC9KyRzoYGc7iUuyiS028enXLUBMrDXp1HX9CeyDp32V/FT1A0LD8fEUAAAQSmpgDB5tTc7/QaAQQQQOByBbIL9JUK61ma1XJ/7nEd74xEnAMdeumJjbp3V+Tsn7tC9xe4lJn3WVVZ8wj5d2j+xqfV2hu+57K7tUEbzWNPkp/XNCdJ8z6jA1aka+pZvfm7agvVM6DWo/v0qZW7Ir1z6wufvDWup/X1v1BHZ7cSxMcmb7Y++5Uqu8yOez+lfUdb7c8dr31Xn3I8k3THg9GzrHYmFhBAAAEEEDACBJv8GiCAAAIITBmBuHsLU+h5orLLtz4r86SS8KtxlwrnzlDG0qXKmDFf3h21kQS36n64VXNCn1x6sLJeVhHVbtOts7K0dGmGZt+6Mm5aoETbDFearQ3/ckR23Fq9SbeYejIyZujWe7fYAau3qkarcsNnMV23fFxWaOzbsVrz585W9fHuSBtj31wFD6q+3Mrt15Z7bzX9KlJRUYbm37UpWn/lMW3Ij7/vNLa2xJ9G7lvi/KxFAAEEEJh8AgSbk2+f0WIEEEAAgVQEpluZXak/bsMuu1A3JrrhMztfu5vadaDMCvvMtvyOc5PuEh1ueVnrHAFZZt4qvXbmsErsiNNRxFuhw4erIsHoPM20tmm1Y5a1YLYzZ4UOdvlV7ti01VPz5E9V+Px6cfOy6CrXUj1WkTCznSc62VCmVu38iY4dKLPT5G9Uo3WbplkbrP/g1uXR9OCS1TxnOx05sqZbl/Q6+uZIZxEBBBBAIL0EMgLmlV5dojcIIIAAAghce4Hezla92dym98wpu6wbPqjcmxcqLzdnxLliZS5ibTt5Qq2d75kCWZqTu1gF+eHzn6m2vrutWafPhafCzbrxJt2SlyvXCLdlDnR3q9dMU5uZmS1Xjrm0N8nGhno75P9ls86aZkp/lG5YoMI7l2nOpZ3QTLI1khFAAAEE0kmAYDOd9iZ9QQABBBBAAAEEEEAAAQQmiACX0U6QHUEzEEAAAQQQQAABBBBAAIF0EiDYTKe9SV8QQAABBBBAAAEEEEAAgQkiQLA5QXYEzUAAAQQQQAABBBBAAAEE0kmAYDOd9iZ9QQABBBBAAAEEEEAAAQQmiADB5gTZETQDAQQQQAABBBBAAAEEEEgnAYLNdNqb9AUBBBBAAAEEEEAAAQQQmCACBJsTZEfQDAQQQAABBBBAAAEEEEAgnQQINtNpb9IXBBBAAAEEEEAAAQQQQGCCCBBsTpAdQTMQQAABBBBAAAEEEEAAgXQSINhMp71JXxBAAAEEEEAAAQQQQACBCSJAsDlBdgTNQAABBBBAAAEEEEAAAQTSSYBgM532Jn1BAAEEEEAAAQQQQAABBCaIAMHmBNkRNAMBBBBAAAEEEEAAAQQQSCcBgs102pv0BQEEEEAAAQQQQAABBBCYIAIEmxNkR9AMBBBAAAEEEEAAAQQQQCCdBP4/hGAqG6LAUT8AAAAASUVORK5CYII=)"
      ],
      "metadata": {
        "id": "C39xaX1ExhLg"
      }
    },
    {
      "cell_type": "markdown",
      "source": [
        "A false negative is more damaging than a false positive"
      ],
      "metadata": {
        "id": "-PgyMB_IyEao"
      }
    },
    {
      "cell_type": "markdown",
      "source": [
        "ROC CURVE:\n",
        "\n",
        "![ROC curve 2.png](data:image/png;base64,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)"
      ],
      "metadata": {
        "id": "o8v42sCNxnAw"
      }
    }
  ]
}